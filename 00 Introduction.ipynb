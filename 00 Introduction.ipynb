{
 "cells": [
  {
   "cell_type": "markdown",
   "metadata": {},
   "source": [
    "# 0 Introduction"
   ]
  },
  {
   "cell_type": "markdown",
   "metadata": {},
   "source": [
    "----\n",
    "## 0.1 Automata, Computability, and Complexity\n",
    "\n",
    "계산이론(theory of computation)의 전통적인 주요한 세 가지 분야가 오토마타, 계산가능성이론, 계산복잡도이론\n",
    "\n",
    "계산이론의 분야는 모두 다음의 물음에 대한 답을 추구하는 것과 관련이 있다:\n",
    "> What are the fundamental capabilities and limitations of computers?\n",
    "\n",
    "> 컴퓨터의 근본적인 능력과 그 한계는 무엇인가?\n",
    "\n",
    "이러한 물음은 1930년 수리논리학자들이 계산의 의미를 탐색하기 시작한 시절까지 거슬러 올라간다\n",
    "\n",
    "\n",
    "### complexity theory\n",
    "\n",
    "어떤 문제는 계산의 측면에서 어렵고 또 다른 문제는 쉽게 만드는 것은 무엇인가?\n",
    "\n",
    "### computability theory\n",
    "\n",
    "계산으로 해결 가능한 문제인지 아닌지\n",
    "\n",
    "계산가능성 이론에서 나온 개념을 계산복잡도 이론에서 활용하기도 하는 등 관련이 있다\n",
    "\n",
    "### automata\n",
    "\n",
    "계산의 구체적인 수학적 모델의 정의와 그 성질에 대한 탐구"
   ]
  },
  {
   "cell_type": "markdown",
   "metadata": {},
   "source": [
    "----\n",
    "## 0.2 Mathematical Notions and Terminology\n",
    "\n",
    "* 집합(set)\n",
    "\n",
    "  원소(element) 혹은 구성원(member)의 모여 집합을 이룬다\n",
    "\n",
    "  원소의 순서나 반복 회수는 고려하지 않음\n",
    "\n",
    "  부분집합(subset), 진부분집합(proper subset)\n",
    "  \n",
    "* 다중집합(multiset)\n",
    "\n",
    "  원소의 반복 회수를 고려\n",
    "\n",
    "* 멱집합(powerset)\n",
    "\n",
    "* 열(sequence)과 튜플(tuple)\n",
    "\n",
    "  k개의 원소로 이루어진 튜플을 k-튜플(k-tuple)\n",
    "  \n",
    "  2-튜플을 순서쌍(pair)이라고 한다\n",
    "  \n",
    "  순서쌍을 pair가 아닌 그냥 tuple의 의미로 쓰기도 한다 세순서쌍(3-tuple) 네순서쌍(4-tuple) 이런 식으로\n",
    "  \n",
    "* 카테시안곱(cartesian product)\n",
    "\n",
    "  같은 집합의 반복적인 카테시안곱을 $A^k$로 표기\n",
    "  \n",
    "* 함수(function)\n",
    "\n",
    "  정의역, 공역, 치역 codomain, range, image\n",
    "  \n",
    "* 함수의 항수(arity)\n",
    "\n",
    "  차수가 k이면 k항함수(k-ary function)\n",
    "  \n",
    "  차수가 1인 함수를 일항함수(unary function)\n",
    "  \n",
    "  차수가 2인 함수를 이항함수(binary function)\n",
    "\n",
    "  보통의 전위표기법(prefix notation) 대신 중위위표기법(infix notation)으로 이항함수를 표기하기도 한다\n",
    "\n",
    "* 관계(relation)\n",
    "\n",
    "  술어(predicate) 또는 성질(property)라고도 한다\n",
    "  \n",
    "  치역이 진리값인 함수로 이해할 수 있으며 항수도 함수의 경우와 같이 정의된다\n",
    "  \n",
    "* 이항관계(binary relation)이 가질 수 있는 성질\n",
    "\n",
    "  equivalence = reflexive & symmetric & transitive\n",
    "  \n",
    "* 그래프(graph)\n",
    "\n",
    "* Boolean logic\n",
    "\n",
    "* Summary of mathematical terms "
   ]
  },
  {
   "cell_type": "markdown",
   "metadata": {},
   "source": [
    "----\n",
    "## 0.3 Definitions, Theorems, and Proofs\n",
    "\n",
    "* Finding proofs"
   ]
  },
  {
   "cell_type": "markdown",
   "metadata": {},
   "source": [
    "----\n",
    "## 0.4 Types of Proof\n",
    "\n",
    "* proof by construction\n",
    "\n",
    "* proof by contradiction\n",
    "\n",
    "* proof by induction\n"
   ]
  },
  {
   "cell_type": "code",
   "execution_count": null,
   "metadata": {},
   "outputs": [],
   "source": []
  }
 ],
 "metadata": {
  "kernelspec": {
   "display_name": "Haskell",
   "language": "haskell",
   "name": "haskell"
  },
  "language_info": {
   "codemirror_mode": "ihaskell",
   "file_extension": ".hs",
   "name": "haskell",
   "pygments_lexer": "Haskell",
   "version": "8.6.5"
  }
 },
 "nbformat": 4,
 "nbformat_minor": 4
}
