{
 "cells": [
  {
   "cell_type": "markdown",
   "metadata": {},
   "source": [
    "# 0 Introduction"
   ]
  },
  {
   "cell_type": "markdown",
   "metadata": {},
   "source": [
    "----\n",
    "## 0.1 Automata, Computability, and Complexity\n",
    "\n",
    "계산이론(theory of computation)의 전통적인 주요한 세 가지 분야가 오토마타, 계산가능성이론, 계산복잡도이론\n",
    "\n",
    "계산이론의 분야는 모두 다음의 물음에 대한 답을 추구하는 것과 관련이 있다:\n",
    "> What are the fundamental capabilities and limitations of computers?\n",
    "\n",
    "> 컴퓨터의 근본적인 능력과 그 한계는 무엇인가?\n",
    "\n",
    "이러한 물음은 1930년 수리논리학자들이 계산의 의미를 탐색하기 시작한 시절까지 거슬러 올라간다\n",
    "\n",
    "\n",
    "### complexity theory\n",
    "\n",
    "어떤 문제는 계산의 측면에서 어렵고 또 다른 문제는 쉽게 만드는 것은 무엇인가?\n",
    "\n",
    "### computability theory\n",
    "\n",
    "계산으로 해결 가능한 문제인지 아닌지\n",
    "\n",
    "계산가능성 이론에서 나온 개념을 계산복잡도 이론에서 활용하기도 하는 등 관련이 있다\n",
    "\n",
    "### automata\n",
    "\n",
    "계산의 구체적인 수학적 모델의 정의와 그 성질에 대한 탐구"
   ]
  },
  {
   "cell_type": "markdown",
   "metadata": {},
   "source": [
    "----\n",
    "## 0.2 Mathematical Notions and Terminology\n",
    "\n",
    "* 집합(set)\n",
    "\n",
    "  원소(element) 혹은 구성원(member)의 모여 집합을 이룬다\n",
    "\n",
    "  원소의 순서나 반복 회수는 고려하지 않음\n",
    "\n",
    "  부분집합(subset), 진부분집합(proper subset)\n",
    "  \n",
    "* 다중집합(multiset)\n",
    "\n",
    "  원소의 반복 회수를 고려\n",
    "\n",
    "* 멱집합(powerset)\n",
    "\n",
    "* 열(sequence)과 튜플(tuple)\n",
    "\n",
    "  k개의 원소로 이루어진 튜플을 k-튜플(k-tuple)\n",
    "  \n",
    "  2-튜플을 순서쌍(pair)이라고 한다\n",
    "  \n",
    "  순서쌍을 pair가 아닌 그냥 tuple의 의미로 쓰기도 한다 세순서쌍(3-tuple) 네순서쌍(4-tuple) 이런 식으로\n",
    "  \n",
    "* 카테시안곱(cartesian product)\n",
    "\n",
    "  같은 집합의 반복적인 카테시안곱을 $A^k$로 표기\n",
    "  \n",
    "* 함수(function)\n",
    "\n",
    "  정의역, 공역, 치역\n",
    "  \n",
    "  domain, codomain, range, image\n",
    "  \n",
    "* 함수의 항수(arity)\n",
    "\n",
    "  항수가 k이면 k항함수(k-ary function)\n",
    "  \n",
    "  항수가 1인 함수를 일항함수(unary function)\n",
    "  \n",
    "  항수가 2인 함수를 이항함수(binary function)\n",
    "\n",
    "  보통의 전위표기법(prefix notation) 대신 중위위표기법(infix notation)으로 이항함수를 표기하기도 한다\n",
    "\n",
    "* 관계(relation)\n",
    "\n",
    "  술어(predicate) 또는 성질(property)라고도 한다\n",
    "  \n",
    "  공역이 진리값인 함수로 이해할 수 있으며 항수도 함수의 경우와 같이 정의된다\n",
    "  \n",
    "* 이항관계(binary relation)이 가질 수 있는 성질\n",
    "\n",
    "  equivalence = reflexive & symmetric & transitive\n",
    "  \n",
    "* 그래프(graph)\n",
    "\n",
    "* 문자열(string)과 언어(language)\n",
    "\n",
    "* Boolean logic\n",
    "\n",
    "* Summary of mathematical terms \n",
    "\n",
    "책에는 위와 같은 내용들이 나오는데 좀더 자세한 내용을 강의시간에 몇 개 더 짚고 넘어가겠습니다."
   ]
  },
  {
   "cell_type": "markdown",
   "metadata": {},
   "source": [
    "### 카테시안곱\n",
    "집합 $A$와 집합$B$의 카테시안곱을 조건제시법으로 나타내면\n",
    "\n",
    "$A\\times B = \\{ (a,b) \\mid a\\in A, b\\in B \\}$\n",
    "\n",
    "예를 들어 $A = \\{1,2,3\\}$이고 $B=\\{a,b,c\\}$"
   ]
  },
  {
   "cell_type": "code",
   "execution_count": 10,
   "metadata": {},
   "outputs": [
    {
     "data": {
      "text/plain": [
       "[(1,\"a\"),(1,\"b\"),(1,\"c\"),(2,\"a\"),(2,\"b\"),(2,\"c\"),(3,\"a\"),(3,\"b\"),(3,\"c\")]"
      ]
     },
     "metadata": {},
     "output_type": "display_data"
    }
   ],
   "source": [
    "-- 하스켈 프로그램으로는 이렇게 (집합을 리스트로 표현)\n",
    "\n",
    "as = [ 1 , 2 , 3 ]\n",
    "bs = [\"a\",\"b\",\"c\"]\n",
    "\n",
    "-- A x B\n",
    "[ (a,b) | a<-as, b<-bs ]"
   ]
  },
  {
   "cell_type": "markdown",
   "metadata": {},
   "source": [
    "### 함수와 순서쌍의 집합\n",
    "$A = \\{1,2,3\\}$, $B = \\{a,b,c\\}$이고 $f : A \\to B$가 다음과 같이 정의될 때\n",
    "\n",
    "$\\begin{align*}\n",
    "f(1) & = a \\\\\n",
    "f(2) & = b \\\\\n",
    "f(3) & = a\n",
    "\\end{align*}$\n",
    "\n",
    "이 함수를 순서쌍의 집합으로 이해할 수 있다.\n",
    "\n",
    "$\\{(1,a), (2,b), (3,a)\\}$\n",
    "\n",
    "반대로 이런 순서쌍의 집합으로부터 앞의 함수 정의로 연결지어 생각할 수 있다."
   ]
  },
  {
   "cell_type": "code",
   "execution_count": 29,
   "metadata": {},
   "outputs": [
    {
     "data": {
      "text/html": [
       "<style>/* Styles used for the Hoogle display in the pager */\n",
       ".hoogle-doc {\n",
       "display: block;\n",
       "padding-bottom: 1.3em;\n",
       "padding-left: 0.4em;\n",
       "}\n",
       ".hoogle-code {\n",
       "display: block;\n",
       "font-family: monospace;\n",
       "white-space: pre;\n",
       "}\n",
       ".hoogle-text {\n",
       "display: block;\n",
       "}\n",
       ".hoogle-name {\n",
       "color: green;\n",
       "font-weight: bold;\n",
       "}\n",
       ".hoogle-head {\n",
       "font-weight: bold;\n",
       "}\n",
       ".hoogle-sub {\n",
       "display: block;\n",
       "margin-left: 0.4em;\n",
       "}\n",
       ".hoogle-package {\n",
       "font-weight: bold;\n",
       "font-style: italic;\n",
       "}\n",
       ".hoogle-module {\n",
       "font-weight: bold;\n",
       "}\n",
       ".hoogle-class {\n",
       "font-weight: bold;\n",
       "}\n",
       ".get-type {\n",
       "color: green;\n",
       "font-weight: bold;\n",
       "font-family: monospace;\n",
       "display: block;\n",
       "white-space: pre-wrap;\n",
       "}\n",
       ".show-type {\n",
       "color: green;\n",
       "font-weight: bold;\n",
       "font-family: monospace;\n",
       "margin-left: 1em;\n",
       "}\n",
       ".mono {\n",
       "font-family: monospace;\n",
       "display: block;\n",
       "}\n",
       ".err-msg {\n",
       "color: red;\n",
       "font-style: italic;\n",
       "font-family: monospace;\n",
       "white-space: pre;\n",
       "display: block;\n",
       "}\n",
       "#unshowable {\n",
       "color: red;\n",
       "font-weight: bold;\n",
       "}\n",
       ".err-msg.in.collapse {\n",
       "padding-top: 0.7em;\n",
       "}\n",
       ".highlight-code {\n",
       "white-space: pre;\n",
       "font-family: monospace;\n",
       "}\n",
       ".suggestion-warning { \n",
       "font-weight: bold;\n",
       "color: rgb(200, 130, 0);\n",
       "}\n",
       ".suggestion-error { \n",
       "font-weight: bold;\n",
       "color: red;\n",
       "}\n",
       ".suggestion-name {\n",
       "font-weight: bold;\n",
       "}\n",
       "</style><div class=\"suggestion-name\" style=\"clear:both;\">Replace case with fromMaybe</div><div class=\"suggestion-row\" style=\"float: left;\"><div class=\"suggestion-warning\">Found:</div><div class=\"highlight-code\" id=\"haskell\">case lookup x ps of\n",
       "    Just y -> y\n",
       "    Nothing -> error \"not defined\"</div></div><div class=\"suggestion-row\" style=\"float: left;\"><div class=\"suggestion-warning\">Why Not:</div><div class=\"highlight-code\" id=\"haskell\">Data.Maybe.fromMaybe (error \"not defined\") (lookup x ps)</div></div>"
      ],
      "text/plain": [
       "Line 12: Replace case with fromMaybe\n",
       "Found:\n",
       "case lookup x ps of\n",
       "    Just y -> y\n",
       "    Nothing -> error \"not defined\"\n",
       "Why not:\n",
       "Data.Maybe.fromMaybe (error \"not defined\") (lookup x ps)"
      ]
     },
     "metadata": {},
     "output_type": "display_data"
    },
    {
     "data": {
      "text/plain": [
       "\"a\""
      ]
     },
     "metadata": {},
     "output_type": "display_data"
    },
    {
     "data": {
      "text/plain": [
       "\"b\""
      ]
     },
     "metadata": {},
     "output_type": "display_data"
    },
    {
     "data": {
      "text/plain": [
       "\"a\""
      ]
     },
     "metadata": {},
     "output_type": "display_data"
    }
   ],
   "source": [
    "-- 리스트로 표현된 순서쌍 집합으로부터 함수를 만들어보자\n",
    "\n",
    "ps = [(1,\"a\"),(2,\"b\"),(3,\"a\")]\n",
    "\n",
    "{-\n",
    "lookup 1 ps\n",
    "lookup 2 ps\n",
    "lookup 3 ps\n",
    "lookup 4 ps\n",
    "-}\n",
    "\n",
    "f x = case lookup x ps of\n",
    "        Just y  -> y\n",
    "        Nothing -> error \"not defined\"\n",
    "        \n",
    "f 1\n",
    "f 2\n",
    "f 3"
   ]
  },
  {
   "cell_type": "code",
   "execution_count": 30,
   "metadata": {},
   "outputs": [
    {
     "data": {
      "text/plain": [
       "[(1,\"a\"),(2,\"b\"),(3,\"c\")]"
      ]
     },
     "metadata": {},
     "output_type": "display_data"
    }
   ],
   "source": [
    "-- 함수로부터 리스트로 표현된 순서쌍 집합 만들어보기\n",
    "\n",
    "as = [ 1 , 2 , 3 ]  -- A\n",
    "bs = [\"a\",\"b\",\"c\"]  -- B\n",
    "\n",
    "-- f : A -> B\n",
    "f 1 = \"a\"\n",
    "f 2 = \"b\"\n",
    "f 3 = \"c\"\n",
    "\n",
    "[ (x, f x) | x<-as ]"
   ]
  },
  {
   "cell_type": "markdown",
   "metadata": {},
   "source": [
    "### 관계를 집합으로\n",
    "관계를 나타내는 집합을 이항관계를 예로 들어 알아보자. 참고로 $Bool = \\{\\mathsf{True},\\mathsf{False}\\}$.\n",
    "\n",
    "이항관계 $R : B \\times B \\to Bool$에 대해 $R(x,y)=\\mathsf{True}$인 순서쌍 $(x,y)$로 이루어진 집합으로도 표현할 수 있다.\n",
    "\n",
    "\n",
    "조건제시법으로 간단히 표시하면\n",
    "\n",
    "$\\{ (x,y) \\mid x\\in B, y\\in B, R(x,y)=\\mathsf{True} \\}$\n",
    "\n",
    "$\\{ (x,y) \\mid x\\in B, y\\in B, R(x,y) \\}$\n",
    "\n",
    "$\\{ (x,y) \\mid x\\in B, y\\in B, xRy \\}$\n",
    "\n",
    "----\n",
    "\n",
    "$B = \\{a,b,c\\}$라고 하자.\n",
    "\n",
    "예를 들어 관계 $R$의 함수로서 정의가 다음과 같을 때,\n",
    "\n",
    "$\\begin{align*}\n",
    "&R(a,a) = \\mathsf{False} && R(a,b) = \\mathsf{True}  && R(a,c) = \\mathsf{False} \\\\\n",
    "&R(b,a) = \\mathsf{False} && R(b,b) = \\mathsf{False} && R(b,c) = \\mathsf{True} \\\\\n",
    "&R(c,a) = \\mathsf{True}  && R(c,b) = \\mathsf{False} && R(c,c) = \\mathsf{False}\n",
    "\\end{align*}$\n",
    "\n",
    "이 관계를 집합로 나타내면 $\\{ (a,b), (b,c), (c,a) \\}$\n",
    "\n",
    "이항관계는 방향그래프에 대응된다. 이항관계를 나타내는 집합이 바로 방향그래프에서 화살표(edge)를 나타내는 집합이다."
   ]
  },
  {
   "cell_type": "code",
   "execution_count": 33,
   "metadata": {},
   "outputs": [
    {
     "data": {
      "text/plain": [
       "[(\"a\",\"b\"),(\"b\",\"c\"),(\"c\",\"a\")]"
      ]
     },
     "metadata": {},
     "output_type": "display_data"
    }
   ],
   "source": [
    "-- 함수로써 정의된 관계를 집합으로\n",
    "r(\"a\",\"a\") = False\n",
    "r(\"a\",\"b\") = True\n",
    "r(\"a\",\"c\") = False\n",
    "r(\"b\",\"a\") = False\n",
    "r(\"b\",\"b\") = False\n",
    "r(\"b\",\"c\") = True\n",
    "r(\"c\",\"a\") = True\n",
    "r(\"c\",\"b\") = False\n",
    "r(\"c\",\"c\") = False\n",
    "\n",
    "-- B\n",
    "bs = [\"a\",\"b\",\"c\"]\n",
    "\n",
    "-- 위 관계를 나타내는 집합\n",
    "[(x,y) | x<-bs, y<-bs, r(x,y)]"
   ]
  },
  {
   "cell_type": "code",
   "execution_count": 44,
   "metadata": {},
   "outputs": [
    {
     "data": {
      "text/plain": [
       "True"
      ]
     },
     "metadata": {},
     "output_type": "display_data"
    },
    {
     "data": {
      "text/plain": [
       "False"
      ]
     },
     "metadata": {},
     "output_type": "display_data"
    },
    {
     "data": {
      "text/plain": [
       "True"
      ]
     },
     "metadata": {},
     "output_type": "display_data"
    },
    {
     "data": {
      "text/plain": [
       "True"
      ]
     },
     "metadata": {},
     "output_type": "display_data"
    }
   ],
   "source": [
    "-- 집합으로 나타난 관계로부터 함수를 정의해 보자\n",
    "ps = [(\"a\",\"b\"),(\"b\",\"c\"),(\"c\",\"a\")]\n",
    "\n",
    "r(x,y) = (x,y) `elem` ps\n",
    "\n",
    "r(\"a\",\"b\")\n",
    "r(\"b\",\"a\")\n",
    "r(\"b\",\"c\")\n",
    "r(\"c\",\"a\")"
   ]
  },
  {
   "cell_type": "markdown",
   "metadata": {},
   "source": [
    "## 문자열(string)과 언어(language)\n",
    "\n",
    "* 알파벳 - 문자열을 만들어내는 글자 혹은 기호(symbol)들의 유한 집합.\n",
    "\n",
    "  알파벳은 $\\Sigma$나 $\\Gamma$같은 그리스 대문자로 표시\n",
    "  \n",
    "  알파벳의 원소는 $a$, $b$ 등으로 주로 표시\n",
    "\n",
    "* 문자열 - 글자 혹은 기호(알파벳의 원소)로 이루어진 유한열(finite sequence) 혹은 유한한 길이의 리스트\n",
    "\n",
    "  $x$, $y$, $z$, $w$ 등으로 주로 표시\n",
    "  \n",
    "  유한열은 튜플(tuple)이므로 $x=(a_1,a_2,\\ldots,a_k)$와 같은 의미이긴 하지만<br>\n",
    "  문자열로서 다룰 때는 그냥 $x=a_1a_2 \\cdots a_k$라고 표기\n",
    " \n",
    "* 언어 - 문자열의 집합으로 정의\n",
    "\n",
    "  $L$ 등으로 표시\n",
    "\n",
    "* 공문자열(empty string) - 길이 0인 문자열. $\\varepsilon$으로 표기.\n",
    "\n",
    "예)\n",
    "알파벳 $\\Sigma = \\{a,b\\}$인 언어 $L = \\{ x \\mid \\text{$x$는 $a$로 시작하고 $b$로 끝나는 문자열} \\}$이라 하면,\n",
    "\n",
    "$\\begin{align*}\n",
    " && a & \\notin L \\\\\n",
    " && ab & \\in L \\\\\n",
    " && bab & \\notin L \\\\\n",
    " && abab & \\in L \\\\\n",
    " && abba & \\notin L\n",
    "\\end{align*}$"
   ]
  },
  {
   "cell_type": "markdown",
   "metadata": {},
   "source": [
    "## 라벨된 방향그래프 (labeled digraphs)\n",
    "\n",
    "책의 0장에서 소개하지는 않지만 화살표에 라벨이 붙어 있는 방향그래프(edge-labeled directed graph 줄여서 labeled digraph) 에 대해 알아보도록 하자."
   ]
  },
  {
   "cell_type": "markdown",
   "metadata": {},
   "source": [
    "----\n",
    "## 0.3 Definitions, Theorems, and Proofs\n",
    "\n",
    "* Finding proofs"
   ]
  },
  {
   "cell_type": "markdown",
   "metadata": {},
   "source": [
    "----\n",
    "## 0.4 Types of Proof\n",
    "\n",
    "* proof by construction\n",
    "\n",
    "* proof by contradiction\n",
    "\n",
    "* proof by induction\n"
   ]
  },
  {
   "cell_type": "code",
   "execution_count": null,
   "metadata": {},
   "outputs": [],
   "source": []
  }
 ],
 "metadata": {
  "kernelspec": {
   "display_name": "Haskell",
   "language": "haskell",
   "name": "haskell"
  },
  "language_info": {
   "codemirror_mode": "ihaskell",
   "file_extension": ".hs",
   "name": "haskell",
   "pygments_lexer": "Haskell",
   "version": "8.6.5"
  }
 },
 "nbformat": 4,
 "nbformat_minor": 4
}
