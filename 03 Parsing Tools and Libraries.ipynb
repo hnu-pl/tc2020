{
 "cells": [
  {
   "cell_type": "markdown",
   "metadata": {},
   "source": [
    "주의: 깃헙 리포 페이제이 링크된 mybinder를 통해 웹브라우저에서 클라우드를 통해 실행하는 도커 이미지에는 BNFC-meta는 포함되어 있지 않고 아래 `install.sh`도 성공하지 못할 것이므로 이 노트북은 실행되지 않음! 추가 라이브러리 설치가 가능할 정도로 리소스가 충분한 도커 이미지 실행 환경에서만 가능함."
   ]
  },
  {
   "cell_type": "code",
   "execution_count": 1,
   "metadata": {},
   "outputs": [
    {
     "data": {
      "text/plain": [
       "    BNFC-meta-0.6.1"
      ]
     },
     "metadata": {},
     "output_type": "display_data"
    }
   ],
   "source": [
    ":!./install.sh -- 성공적으로 설치되면 상단바의 리로드 ⟳ 버튼 누르기"
   ]
  },
  {
   "cell_type": "code",
   "execution_count": 2,
   "metadata": {},
   "outputs": [],
   "source": [
    "{-# LANGUAGE QuasiQuotes #-}\n",
    "{-# LANGUAGE TemplateHaskell #-}\n",
    "\n",
    "module Expr where\n",
    "\n",
    "import Language.LBNF\n",
    "\n",
    "bnfc [lbnf|\n",
    "\n",
    "    EAdd. Expr   ::= Expr  \"+\" Expr1 ; -- expr\n",
    "    EMul. Expr1  ::= Expr1 \"*\" Expr2 ; -- term\n",
    "    EInt. Expr2  ::= Integer ;       -- factor\n",
    "\n",
    " -- coercions\n",
    "    _.  Expr  ::= Expr1 ;  -- a term can be an expr\n",
    "    _.  Expr1 ::= Expr2 ;  -- a factor can be a term\n",
    "--    _.  Expr2 ::= \"(\" Expr \")\" ; -- any parenthesized expr is a term\n",
    "\n",
    "    entrypoints Expr;\n",
    "|]"
   ]
  },
  {
   "cell_type": "code",
   "execution_count": 3,
   "metadata": {},
   "outputs": [
    {
     "data": {},
     "metadata": {},
     "output_type": "display_data"
    },
    {
     "data": {
      "text/html": [
       "<style>/* Styles used for the Hoogle display in the pager */\n",
       ".hoogle-doc {\n",
       "display: block;\n",
       "padding-bottom: 1.3em;\n",
       "padding-left: 0.4em;\n",
       "}\n",
       ".hoogle-code {\n",
       "display: block;\n",
       "font-family: monospace;\n",
       "white-space: pre;\n",
       "}\n",
       ".hoogle-text {\n",
       "display: block;\n",
       "}\n",
       ".hoogle-name {\n",
       "color: green;\n",
       "font-weight: bold;\n",
       "}\n",
       ".hoogle-head {\n",
       "font-weight: bold;\n",
       "}\n",
       ".hoogle-sub {\n",
       "display: block;\n",
       "margin-left: 0.4em;\n",
       "}\n",
       ".hoogle-package {\n",
       "font-weight: bold;\n",
       "font-style: italic;\n",
       "}\n",
       ".hoogle-module {\n",
       "font-weight: bold;\n",
       "}\n",
       ".hoogle-class {\n",
       "font-weight: bold;\n",
       "}\n",
       ".get-type {\n",
       "color: green;\n",
       "font-weight: bold;\n",
       "font-family: monospace;\n",
       "display: block;\n",
       "white-space: pre-wrap;\n",
       "}\n",
       ".show-type {\n",
       "color: green;\n",
       "font-weight: bold;\n",
       "font-family: monospace;\n",
       "margin-left: 1em;\n",
       "}\n",
       ".mono {\n",
       "font-family: monospace;\n",
       "display: block;\n",
       "}\n",
       ".err-msg {\n",
       "color: red;\n",
       "font-style: italic;\n",
       "font-family: monospace;\n",
       "white-space: pre;\n",
       "display: block;\n",
       "}\n",
       "#unshowable {\n",
       "color: red;\n",
       "font-weight: bold;\n",
       "}\n",
       ".err-msg.in.collapse {\n",
       "padding-top: 0.7em;\n",
       "}\n",
       ".highlight-code {\n",
       "white-space: pre;\n",
       "font-family: monospace;\n",
       "}\n",
       ".suggestion-warning { \n",
       "font-weight: bold;\n",
       "color: rgb(200, 130, 0);\n",
       "}\n",
       ".suggestion-error { \n",
       "font-weight: bold;\n",
       "color: red;\n",
       "}\n",
       ".suggestion-name {\n",
       "font-weight: bold;\n",
       "}\n",
       "</style><span class='get-type'>expr :: QuasiQuoter</span>"
      ],
      "text/plain": [
       "expr :: QuasiQuoter"
      ]
     },
     "metadata": {},
     "output_type": "display_data"
    },
    {
     "data": {
      "text/html": [
       "<div style='background: rgb(247, 247, 247);'><form><textarea id='code'>data Expr = EAdd Expr Expr | EMul Expr Expr | EInt Integer \t-- Defined at Expr.hs:8:1\n",
       "instance Show Expr -- Defined at Expr.hs:8:1\n",
       "instance Ord Expr -- Defined at Expr.hs:8:1\n",
       "instance Eq Expr -- Defined at Expr.hs:8:1\n",
       "</textarea></form></div><script>CodeMirror.fromTextArea(document.getElementById('code'), {mode: 'haskell', readOnly: 'nocursor'});</script>"
      ],
      "text/plain": [
       "data Expr = EAdd Expr Expr | EMul Expr Expr | EInt Integer \t-- Defined at Expr.hs:8:1\n",
       "instance Show Expr -- Defined at Expr.hs:8:1\n",
       "instance Ord Expr -- Defined at Expr.hs:8:1\n",
       "instance Eq Expr -- Defined at Expr.hs:8:1"
      ]
     },
     "metadata": {},
     "output_type": "display_data"
    }
   ],
   "source": [
    "import Expr\n",
    "\n",
    ":info Expr\n",
    ":type expr"
   ]
  },
  {
   "cell_type": "code",
   "execution_count": 4,
   "metadata": {},
   "outputs": [
    {
     "data": {
      "text/html": [
       "<style>/* Styles used for the Hoogle display in the pager */\n",
       ".hoogle-doc {\n",
       "display: block;\n",
       "padding-bottom: 1.3em;\n",
       "padding-left: 0.4em;\n",
       "}\n",
       ".hoogle-code {\n",
       "display: block;\n",
       "font-family: monospace;\n",
       "white-space: pre;\n",
       "}\n",
       ".hoogle-text {\n",
       "display: block;\n",
       "}\n",
       ".hoogle-name {\n",
       "color: green;\n",
       "font-weight: bold;\n",
       "}\n",
       ".hoogle-head {\n",
       "font-weight: bold;\n",
       "}\n",
       ".hoogle-sub {\n",
       "display: block;\n",
       "margin-left: 0.4em;\n",
       "}\n",
       ".hoogle-package {\n",
       "font-weight: bold;\n",
       "font-style: italic;\n",
       "}\n",
       ".hoogle-module {\n",
       "font-weight: bold;\n",
       "}\n",
       ".hoogle-class {\n",
       "font-weight: bold;\n",
       "}\n",
       ".get-type {\n",
       "color: green;\n",
       "font-weight: bold;\n",
       "font-family: monospace;\n",
       "display: block;\n",
       "white-space: pre-wrap;\n",
       "}\n",
       ".show-type {\n",
       "color: green;\n",
       "font-weight: bold;\n",
       "font-family: monospace;\n",
       "margin-left: 1em;\n",
       "}\n",
       ".mono {\n",
       "font-family: monospace;\n",
       "display: block;\n",
       "}\n",
       ".err-msg {\n",
       "color: red;\n",
       "font-style: italic;\n",
       "font-family: monospace;\n",
       "white-space: pre;\n",
       "display: block;\n",
       "}\n",
       "#unshowable {\n",
       "color: red;\n",
       "font-weight: bold;\n",
       "}\n",
       ".err-msg.in.collapse {\n",
       "padding-top: 0.7em;\n",
       "}\n",
       ".highlight-code {\n",
       "white-space: pre;\n",
       "font-family: monospace;\n",
       "}\n",
       ".suggestion-warning { \n",
       "font-weight: bold;\n",
       "color: rgb(200, 130, 0);\n",
       "}\n",
       ".suggestion-error { \n",
       "font-weight: bold;\n",
       "color: red;\n",
       "}\n",
       ".suggestion-name {\n",
       "font-weight: bold;\n",
       "}\n",
       "</style><span class='get-type'>[expr| 2 + 3 * 4 |] :: Expr</span>"
      ],
      "text/plain": [
       "[expr| 2 + 3 * 4 |] :: Expr"
      ]
     },
     "metadata": {},
     "output_type": "display_data"
    }
   ],
   "source": [
    ":type [expr| 2 + 3 * 4 |]"
   ]
  },
  {
   "cell_type": "code",
   "execution_count": 5,
   "metadata": {},
   "outputs": [
    {
     "data": {
      "text/plain": [
       "EAdd (EInt 2) (EMul (EInt 3) (EInt 4))"
      ]
     },
     "metadata": {},
     "output_type": "display_data"
    }
   ],
   "source": [
    "[expr| 2 + 3 * 4 |]"
   ]
  },
  {
   "cell_type": "code",
   "execution_count": 6,
   "metadata": {},
   "outputs": [
    {
     "data": {
      "text/html": [
       "<style>/* Styles used for the Hoogle display in the pager */\n",
       ".hoogle-doc {\n",
       "display: block;\n",
       "padding-bottom: 1.3em;\n",
       "padding-left: 0.4em;\n",
       "}\n",
       ".hoogle-code {\n",
       "display: block;\n",
       "font-family: monospace;\n",
       "white-space: pre;\n",
       "}\n",
       ".hoogle-text {\n",
       "display: block;\n",
       "}\n",
       ".hoogle-name {\n",
       "color: green;\n",
       "font-weight: bold;\n",
       "}\n",
       ".hoogle-head {\n",
       "font-weight: bold;\n",
       "}\n",
       ".hoogle-sub {\n",
       "display: block;\n",
       "margin-left: 0.4em;\n",
       "}\n",
       ".hoogle-package {\n",
       "font-weight: bold;\n",
       "font-style: italic;\n",
       "}\n",
       ".hoogle-module {\n",
       "font-weight: bold;\n",
       "}\n",
       ".hoogle-class {\n",
       "font-weight: bold;\n",
       "}\n",
       ".get-type {\n",
       "color: green;\n",
       "font-weight: bold;\n",
       "font-family: monospace;\n",
       "display: block;\n",
       "white-space: pre-wrap;\n",
       "}\n",
       ".show-type {\n",
       "color: green;\n",
       "font-weight: bold;\n",
       "font-family: monospace;\n",
       "margin-left: 1em;\n",
       "}\n",
       ".mono {\n",
       "font-family: monospace;\n",
       "display: block;\n",
       "}\n",
       ".err-msg {\n",
       "color: red;\n",
       "font-style: italic;\n",
       "font-family: monospace;\n",
       "white-space: pre;\n",
       "display: block;\n",
       "}\n",
       "#unshowable {\n",
       "color: red;\n",
       "font-weight: bold;\n",
       "}\n",
       ".err-msg.in.collapse {\n",
       "padding-top: 0.7em;\n",
       "}\n",
       ".highlight-code {\n",
       "white-space: pre;\n",
       "font-family: monospace;\n",
       "}\n",
       ".suggestion-warning { \n",
       "font-weight: bold;\n",
       "color: rgb(200, 130, 0);\n",
       "}\n",
       ".suggestion-error { \n",
       "font-weight: bold;\n",
       "color: red;\n",
       "}\n",
       ".suggestion-name {\n",
       "font-weight: bold;\n",
       "}\n",
       "</style><span class='get-type'>pExpr :: [Token] -> ParseMonad Expr</span>"
      ],
      "text/plain": [
       "pExpr :: [Token] -> ParseMonad Expr"
      ]
     },
     "metadata": {},
     "output_type": "display_data"
    },
    {
     "data": {
      "text/html": [
       "<style>/* Styles used for the Hoogle display in the pager */\n",
       ".hoogle-doc {\n",
       "display: block;\n",
       "padding-bottom: 1.3em;\n",
       "padding-left: 0.4em;\n",
       "}\n",
       ".hoogle-code {\n",
       "display: block;\n",
       "font-family: monospace;\n",
       "white-space: pre;\n",
       "}\n",
       ".hoogle-text {\n",
       "display: block;\n",
       "}\n",
       ".hoogle-name {\n",
       "color: green;\n",
       "font-weight: bold;\n",
       "}\n",
       ".hoogle-head {\n",
       "font-weight: bold;\n",
       "}\n",
       ".hoogle-sub {\n",
       "display: block;\n",
       "margin-left: 0.4em;\n",
       "}\n",
       ".hoogle-package {\n",
       "font-weight: bold;\n",
       "font-style: italic;\n",
       "}\n",
       ".hoogle-module {\n",
       "font-weight: bold;\n",
       "}\n",
       ".hoogle-class {\n",
       "font-weight: bold;\n",
       "}\n",
       ".get-type {\n",
       "color: green;\n",
       "font-weight: bold;\n",
       "font-family: monospace;\n",
       "display: block;\n",
       "white-space: pre-wrap;\n",
       "}\n",
       ".show-type {\n",
       "color: green;\n",
       "font-weight: bold;\n",
       "font-family: monospace;\n",
       "margin-left: 1em;\n",
       "}\n",
       ".mono {\n",
       "font-family: monospace;\n",
       "display: block;\n",
       "}\n",
       ".err-msg {\n",
       "color: red;\n",
       "font-style: italic;\n",
       "font-family: monospace;\n",
       "white-space: pre;\n",
       "display: block;\n",
       "}\n",
       "#unshowable {\n",
       "color: red;\n",
       "font-weight: bold;\n",
       "}\n",
       ".err-msg.in.collapse {\n",
       "padding-top: 0.7em;\n",
       "}\n",
       ".highlight-code {\n",
       "white-space: pre;\n",
       "font-family: monospace;\n",
       "}\n",
       ".suggestion-warning { \n",
       "font-weight: bold;\n",
       "color: rgb(200, 130, 0);\n",
       "}\n",
       ".suggestion-error { \n",
       "font-weight: bold;\n",
       "color: red;\n",
       "}\n",
       ".suggestion-name {\n",
       "font-weight: bold;\n",
       "}\n",
       "</style><span class='get-type'>tokens :: String -> [Token]</span>"
      ],
      "text/plain": [
       "tokens :: String -> [Token]"
      ]
     },
     "metadata": {},
     "output_type": "display_data"
    }
   ],
   "source": [
    ":type pExpr\n",
    ":type tokens"
   ]
  },
  {
   "cell_type": "code",
   "execution_count": 7,
   "metadata": {},
   "outputs": [
    {
     "data": {
      "text/plain": [
       "[PT (Pn 0 1 1) (TI \"2\"),PT (Pn 2 1 3) (TS \"+\" 2),PT (Pn 4 1 5) (TI \"3\"),PT (Pn 6 1 7) (TS \"*\" 1),PT (Pn 8 1 9) (TI \"4\")]"
      ]
     },
     "metadata": {},
     "output_type": "display_data"
    },
    {
     "data": {
      "text/plain": [
       "Ok (EAdd (EInt 2) (EMul (EInt 3) (EInt 4)))"
      ]
     },
     "metadata": {},
     "output_type": "display_data"
    }
   ],
   "source": [
    "tokens \"2 + 3 * 4\"\n",
    "pExpr (tokens \"2 + 3 * 4 \")"
   ]
  },
  {
   "cell_type": "code",
   "execution_count": 8,
   "metadata": {},
   "outputs": [],
   "source": [
    "calc :: Expr -> Integer\n",
    "calc (EAdd e1 e2) = calc e1 + calc e2\n",
    "calc (EMul e1 e2) = calc e1 * calc e2\n",
    "calc (EInt v)     = v"
   ]
  },
  {
   "cell_type": "code",
   "execution_count": 9,
   "metadata": {},
   "outputs": [
    {
     "data": {
      "text/plain": [
       "14"
      ]
     },
     "metadata": {},
     "output_type": "display_data"
    }
   ],
   "source": [
    "calc [expr| 2 + 3 * 4 |]"
   ]
  },
  {
   "cell_type": "code",
   "execution_count": 10,
   "metadata": {},
   "outputs": [
    {
     "data": {
      "text/plain": [
       "Ok 14"
      ]
     },
     "metadata": {},
     "output_type": "display_data"
    }
   ],
   "source": [
    "calc <$> pExpr (tokens \" 2 + 3 * 4 \")"
   ]
  },
  {
   "cell_type": "code",
   "execution_count": 11,
   "metadata": {},
   "outputs": [
    {
     "data": {
      "text/html": [
       "<style>/* Styles used for the Hoogle display in the pager */\n",
       ".hoogle-doc {\n",
       "display: block;\n",
       "padding-bottom: 1.3em;\n",
       "padding-left: 0.4em;\n",
       "}\n",
       ".hoogle-code {\n",
       "display: block;\n",
       "font-family: monospace;\n",
       "white-space: pre;\n",
       "}\n",
       ".hoogle-text {\n",
       "display: block;\n",
       "}\n",
       ".hoogle-name {\n",
       "color: green;\n",
       "font-weight: bold;\n",
       "}\n",
       ".hoogle-head {\n",
       "font-weight: bold;\n",
       "}\n",
       ".hoogle-sub {\n",
       "display: block;\n",
       "margin-left: 0.4em;\n",
       "}\n",
       ".hoogle-package {\n",
       "font-weight: bold;\n",
       "font-style: italic;\n",
       "}\n",
       ".hoogle-module {\n",
       "font-weight: bold;\n",
       "}\n",
       ".hoogle-class {\n",
       "font-weight: bold;\n",
       "}\n",
       ".get-type {\n",
       "color: green;\n",
       "font-weight: bold;\n",
       "font-family: monospace;\n",
       "display: block;\n",
       "white-space: pre-wrap;\n",
       "}\n",
       ".show-type {\n",
       "color: green;\n",
       "font-weight: bold;\n",
       "font-family: monospace;\n",
       "margin-left: 1em;\n",
       "}\n",
       ".mono {\n",
       "font-family: monospace;\n",
       "display: block;\n",
       "}\n",
       ".err-msg {\n",
       "color: red;\n",
       "font-style: italic;\n",
       "font-family: monospace;\n",
       "white-space: pre;\n",
       "display: block;\n",
       "}\n",
       "#unshowable {\n",
       "color: red;\n",
       "font-weight: bold;\n",
       "}\n",
       ".err-msg.in.collapse {\n",
       "padding-top: 0.7em;\n",
       "}\n",
       ".highlight-code {\n",
       "white-space: pre;\n",
       "font-family: monospace;\n",
       "}\n",
       ".suggestion-warning { \n",
       "font-weight: bold;\n",
       "color: rgb(200, 130, 0);\n",
       "}\n",
       ".suggestion-error { \n",
       "font-weight: bold;\n",
       "color: red;\n",
       "}\n",
       ".suggestion-name {\n",
       "font-weight: bold;\n",
       "}\n",
       "</style><span class='get-type'>interpreter :: String -> ParseMonad Integer</span>"
      ],
      "text/plain": [
       "interpreter :: String -> ParseMonad Integer"
      ]
     },
     "metadata": {},
     "output_type": "display_data"
    }
   ],
   "source": [
    "interpreter = (calc <$>) . pExpr . tokens\n",
    "\n",
    ":type interpreter"
   ]
  },
  {
   "cell_type": "code",
   "execution_count": 12,
   "metadata": {},
   "outputs": [
    {
     "data": {
      "text/plain": [
       "Ok 14"
      ]
     },
     "metadata": {},
     "output_type": "display_data"
    }
   ],
   "source": [
    "interpreter \" 2 + 3 * 4 \""
   ]
  },
  {
   "cell_type": "code",
   "execution_count": 13,
   "metadata": {},
   "outputs": [
    {
     "ename": "",
     "evalue": "",
     "header": "MessageHeader {mhIdentifiers = [\"8bc17154-dea4-4dff-a72e-70c75e21591a\"], mhParentHeader = Just (MessageHeader {mhIdentifiers = [\"8bc17154-dea4-4dff-a72e-70c75e21591a\"], mhParentHeader = Nothing, mhMetadata = Metadata (fromList [(\"recordTiming\",Bool False),(\"deletedCells\",Array []),(\"cellId\",String \"98da6248-002e-402f-a86b-dd4b8b13fcc5\")]), mhMessageId = UUID {uuidToString = \"f9bc87bf-2f4d-4947-b77b-ecc0cde078e3\"}, mhSessionId = UUID {uuidToString = \"8bc17154-dea4-4dff-a72e-70c75e21591a\"}, mhUsername = \"\", mhMsgType = ExecuteRequestMessage, mhBuffers = []}), mhMetadata = Metadata (fromList []), mhMessageId = UUID {uuidToString = \"e045a68a-f930-4438-8a8d-984823d4f3c6\"}, mhSessionId = UUID {uuidToString = \"8bc17154-dea4-4dff-a72e-70c75e21591a\"}, mhUsername = \"\", mhMsgType = ExecuteErrorMessage, mhBuffers = []}",
     "output_type": "error",
     "traceback": [
      "<interactive>:1:6: error:\n    • Exception when trying to run compile-time code:\n        syntax error at line 1 due to lexer error\n      Code: Language.Haskell.TH.Quote.quoteExp expr \" (2 + 3) * 4 \"\n    • In the quasi-quotation: [expr| (2 + 3) * 4 |]"
     ]
    }
   ],
   "source": [
    "calc [expr| (2 + 3) * 4 |]"
   ]
  },
  {
   "cell_type": "code",
   "execution_count": 14,
   "metadata": {},
   "outputs": [
    {
     "ename": "",
     "evalue": "",
     "header": "MessageHeader {mhIdentifiers = [\"8bc17154-dea4-4dff-a72e-70c75e21591a\"], mhParentHeader = Just (MessageHeader {mhIdentifiers = [\"8bc17154-dea4-4dff-a72e-70c75e21591a\"], mhParentHeader = Nothing, mhMetadata = Metadata (fromList [(\"recordTiming\",Bool False),(\"deletedCells\",Array []),(\"cellId\",String \"448616df-4d51-4051-89b0-4d26da612f29\")]), mhMessageId = UUID {uuidToString = \"9fe84abd-199a-423b-b0ef-0b8249931a07\"}, mhSessionId = UUID {uuidToString = \"8bc17154-dea4-4dff-a72e-70c75e21591a\"}, mhUsername = \"\", mhMsgType = ExecuteRequestMessage, mhBuffers = []}), mhMetadata = Metadata (fromList []), mhMessageId = UUID {uuidToString = \"a6c5596d-13ab-43bf-8873-e51a0dd884f7\"}, mhSessionId = UUID {uuidToString = \"8bc17154-dea4-4dff-a72e-70c75e21591a\"}, mhUsername = \"\", mhMsgType = ExecuteErrorMessage, mhBuffers = []}",
     "output_type": "error",
     "traceback": [
      "syntax error at line 1 due to lexer error"
     ]
    }
   ],
   "source": [
    "interpreter \" (2 + 3) * 4 \""
   ]
  },
  {
   "cell_type": "markdown",
   "metadata": {},
   "source": [
    "----\n",
    "\n",
    "위에 있는 BNFC 명세는 Happy 파서 명세를 자동으로 만들어내고 그로부터 Happy 파서 생성기가 코드를 생성한다.\n",
    "(Haskell이 아닌 다른 언어로 뽑아내는 옵션을 주면 그 언어용 파서 생성기 명세를 자동으로 만들어내 활용)\n",
    "\n",
    "BNFC의 한단계 아래에 있는 Happy 명세는 대략 이런 모양이다.\n",
    "참고로 C/C++의 Yacc이나 Bison 파서 명세도 대략 비슷하게 생겼는데 왜냐하면,\n",
    "많은 LR기반의 파서 생성기들이 Yacc을 본따서 만들었기 때문.\n",
    "\n",
    "````\n",
    "{\n",
    "module Expr where\n",
    "\n",
    "data Expr = EAdd Expr Expr\n",
    "          | EMul Expr Expr\n",
    "          | EInt Integer\n",
    "}\n",
    "\n",
    "... 뭔가 여기 오는 것들이 조금 있는데 생략\n",
    "\n",
    "%token\n",
    "\n",
    "... 토큰 정의도 생략 ...\n",
    "\n",
    "%%\n",
    "\n",
    "Expr :: {Expr}\n",
    "  : Expr '+' Expr1      { EAdd $1 $3 }\n",
    "  | Expr1               { $1 }\n",
    "\n",
    "Expr1 :: {Expr}\n",
    "  : Expr1 '*' Expr2     { EMul $1 $3 }\n",
    "  | Expr2               { $1 }\n",
    "\n",
    "Expr2 :: {Expr}\n",
    "  : int                 { EInt $1 }\n",
    "  | '(' Expr ')'        { $2 }\n",
    "  \n",
    "{}\n",
    "````"
   ]
  },
  {
   "cell_type": "markdown",
   "metadata": {},
   "source": [
    "----\n",
    "\n",
    "일반적으로\n",
    " * LR계열 parsing\n",
    "    - 장점:\n",
    "       * left-recursive 문법 명세가 자유로움\n",
    "    - 단점: \n",
    "       * 내부동작을 문법분석 이론에 대해 공부해본 사람이 아니면 개념을 잡기가 어려움\n",
    "       * 에러 메시지 내용이나 가리키는 위치가 비직관적인 경우가 발생할 소지가 많음\n",
    "       \n",
    " * LL계열 parsing\n",
    "    - 단점:\n",
    "       * left-recursive 문법 명세가 귀찮음  \n",
    "    - 장점:\n",
    "       * 내부동작을 재귀함수 구현으로 이해하면 직관적\n",
    "       * 에러 메시지 위치나 내용이 비교적 직관적"
   ]
  },
  {
   "cell_type": "markdown",
   "metadata": {},
   "source": [
    "LR 계열의 bottom-up / table-driven 파서 생성기만 활용하냐 하면 그건 또 아님.\n",
    "\n",
    "LL 계열의 top-down / recursive-descendent 파서 생성기 및 라이브러리도 나름 많이 활용됨.\n",
    "\n",
    " * ANTLR같이 Java 등에서 많이 활용되는 (다른 언어로도 파서를 생성) 파서 생성기가 있다.<br>\n",
    "    - 이건 Happy보다는 BNFC의 수준에 있다고 보면 된다. (참고로 BNFC도 여러 언어로 파서를 생성)<br>\n",
    "    - left-recursive grammar 처리의 귀찮음을 다른 편의 기능으로 (예를 들면 문법분석된 나무구조를 확인해볼 수 있는 GUI를 함께 제공하는 등) 커버하고 있다고 볼 수 있음.\n",
    " * 소스코드 생성기가 아닌 라이브러리 형태 주로 Parser Combinator 라이브러리라라 부르는 것들도 있다.<br>\n",
    "    - 대표적인 것이 Haskell의 Parsec이 있고 이것을 본따서 (혹은 비슷한 아이디어로 조금 다르게) 다른 여러 언어에도\n",
    "\n",
    "\n",
    "파서 소스코드 생성기 vs. 파서 라이브러리\n",
    " * 소스코드 생성기\n",
    "    - 장점: 최적화된 소스코드 생성 가능\n",
    "    - 단점: 파서 명세와 함께 파서를 사용하는 SW 빌드에 프로그래밍언어 컴파일러 외에 별도의 도구에 의존성 증가\n",
    " * 파서 라이브러리\n",
    "    - 장점: SW 빌드에 프로그래밍언어 컴파일러 외에 별도의 도구에 의존성 증가 (파서 라이브러리도 해당 언어로 작성된 라이브러리일 뿐) \n",
    "    - 단점: LR같은 table driven 방식이라면 동적인 데이타 구조로 처리하는 것이 소스코드 생성에 비해 성능이 점 떨어질 수도 있음\n",
    "\n",
    "\n",
    "LL 그리고 LR 관련 기초 이론이 정리된지 수십년이지만 아직도 파서 구현에 대한 연구는 계속되고 있다.\n",
    "참고로 최근 (2020년 01월) 정보과학회논문지에도 http://168.131.151.113/paper/kiise202001.pdf 이런 논문이 발표되고 있다.\n",
    "이 수업을 들었으면 이런 논문을 봤을 때 자세한 내용까지는 혹시 이해가 안가더라도 어떤 걸 하고 있구나 하는 감을 잡을 수 있으면 이번 학기 수업의 나름의 목적을 달성했다고 생각합니다. "
   ]
  },
  {
   "cell_type": "markdown",
   "metadata": {},
   "source": [
    "----\n",
    "\n",
    "참고자료\n",
    "\n",
    "* http://168.131.151.113/paper/kiise202001.pdf\n",
    "* http://ANTLR.org\n",
    "* https://github.com/westes/flex\n",
    "* https://www.gnu.org/software/bison/\n",
    "* https://happy\n",
    "* https://bnfc.digitalgrammars.com/\n",
    "* https://github.com/haskell/parsec\n",
    "* https://en.wikipedia.org/wiki/Comparison_of_parser_generators"
   ]
  },
  {
   "cell_type": "code",
   "execution_count": null,
   "metadata": {},
   "outputs": [],
   "source": []
  }
 ],
 "metadata": {
  "kernelspec": {
   "display_name": "Haskell",
   "language": "haskell",
   "name": "haskell"
  },
  "language_info": {
   "codemirror_mode": "ihaskell",
   "file_extension": ".hs",
   "name": "haskell",
   "pygments_lexer": "Haskell",
   "version": "8.6.5"
  }
 },
 "nbformat": 4,
 "nbformat_minor": 4
}
