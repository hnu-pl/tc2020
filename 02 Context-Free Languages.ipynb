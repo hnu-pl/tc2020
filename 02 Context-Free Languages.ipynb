{
 "cells": [
  {
   "cell_type": "markdown",
   "metadata": {},
   "source": [
    "# 2 Context-Free Languages"
   ]
  },
  {
   "cell_type": "markdown",
   "metadata": {},
   "source": [
    "----\n",
    "## 2.1 Context-free Grammars\n",
    "\n",
    "### Formal definition of a context-free grammar\n",
    "\n",
    "$G = (V,\\Sigma,R,S)$\n",
    "\n",
    "$\\Gamma = V\\cup\\Sigma$\n",
    "\n",
    "$u\\Rightarrow w$라는 derivation은\n",
    "$u=u_1 A u_2$ 에 규칙 $A\\to w \\in R$를 적용해 $v=v_1 w v_2$를 얻을 수 있음을 뜻한다.\n",
    "($u,v,w,v_1,v_2\\in \\Gamma^*$, $A\\in V$)\n",
    "\n",
    "$G$가 만들어내는 언어는 $\\{ w \\mid w\\in\\Sigma^*, S\\Rightarrow^*w \\}$\n",
    "\n",
    "### Examples of context-free grammars\n",
    "\n",
    "### Designing context-free grammars\n",
    "\n",
    "### Ambiguity\n"
   ]
  },
  {
   "cell_type": "code",
   "execution_count": 1,
   "metadata": {},
   "outputs": [],
   "source": [
    "type Gamma = String\n",
    "type GString = [Gamma]\n",
    "\n",
    "newtype CFG = CFG ([Gamma],[Gamma],[Rule],Gamma) deriving Show\n",
    "\n",
    "data Rule = Gamma :-> GString deriving (Eq,Show)"
   ]
  },
  {
   "cell_type": "code",
   "execution_count": 2,
   "metadata": {},
   "outputs": [],
   "source": [
    "-- 교과서에 나오는 G3 문법\n",
    "cfgG3 = CFG ([\"S\"],[\"a\",\"b\"],rs,\"S\")\n",
    "  where\n",
    "  rs = [ \"S\" :-> [\"a\",\"S\",\"b\"]\n",
    "       , \"S\" :-> [\"S\",\"S\"]\n",
    "       , \"S\" :-> []\n",
    "       ]"
   ]
  },
  {
   "cell_type": "code",
   "execution_count": 3,
   "metadata": {},
   "outputs": [
    {
     "ename": "",
     "evalue": "",
     "header": "MessageHeader {mhIdentifiers = [\"8ec1f245-5fe1-4bf4-b517-01ba6b4bd660\"], mhParentHeader = Just (MessageHeader {mhIdentifiers = [\"8ec1f245-5fe1-4bf4-b517-01ba6b4bd660\"], mhParentHeader = Nothing, mhMetadata = Metadata (fromList [(\"recordTiming\",Bool False),(\"deletedCells\",Array [String \"12b50c28-0ebf-4af8-a543-e65f1590f4be\"]),(\"cellId\",String \"50b44275-b4f7-406e-842e-cde549a141f3\")]), mhMessageId = UUID {uuidToString = \"480a6904-e8de-4705-ace6-5cce4eaea84c\"}, mhSessionId = UUID {uuidToString = \"8ec1f245-5fe1-4bf4-b517-01ba6b4bd660\"}, mhUsername = \"\", mhMsgType = ExecuteRequestMessage}), mhMetadata = Metadata (fromList []), mhMessageId = UUID {uuidToString = \"0163c2cf-5549-468c-95c9-231fc70a4722\"}, mhSessionId = UUID {uuidToString = \"8ec1f245-5fe1-4bf4-b517-01ba6b4bd660\"}, mhUsername = \"\", mhMsgType = ExecuteErrorMessage}",
     "output_type": "error",
     "traceback": [
      "<interactive>:1:6: error:\n    • Variable not in scope: inits :: [Integer] -> [a]\n    • Perhaps you meant ‘init’ (imported from Prelude)\n<interactive>:1:24: error:\n    • Variable not in scope: tails :: [Integer] -> [b]\n    • Perhaps you meant ‘tail’ (imported from Prelude)"
     ]
    }
   ],
   "source": [
    "zip (inits [1,2,3,4]) (tails [1,2,3,4])"
   ]
  },
  {
   "cell_type": "code",
   "execution_count": 4,
   "metadata": {},
   "outputs": [],
   "source": [
    "import Data.List\n",
    "\n",
    "step (CFG(vs,as,rs,_)) gs = -- any step\n",
    "  [ gsL++gs'++gsR | (gsL, v : gsR) <- zip (inits gs) (tails gs),\n",
    "                    v `elem` vs, -- v 가 variable 이기만 하면 됨\n",
    "                    (v' :-> gs') <- rs, v==v' ]\n",
    "\n",
    "lstep (CFG(vs,as,rs,_)) gs = -- leftmost step\n",
    "  [ gsL++gs'++gsR | (gsL, v : gsR) <- zip (inits gs) (tails gs),\n",
    "                    all (`elem` as) gsL, v `elem` vs, -- v는 가장 왼쪽의 variable\n",
    "                    (v' :-> gs') <- rs, v==v' ]"
   ]
  },
  {
   "cell_type": "code",
   "execution_count": 5,
   "metadata": {},
   "outputs": [
    {
     "data": {
      "text/plain": [
       "[[\"a\",\"a\",\"S\",\"b\",\"S\",\"b\"],[\"a\",\"S\",\"S\",\"S\",\"b\"],[\"a\",\"S\",\"b\"],[\"a\",\"S\",\"a\",\"S\",\"b\",\"b\"],[\"a\",\"S\",\"S\",\"S\",\"b\"],[\"a\",\"S\",\"b\"]]"
      ]
     },
     "metadata": {},
     "output_type": "display_data"
    },
    {
     "data": {
      "text/plain": [
       "[[\"a\",\"a\",\"S\",\"b\",\"S\",\"b\"],[\"a\",\"S\",\"S\",\"S\",\"b\"],[\"a\",\"S\",\"b\"]]"
      ]
     },
     "metadata": {},
     "output_type": "display_data"
    }
   ],
   "source": [
    "step cfgG3 [\"a\",\"S\",\"S\",\"b\"]\n",
    "lstep cfgG3 [\"a\",\"S\",\"S\",\"b\"]"
   ]
  },
  {
   "cell_type": "code",
   "execution_count": 6,
   "metadata": {},
   "outputs": [],
   "source": [
    "-- derivation step operator\n",
    "infixl 5 .=> \n",
    "(.=>) :: [GString] -> GString -> [GString]\n",
    "gss .=> gs = gss++[gs]\n",
    "\n",
    "derivation = (:[])\n",
    "\n",
    "-- valid derivation judgement\n",
    "infix 4 |-\n",
    "(|-) :: CFG -> [GString] -> Bool\n",
    "cfg |- gss\n",
    " | length gss < 2 = error \"derivation must have at least one step\"\n",
    " | otherwise = and [gs2 `elem` step cfg gs1 | (gs1,gs2) <- zip gss (tail gss)]\n",
    " \n",
    " -- valid leftmost derivation judgement\n",
    "infix 4 ||-\n",
    "(||-) :: CFG -> [GString] -> Bool\n",
    "cfg ||- gss\n",
    " | length gss < 2 = error \"derivation must have at least one step\"\n",
    " | otherwise = and [gs2 `elem` lstep cfg gs1 | (gs1,gs2) <- zip gss (tail gss)]"
   ]
  },
  {
   "cell_type": "code",
   "execution_count": 7,
   "metadata": {},
   "outputs": [
    {
     "data": {
      "text/plain": [
       "[[\"S\"],[\"a\",\"S\",\"b\"],[\"a\",\"b\"]]"
      ]
     },
     "metadata": {},
     "output_type": "display_data"
    }
   ],
   "source": [
    "derivation [\"S\"] .=> [\"a\",\"S\",\"b\"] .=> [\"a\",\"b\"]"
   ]
  },
  {
   "cell_type": "code",
   "execution_count": 8,
   "metadata": {},
   "outputs": [
    {
     "ename": "",
     "evalue": "",
     "header": "MessageHeader {mhIdentifiers = [\"8ec1f245-5fe1-4bf4-b517-01ba6b4bd660\"], mhParentHeader = Just (MessageHeader {mhIdentifiers = [\"8ec1f245-5fe1-4bf4-b517-01ba6b4bd660\"], mhParentHeader = Nothing, mhMetadata = Metadata (fromList [(\"recordTiming\",Bool False),(\"deletedCells\",Array [String \"12b50c28-0ebf-4af8-a543-e65f1590f4be\"]),(\"cellId\",String \"26d1b3b1-e99d-4a91-9439-e171cfbed816\")]), mhMessageId = UUID {uuidToString = \"2fc30dfc-8a67-42e4-846d-1518a3c1ed54\"}, mhSessionId = UUID {uuidToString = \"8ec1f245-5fe1-4bf4-b517-01ba6b4bd660\"}, mhUsername = \"\", mhMsgType = ExecuteRequestMessage}), mhMetadata = Metadata (fromList []), mhMessageId = UUID {uuidToString = \"bb4e4e93-b1f3-4291-bce9-72df4d70fd86\"}, mhSessionId = UUID {uuidToString = \"8ec1f245-5fe1-4bf4-b517-01ba6b4bd660\"}, mhUsername = \"\", mhMsgType = ExecuteErrorMessage}",
     "output_type": "error",
     "traceback": [
      "derivation must have at least one step\nCallStack (from HasCallStack):\n  error, called at <interactive>:8:21 in interactive:Ghci124"
     ]
    }
   ],
   "source": [
    "cfgG3 |- derivation [\"S\"]"
   ]
  },
  {
   "cell_type": "code",
   "execution_count": 9,
   "metadata": {},
   "outputs": [
    {
     "data": {
      "text/plain": [
       "True"
      ]
     },
     "metadata": {},
     "output_type": "display_data"
    },
    {
     "data": {
      "text/plain": [
       "True"
      ]
     },
     "metadata": {},
     "output_type": "display_data"
    },
    {
     "data": {
      "text/plain": [
       "False"
      ]
     },
     "metadata": {},
     "output_type": "display_data"
    },
    {
     "data": {
      "text/plain": [
       "True"
      ]
     },
     "metadata": {},
     "output_type": "display_data"
    }
   ],
   "source": [
    "cfgG3 |- derivation [\"S\"] .=> [\"a\",\"S\",\"b\"]\n",
    "cfgG3 |- derivation [\"S\"] .=> [\"a\",\"S\",\"b\"] .=> [\"a\",\"b\"]\n",
    "cfgG3 |- derivation [\"S\"] .=> [\"a\",\"S\",\"b\"] .=> [\"a\",\"S\",\"b\"]\n",
    "cfgG3 |- derivation [\"S\"] .=> [\"a\",\"S\",\"b\"] .=> [\"a\",\"S\",\"S\",\"b\"]"
   ]
  },
  {
   "cell_type": "code",
   "execution_count": 10,
   "metadata": {},
   "outputs": [
    {
     "data": {
      "text/plain": [
       "False"
      ]
     },
     "metadata": {},
     "output_type": "display_data"
    },
    {
     "data": {
      "text/plain": [
       "False"
      ]
     },
     "metadata": {},
     "output_type": "display_data"
    }
   ],
   "source": [
    "cfgG3 |- derivation [\"S\"] .=> [\"a\",\"S\",\"b\"] .=> [\"a\",\"S\",\"S\",\"b\"] .=> [\"a\",\"S\",\"a\",\"b\",\"b\"]\n",
    "cfgG3||- derivation [\"S\"] .=> [\"a\",\"S\",\"b\"] .=> [\"a\",\"S\",\"S\",\"b\"] .=> [\"a\",\"S\",\"a\",\"b\",\"b\"]"
   ]
  },
  {
   "cell_type": "code",
   "execution_count": 11,
   "metadata": {},
   "outputs": [
    {
     "data": {
      "text/plain": [
       "True"
      ]
     },
     "metadata": {},
     "output_type": "display_data"
    },
    {
     "data": {
      "text/plain": [
       "True"
      ]
     },
     "metadata": {},
     "output_type": "display_data"
    }
   ],
   "source": [
    "-- G3 is an ambiguous CFG because multiple derivation exists for S =>* ab\n",
    "cfgG3||- derivation [\"S\"] .=> [\"a\",\"S\",\"b\"]\n",
    "                          .=> [\"a\",\"b\"]\n",
    "\n",
    "cfgG3||- derivation [\"S\"] .=> [\"a\",\"S\",\"b\"]\n",
    "                          .=> [\"a\",\"S\",\"S\",\"b\"]\n",
    "                          .=> [\"a\",\"S\",\"b\"]\n",
    "                          .=> [\"a\",\"b\"]"
   ]
  },
  {
   "cell_type": "code",
   "execution_count": 12,
   "metadata": {},
   "outputs": [
    {
     "data": {
      "text/plain": [
       "S\n",
       "|\n",
       "+- a\n",
       "|\n",
       "+- S\n",
       "|\n",
       "`- b"
      ]
     },
     "metadata": {},
     "output_type": "display_data"
    }
   ],
   "source": [
    "-- 그냥 parse tree가 유일하면 ambiguous하지 않음\n",
    "import Data.Tree\n",
    "-- data Tree a = Node a [a] -- 첫번째 rootLabel 두번째 subForest\n",
    "\n",
    "tree1 =\n",
    "  Node \"S\" [ Node \"a\" [] -- terminal은 자녀 없음\n",
    "           , Node \"S\" [] -- epsilon\n",
    "           , Node \"b\" [] -- terminal은 자녀 없음\n",
    "           ]\n",
    "\n",
    "putStrLn $ drawTree tree1"
   ]
  },
  {
   "cell_type": "code",
   "execution_count": 13,
   "metadata": {},
   "outputs": [
    {
     "data": {
      "text/plain": [
       "S\n",
       "|\n",
       "+- a\n",
       "|\n",
       "+- S\n",
       "|  |\n",
       "|  +- S\n",
       "|  |\n",
       "|  `- S\n",
       "|\n",
       "`- b"
      ]
     },
     "metadata": {},
     "output_type": "display_data"
    }
   ],
   "source": [
    "tree2 =\n",
    "  Node \"S\" [ Node \"a\" [] -- terminal은 자녀 없음\n",
    "           , Node \"S\" [ Node \"S\" [] -- epsilon\n",
    "                      , Node \"S\" [] -- epsilon\n",
    "                      ]\n",
    "           , Node \"b\" [] -- terminal은 자녀 없음\n",
    "           ]\n",
    "\n",
    "putStrLn $ drawTree tree2"
   ]
  },
  {
   "cell_type": "markdown",
   "metadata": {},
   "source": [
    "### Chomsky normal form\n",
    "CFG 규칙에 $A \\to BC$와 $A\\to a$의 형태($B$와 $C$는 시작 변수 아님)만 있으면 촘스키정규형(CNF)이라 한다.<br>\n",
    "단, $\\varepsilon$을 포함하는 언어 정의도 가능해야 하므로, 예외적으로 시작 변수 $S$에 대해서만 $S\\to \\varepsilon$ 규칙을 허용한다.\n",
    "\n",
    "모든 문맥자유언어(CFL)를 CNF로 나타낼 수 있다는 성질이 알려져 있다.<br>\n",
    "이는 모든 문맥자유문법(CFG)을 똑같은 언어를 생성하는 CNF로 변환 가능함을 보임으로써 증명 가능하다.\n",
    "\n",
    "기본적인 아이디어는\n",
    "\n",
    " * $A\\to \\varepsilon$ 형태의 $\\varepsilon$규칙과 $A\\to B$ 형태의 unit규칙을 제거하고 \n",
    " * 그런 형태의 규칙들이 만들어내던 문자열을 CNF를 만족하는 다른 규칙들로 만들어내도록\n",
    "\n",
    "대체하는 방법만 찾아내면 된다.\n",
    "그 외에 좀더 고치기 쉬운 형태의 규칙들,<br>\n",
    "예를 들면 $A \\to B_1 B_2 C_1 C_2$는\n",
    "새로운 변수 $B_0$와 $C_0$를 도입해 아래 규칙들로 대체하면 된다.\n",
    "\n",
    "  $A\\to B_0C_0$<br>\n",
    "  $B_0\\to B_1 B_2$<br>\n",
    "  $C_0\\to C_1 C_2$\n",
    "\n",
    "CNF가 이론을 전개하고 특정 알고리듬을 설명하는 데 요긴하게 쓰인다.<br>\n",
    "그러나 CNF를a 최소화된 혹은 최적화된 문법규칙이라 말할 수는 없다.<br>\n",
    "CFG에는 최소화된 문법이라는 개념이 일반적으로 잘 정의되지 않는다.<br>\n",
    "(참고로, 결정적유한오토마타(DFA)의 경우에는 상태 개수라는 명확한 기준으로 최소화된 DFA로 변환하는 것이 가능)"
   ]
  },
  {
   "cell_type": "markdown",
   "metadata": {},
   "source": [
    "----\n",
    "## 2.2 Pushdown Automata\n",
    "\n",
    "### Pushdown Automata\n",
    "\n",
    "### Formal definition of a pushdown automaton\n",
    "\n",
    "### Examples of pushdown automata\n",
    "\n",
    "### Equivalence with context-free grammars"
   ]
  },
  {
   "cell_type": "markdown",
   "metadata": {},
   "source": [
    "----\n",
    "## Non-context-free Languages\n",
    "\n",
    "### The pumping lemma for context-free languages"
   ]
  },
  {
   "cell_type": "markdown",
   "metadata": {},
   "source": [
    "----\n",
    "## Deterministic Context-Free Languages\n",
    "\n",
    "### Deterministic Context-Free Languages\n",
    "\n",
    "### Properties of DCFLs\n",
    "\n",
    "### Deterministic context-free grammars\n",
    "\n",
    "### Relationship of DPDAs and DCFGs\n",
    "\n",
    "### Parsing and LR(k) Grammars"
   ]
  },
  {
   "cell_type": "code",
   "execution_count": null,
   "metadata": {},
   "outputs": [],
   "source": []
  }
 ],
 "metadata": {
  "kernelspec": {
   "display_name": "Haskell",
   "language": "haskell",
   "name": "haskell"
  },
  "language_info": {
   "codemirror_mode": "ihaskell",
   "file_extension": ".hs",
   "name": "haskell",
   "pygments_lexer": "Haskell",
   "version": "8.6.5"
  }
 },
 "nbformat": 4,
 "nbformat_minor": 4
}
