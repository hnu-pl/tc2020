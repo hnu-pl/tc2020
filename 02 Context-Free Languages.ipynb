{
 "cells": [
  {
   "cell_type": "markdown",
   "metadata": {},
   "source": [
    "# 2 Context-Free Languages"
   ]
  },
  {
   "cell_type": "markdown",
   "metadata": {},
   "source": [
    "----\n",
    "## 2.1 Context-free Grammars\n",
    "\n",
    "### Formal definition of a context-free grammar\n",
    "\n",
    "$G = (V,\\Sigma,R,S)$\n",
    "\n",
    "$\\Gamma = V\\cup\\Sigma$\n",
    "\n",
    "$u\\Rightarrow w$라는 derivation은\n",
    "$u=v_1 A v_2$ 에 규칙 $A\\to w \\in R$를 적용해 $v=v_1 w v_2$를 얻을 수 있음을 뜻한다.\n",
    "($u,v,w,v_1,v_2\\in \\Gamma^*$, $A\\in V$)\n",
    "\n",
    "$G$가 만들어내는 언어는 $\\{ w \\mid w\\in\\Sigma^*, S\\Rightarrow^*w \\}$\n",
    "\n",
    "### Examples of context-free grammars\n",
    "\n",
    "### Designing context-free grammars\n",
    "\n",
    "### Ambiguity\n"
   ]
  },
  {
   "cell_type": "code",
   "execution_count": 1,
   "metadata": {},
   "outputs": [],
   "source": [
    "type Gamma = String\n",
    "type GString = [Gamma]\n",
    "\n",
    "newtype CFG = CFG ([Gamma],[Gamma],[Rule],Gamma) deriving Show\n",
    "\n",
    "data Rule = Gamma :-> GString deriving (Eq,Ord,Show)"
   ]
  },
  {
   "cell_type": "code",
   "execution_count": 2,
   "metadata": {},
   "outputs": [],
   "source": [
    "-- 교과서에 나오는 G3 문법\n",
    "cfgG3 = CFG ([\"S\"],[\"a\",\"b\"],rs,\"S\")\n",
    "  where\n",
    "  rs = [ \"S\" :-> [\"a\",\"S\",\"b\"]\n",
    "       , \"S\" :-> [\"S\",\"S\"]\n",
    "       , \"S\" :-> []\n",
    "       ]"
   ]
  },
  {
   "cell_type": "code",
   "execution_count": 3,
   "metadata": {},
   "outputs": [
    {
     "data": {
      "text/plain": [
       "[([],[1,2,3,4]),([1],[2,3,4]),([1,2],[3,4]),([1,2,3],[4]),([1,2,3,4],[])]"
      ]
     },
     "metadata": {},
     "output_type": "display_data"
    }
   ],
   "source": [
    "import Data.List\n",
    "\n",
    "zip (inits [1,2,3,4]) (tails [1,2,3,4])"
   ]
  },
  {
   "cell_type": "code",
   "execution_count": 4,
   "metadata": {},
   "outputs": [],
   "source": [
    "step (CFG(vs,as,rs,_)) gs = -- any step\n",
    "  [ gsL++gs'++gsR | (gsL, v : gsR) <- zip (inits gs) (tails gs),\n",
    "                    v `elem` vs, -- v 가 variable 이기만 하면 됨\n",
    "                    (v' :-> gs') <- rs, v==v' ]\n",
    "\n",
    "lstep (CFG(vs,as,rs,_)) gs = -- leftmost step\n",
    "  [ gsL++gs'++gsR | (gsL, v : gsR) <- zip (inits gs) (tails gs),\n",
    "                    all (`elem` as) gsL, v `elem` vs, -- v는 가장 왼쪽의 variable\n",
    "                    (v' :-> gs') <- rs, v==v' ]"
   ]
  },
  {
   "cell_type": "code",
   "execution_count": 5,
   "metadata": {},
   "outputs": [
    {
     "data": {
      "text/plain": [
       "[\"a\",\"a\",\"S\",\"b\",\"S\",\"b\"]\n",
       "[\"a\",\"S\",\"S\",\"S\",\"b\"]\n",
       "[\"a\",\"S\",\"b\"]\n",
       "[\"a\",\"S\",\"a\",\"S\",\"b\",\"b\"]\n",
       "[\"a\",\"S\",\"S\",\"S\",\"b\"]\n",
       "[\"a\",\"S\",\"b\"]"
      ]
     },
     "metadata": {},
     "output_type": "display_data"
    }
   ],
   "source": [
    "mapM_ print $ step cfgG3 [\"a\",\"S\",\"S\",\"b\"]"
   ]
  },
  {
   "cell_type": "code",
   "execution_count": 6,
   "metadata": {},
   "outputs": [
    {
     "data": {
      "text/plain": [
       "[\"a\",\"a\",\"S\",\"b\",\"S\",\"b\"]\n",
       "[\"a\",\"S\",\"S\",\"S\",\"b\"]\n",
       "[\"a\",\"S\",\"b\"]"
      ]
     },
     "metadata": {},
     "output_type": "display_data"
    }
   ],
   "source": [
    "mapM_ print $ lstep cfgG3 [\"a\",\"S\",\"S\",\"b\"]"
   ]
  },
  {
   "cell_type": "code",
   "execution_count": 7,
   "metadata": {},
   "outputs": [],
   "source": [
    "-- derivation step operator\n",
    "infixl 5 .=> \n",
    "(.=>) :: [GString] -> GString -> [GString]\n",
    "gss .=> gs = gss++[gs]\n",
    "\n",
    "derivation = (:[])\n",
    "\n",
    "-- valid derivation judgement\n",
    "infix 4 |-\n",
    "(|-) :: CFG -> [GString] -> Bool\n",
    "cfg |- gss\n",
    " | length gss < 2 = error \"derivation must have at least one step\"\n",
    " | otherwise = and [gs2 `elem` step cfg gs1 | (gs1,gs2) <- zip gss (tail gss)]\n",
    " \n",
    " -- valid leftmost derivation judgement\n",
    "infix 4 ||-\n",
    "(||-) :: CFG -> [GString] -> Bool\n",
    "cfg ||- gss\n",
    " | length gss < 2 = error \"derivation must have at least one step\"\n",
    " | otherwise = and [gs2 `elem` lstep cfg gs1 | (gs1,gs2) <- zip gss (tail gss)]"
   ]
  },
  {
   "cell_type": "code",
   "execution_count": 8,
   "metadata": {},
   "outputs": [
    {
     "data": {
      "text/plain": [
       "[[\"S\"],[\"a\",\"S\",\"b\"],[\"a\",\"b\"]]"
      ]
     },
     "metadata": {},
     "output_type": "display_data"
    }
   ],
   "source": [
    "derivation [\"S\"] .=> [\"a\",\"S\",\"b\"] .=> [\"a\",\"b\"]"
   ]
  },
  {
   "cell_type": "code",
   "execution_count": 9,
   "metadata": {},
   "outputs": [
    {
     "ename": "",
     "evalue": "",
     "header": "MessageHeader {mhIdentifiers = [\"9babd1f0-ea66-4fda-a0cf-58489879714b\"], mhParentHeader = Just (MessageHeader {mhIdentifiers = [\"9babd1f0-ea66-4fda-a0cf-58489879714b\"], mhParentHeader = Nothing, mhMetadata = Metadata (fromList [(\"recordTiming\",Bool False),(\"deletedCells\",Array []),(\"cellId\",String \"396bd3f9-dd47-48b2-b709-22a799917d68\")]), mhMessageId = UUID {uuidToString = \"77c4e678-5730-4f3f-828d-90f225abd151\"}, mhSessionId = UUID {uuidToString = \"9babd1f0-ea66-4fda-a0cf-58489879714b\"}, mhUsername = \"\", mhMsgType = ExecuteRequestMessage, mhBuffers = []}), mhMetadata = Metadata (fromList []), mhMessageId = UUID {uuidToString = \"f6f035d9-7343-4dd4-8974-6ea0ce4f1b53\"}, mhSessionId = UUID {uuidToString = \"9babd1f0-ea66-4fda-a0cf-58489879714b\"}, mhUsername = \"\", mhMsgType = ExecuteErrorMessage, mhBuffers = []}",
     "output_type": "error",
     "traceback": [
      "derivation must have at least one step\nCallStack (from HasCallStack):\n  error, called at <interactive>:8:21 in interactive:Ghci159"
     ]
    }
   ],
   "source": [
    "cfgG3 |- derivation [\"S\"]"
   ]
  },
  {
   "cell_type": "code",
   "execution_count": 10,
   "metadata": {},
   "outputs": [
    {
     "data": {
      "text/plain": [
       "True"
      ]
     },
     "metadata": {},
     "output_type": "display_data"
    },
    {
     "data": {
      "text/plain": [
       "True"
      ]
     },
     "metadata": {},
     "output_type": "display_data"
    },
    {
     "data": {
      "text/plain": [
       "False"
      ]
     },
     "metadata": {},
     "output_type": "display_data"
    },
    {
     "data": {
      "text/plain": [
       "True"
      ]
     },
     "metadata": {},
     "output_type": "display_data"
    }
   ],
   "source": [
    "cfgG3 |- derivation [\"S\"] .=> [\"a\",\"S\",\"b\"]\n",
    "cfgG3 |- derivation [\"S\"] .=> [\"a\",\"S\",\"b\"] .=> [\"a\",\"b\"]\n",
    "cfgG3 |- derivation [\"S\"] .=> [\"a\",\"S\",\"b\"] .=> [\"a\",\"S\",\"b\"]\n",
    "cfgG3 |- derivation [\"S\"] .=> [\"a\",\"S\",\"b\"] .=> [\"a\",\"S\",\"S\",\"b\"]"
   ]
  },
  {
   "cell_type": "code",
   "execution_count": 11,
   "metadata": {},
   "outputs": [
    {
     "data": {
      "text/plain": [
       "True"
      ]
     },
     "metadata": {},
     "output_type": "display_data"
    },
    {
     "data": {
      "text/plain": [
       "False"
      ]
     },
     "metadata": {},
     "output_type": "display_data"
    }
   ],
   "source": [
    "cfgG3 |- derivation [\"S\"] .=> [\"a\",\"S\",\"b\"]\n",
    "                          .=> [\"a\",\"S\",\"S\",\"b\"]\n",
    "                          .=> [\"a\",\"S\",\"a\",\"S\",\"b\",\"b\"]\n",
    "                          \n",
    "cfgG3||- derivation [\"S\"] .=> [\"a\",\"S\",\"b\"]\n",
    "                          .=> [\"a\",\"S\",\"S\",\"b\"]\n",
    "                          .=> [\"a\",\"S\",\"a\",\"S\",\"b\",\"b\"]"
   ]
  },
  {
   "cell_type": "code",
   "execution_count": 12,
   "metadata": {},
   "outputs": [
    {
     "data": {
      "text/plain": [
       "True"
      ]
     },
     "metadata": {},
     "output_type": "display_data"
    },
    {
     "data": {
      "text/plain": [
       "True"
      ]
     },
     "metadata": {},
     "output_type": "display_data"
    }
   ],
   "source": [
    "-- G3 is an ambiguous CFG because multiple leftmost derivation exists for S =>* ab\n",
    "cfgG3||- derivation [\"S\"] .=> [\"a\",\"S\",\"b\"]\n",
    "                          .=> [\"a\",\"b\"]\n",
    "\n",
    "cfgG3||- derivation [\"S\"] .=> [\"a\",\"S\",\"b\"]\n",
    "                          .=> [\"a\",\"S\",\"S\",\"b\"]\n",
    "                          .=> [\"a\",\"S\",\"b\"]\n",
    "                          .=> [\"a\",\"b\"]"
   ]
  },
  {
   "cell_type": "code",
   "execution_count": 13,
   "metadata": {},
   "outputs": [
    {
     "data": {
      "text/plain": [
       "S\n",
       "|\n",
       "+- a\n",
       "|\n",
       "+- S\n",
       "|\n",
       "`- b"
      ]
     },
     "metadata": {},
     "output_type": "display_data"
    }
   ],
   "source": [
    "-- 그냥 parse tree가 유일하면 ambiguous하지 않음\n",
    "import Data.Tree\n",
    "-- data Tree a = Node a [a] -- 첫번째 rootLabel 두번째 subForest\n",
    "\n",
    "tree1 =\n",
    "  Node \"S\" [ Node \"a\" [] -- terminal은 자녀 없음\n",
    "           , Node \"S\" [] -- epsilon\n",
    "           , Node \"b\" [] -- terminal은 자녀 없음\n",
    "           ]\n",
    "\n",
    "putStrLn $ drawTree tree1"
   ]
  },
  {
   "cell_type": "code",
   "execution_count": 14,
   "metadata": {},
   "outputs": [
    {
     "data": {
      "text/plain": [
       "S\n",
       "|\n",
       "+- a\n",
       "|\n",
       "+- S\n",
       "|  |\n",
       "|  +- S\n",
       "|  |\n",
       "|  `- S\n",
       "|\n",
       "`- b"
      ]
     },
     "metadata": {},
     "output_type": "display_data"
    }
   ],
   "source": [
    "tree2 =\n",
    "  Node \"S\" [ Node \"a\" [] -- terminal은 자녀 없음\n",
    "           , Node \"S\" [ Node \"S\" [] -- epsilon\n",
    "                      , Node \"S\" [] -- epsilon\n",
    "                      ]\n",
    "           , Node \"b\" [] -- terminal은 자녀 없음\n",
    "           ]\n",
    "\n",
    "putStrLn $ drawTree tree2"
   ]
  },
  {
   "cell_type": "markdown",
   "metadata": {},
   "source": [
    "### Chomsky normal form\n",
    "CFG 규칙에 $A \\to BC$와 $A\\to a$의 형태($B$와 $C$는 시작 변수 아님)만 있으면 촘스키정규형(CNF)이라 한다.<br>\n",
    "단, $\\varepsilon$을 포함하는 언어 정의도 가능해야 하므로, 예외적으로 시작 변수 $S$에 대해서만 $S\\to \\varepsilon$ 규칙을 허용한다.\n",
    "\n",
    "모든 문맥자유언어(CFL)를 CNF로 나타낼 수 있다는 성질이 알려져 있다.<br>\n",
    "이는 모든 문맥자유문법(CFG)을 똑같은 언어를 생성하는 CNF로 변환 가능함을 보임으로써 증명 가능하다.\n",
    "\n",
    "기본적인 아이디어는\n",
    "\n",
    " * $A\\to \\varepsilon$ 형태의 $\\varepsilon$규칙과 $A\\to B$ 형태의 unit규칙을 제거하고 \n",
    " * 그런 형태의 규칙들이 만들어내던 문자열을 CNF를 만족하는 다른 규칙들로 만들어내도록\n",
    "\n",
    "대체하는 방법만 찾아내면 된다.\n",
    "그 외에 좀더 고치기 쉬운 형태의 규칙들,<br>\n",
    "예를 들면 $A \\to B_1 B_2 C_1 C_2$는\n",
    "새로운 변수 $B_0$와 $C_0$를 도입해 아래 규칙들로 대체하면 된다.\n",
    "\n",
    "  $A\\to B_0C_0$<br>\n",
    "  $B_0\\to B_1 B_2$<br>\n",
    "  $C_0\\to C_1 C_2$\n",
    "\n",
    "CNF가 이론을 전개하고 특정 알고리듬을 설명하는 데 요긴하게 쓰인다.<br>\n",
    "그러나 CNF를 최소화된 혹은 최적화된 문법규칙이라 말할 수는 없다.<br>\n",
    "CFG에는 최소화된 문법이라는 개념이 일반적으로 잘 정의되지 않는다.<br>\n",
    "(참고로, 결정적유한오토마타(DFA)의 경우에는 상태 개수라는 명확한 기준으로 최소화된 DFA로 변환하는 것이 가능)"
   ]
  },
  {
   "cell_type": "markdown",
   "metadata": {},
   "source": [
    "----\n",
    "## 2.2 Pushdown Automata\n",
    "\n",
    "### Pushdown Automata\n",
    "\n",
    "### Formal definition of a pushdown automaton\n",
    "\n",
    "$M = (Q,\\Sigma,\\Gamma,\\delta,q_0,F)$\n",
    "\n",
    "1. $Q$는 상태의 유한집합\n",
    "1. $\\Sigma$는 입력 알파벳 (입력 문자열을 구성하는 심볼의 유한집합)\n",
    "1. $\\Gamma$는 스택 알파벳 (스택에 저장될 수 있는 심볼의 유한집합)\n",
    "1. $\\delta : Q\\times \\Sigma_\\varepsilon \\times \\Gamma_\\varepsilon \\to \\wp(Q\\times \\Gamma_\\varepsilon)$는 전이함수\n",
    "1. $q_0\\in Q$는 시작상태\n",
    "1. $F\\subseteq Q$는 받아들여지는 상태(accept state) 혹은 종료 상태(final state)라도도 한다\n",
    "\n",
    "꼭 그렇게 해야만 하는 것은 아니지만 대부분의 경우 $\\Sigma$ 전체 혹은 $\\Sigma$의 부분집합을 $\\Gamma$가 포함하는 경우가 많다.<br>\n",
    "포함해 놓고도 전이함수에서 사용을 안하면 (그러니까 결과로 공집합을 계산하면) 되니까 그냥 많은 경우 $\\Sigma \\subset \\Gamma$라고 생각하고 설계해도 된다.<br>\n",
    "저 앞에서 CFG를 설명할 때 $\\Gamma = \\Sigma \\cup V$ 라고 한 $\\Gamma$라는 기호를 사용했던 것이 바로 이러한 맥락에서다.<br>\n",
    "앞으로 배울 PDA관련 절에서 CFG를 PDA로 옮길 때 대략 스택 심볼에 $\\Sigma \\cup V$를 포함하게 설계하면 되기 때문에 ...\n",
    "\n",
    "\n",
    "$w = w_1w_2\\cdots w_m$을 (단, $w_i\\in \\Sigma_\\varepsilon$) PDA가 받아들인다는 뜻은<br>\n",
    "일련의 상태 $r_0,r_1,\\ldots,r_m \\in Q$와 일련의 스택 $s_0,s_1,\\ldots,s_m\\in\\Gamma^*$가 있어<br>\n",
    "다음과 같이 계속해서 전이함수를 따라가다 보면 종료상태에서 끝나는 경로가 하나라도 존재한다는 의미이다.<br>\n",
    "단, 초기 상태 $r_0 = q_0$이고 초기 스택 $s_0 = \\varepsilon$로 시작한다.\n",
    "\n",
    "$\\exists (r_1,b_1) \\in\\delta(r_0,w_1,b_0)$ 단, $s_0 = b_0 t_1, s_1 = b_1 t_1$\n",
    "\n",
    "$\\exists (r_2,b_2) \\in\\delta(r_1,w_2,b_1)$ 단, $s_0 = b_1 t_2, s_2 = b_2 t_2$ \n",
    "\n",
    "$\\vdots$\n",
    "\n",
    "$\\exists (r_m,b_m) \\in\\delta(r_{m-1},w_m,b_{m-1})$ 단, $s_m = b_{m-1} t_m, s_m = b_m t_m$\n",
    "\n",
    "마지막 상태 $r_m\\in F$. (위에서 $b_i \\in \\Gamma_\\varepsilon$, $t_i\\in\\Gamma^*$)\n",
    "\n",
    "### Examples of pushdown automata"
   ]
  },
  {
   "cell_type": "markdown",
   "metadata": {},
   "source": [
    "책에 나온 대로 위와 같이 작성한 것은 NFA랑 최대한 비슷하게 이해를 돕고자 함이다.<br>\n",
    "하지만 비결정적으로라도 저런 식으로 계산을 진행하는 것은 번거롭다.<br>\n",
    "그래서 PDA 상태와 스택을 한 덩어리로 묶어 종합적인 PDA의 상태로 생각하는 것이 편하다.<br>\n",
    "그리고 비결정적 계산이므로 종합적인 PDA상태의 집합에서 집합으로 가는 함수를 만들어 활용한다.<br>\n",
    "즉, $\\delta$로부터 아래와 같은 $\\hat\\delta : \\wp(Q\\times \\Gamma^*) \\times \\Sigma_\\varepsilon \\to \\wp(Q\\times \\Gamma^*)$ 함수를 만들어 계산하자는 이야기.\n",
    "\n",
    "$\\hat\\delta(C,x) = \\{ (r',b't) \\mid (r,bt)\\in C, (r',b't)\\in\\delta(r,x,b) \\}$\n",
    "\n",
    "그리고 이것을 더 편하게 하기 위해 $\\delta$로부터 $\\delta': Q\\times \\Sigma_\\varepsilon \\times \\Gamma^* \\to \\wp(Q\\times \\Gamma^*)$ 함수를 만들어 아래와 같이 정의할 수 있다.\n",
    "\n",
    "$\\hat\\delta(C,z) = \\{ (r',s') \\mid (r,s)\\in C, (r',s')\\in\\delta'(r,z,s) \\}$\n",
    "\n",
    "위와 같이 정의한 $\\hat\\delta$를 이용하면 입력 문자열 $w=w_1 \\ldots w_m$이 이렇게 표현할 수 있다\n",
    "\n",
    "$\\exists (r_m, s_m) \\in \\hat\\delta(\\ldots(\\hat\\delta(\\hat\\delta(\\{(r_0,s_0)\\},w_1),w_2),\\ldots),w_m)$ such that $r_m\\in F$\n",
    "\n",
    "이와 같은 계산 패턴은 함수형 프로그래밍에서 foldl에 해당한다."
   ]
  },
  {
   "cell_type": "code",
   "execution_count": 15,
   "metadata": {},
   "outputs": [],
   "source": [
    "import Data.List (union)\n",
    "\n",
    "-- see p. 113 Definition 2.13\n",
    "newtype PDA q a = PDA ([q], [a], [a], (q,[a],[a])->[(q,[a])], q, [q])\n",
    "-- 사실상 a = String인 경우만을 활용할 것이다\n",
    "\n",
    "-- 주어진 PDA의 delta hat 함수\n",
    "stepPDA :: (Eq q, Eq a) => PDA q a -> [(q,[a])] -> [a] -> [(q,[a])]\n",
    "stepPDA (PDA(qs,as,gs,d,q0,fs)) cs z = [ (r',s') | (r,s) <- cs, (r',s') <- d'(r,z,s)]\n",
    "  where\n",
    "  d'(r,x,g:gs) = [ (r',b'++gs)   | (r',b') <- d(r,x,[g]) ] -- b==[g], t==gs\n",
    "         `union` [ (r',b'++g:gs) | (r',b') <- d(r,x,[] ) ] -- b==[], t==g:gs\n",
    "  d'(r,x,[]) = d(r,x,[])"
   ]
  },
  {
   "cell_type": "code",
   "execution_count": 16,
   "metadata": {},
   "outputs": [],
   "source": [
    "pdaM1 = PDA ([\"q1\",\"q2\",\"q3\",\"q4\"],[\"0\",\"1\"],[\"0\",\"$\"],d,\"q1\",[\"q1\",\"q4\"])\n",
    "  where\n",
    "  d(\"q1\",[]   ,[]   ) = [(\"q2\",[\"$\"])]\n",
    "  d(\"q2\",[\"0\"],[]   ) = [(\"q2\",[\"0\"])]\n",
    "  d(\"q2\",[\"1\"],[\"0\"]) = [(\"q3\",[]   )]\n",
    "  d(\"q3\",[\"1\"],[\"0\"]) = [(\"q3\",[]   )]\n",
    "  d(\"q3\",[]   ,[\"$\"]) = [(\"q4\",[]   )]\n",
    "  d(_   ,_    ,_    ) = []"
   ]
  },
  {
   "cell_type": "code",
   "execution_count": 17,
   "metadata": {},
   "outputs": [
    {
     "data": {
      "text/plain": [
       "[(\"q2\",[\"$\"])]"
      ]
     },
     "metadata": {},
     "output_type": "display_data"
    },
    {
     "data": {
      "text/plain": [
       "[(\"q2\",[\"0\",\"$\"])]"
      ]
     },
     "metadata": {},
     "output_type": "display_data"
    },
    {
     "data": {
      "text/plain": [
       "[(\"q2\",[\"0\",\"0\",\"$\"])]"
      ]
     },
     "metadata": {},
     "output_type": "display_data"
    },
    {
     "data": {
      "text/plain": [
       "[(\"q3\",[\"0\",\"$\"])]"
      ]
     },
     "metadata": {},
     "output_type": "display_data"
    },
    {
     "data": {
      "text/plain": [
       "[(\"q3\",[\"$\"])]"
      ]
     },
     "metadata": {},
     "output_type": "display_data"
    },
    {
     "data": {
      "text/plain": [
       "[(\"q4\",[])]"
      ]
     },
     "metadata": {},
     "output_type": "display_data"
    }
   ],
   "source": [
    "-- for input string 0011 = ε0011ε\n",
    "stepPDA pdaM1 [(\"q1\",[]   )]         []\n",
    "stepPDA pdaM1 [(\"q2\",[\"$\"])]         [\"0\"]\n",
    "stepPDA pdaM1 [(\"q2\",[\"0\",\"$\"])]     [\"0\"]\n",
    "stepPDA pdaM1 [(\"q2\",[\"0\",\"0\",\"$\"])] [\"1\"]\n",
    "stepPDA pdaM1 [(\"q2\",[\"0\",\"$\"])]     [\"1\"]\n",
    "stepPDA pdaM1 [(\"q3\",[\"$\"])]         []"
   ]
  },
  {
   "cell_type": "code",
   "execution_count": 18,
   "metadata": {},
   "outputs": [
    {
     "data": {
      "text/plain": [
       "[(\"q4\",[])]"
      ]
     },
     "metadata": {},
     "output_type": "display_data"
    }
   ],
   "source": [
    "foldl (stepPDA pdaM1) [(\"q1\",[])] [ [], [\"0\"], [\"0\"], [\"1\"], [\"1\"], [] ]"
   ]
  },
  {
   "cell_type": "markdown",
   "metadata": {},
   "source": [
    "foldl로 하니까 좀 간편하지긴 했는데 그래도 입력 문자열을 처리하는 도중에 어디서 $\\varepsilon$을 얼마만큼 넣을 것인가를 잘 생각해서 필요한 곳에 추가해 주어야 한다.\n",
    "\n",
    "NFA에서는 간단하게 입력 문자열에서의 $\\varepsilon$을 처리했던 거 같은더 PDA는 그렇게 안 될까?\n",
    "NFA만큼 간단하지는 않다.<br>\n",
    "입력 문자열 $\\varepsilon$처리와 함께 스택에도 변화가 일어날 수 있기 때문에 스택이 변화하는 가능성까지를 모두 고려해애 하기 때문이다.<br>\n",
    "즉, 입력 문자열 도중의 어떤 시점에 $\\varepsilon$을 임의의 개수 활용했을 때 스택을 포함한 종합적인 PDA상태의 closure가 생긴다는 보장이 없다.<br>\n",
    "예를 들어 입력 문자열에 어떤 $\\varepsilon$ 처리를 할 때마다 스택에 무엇인가 쌓는다고 하면 회수를 반복할수록 계속 전에 보지 못했던 다른 스택이 만들어지게 된다."
   ]
  },
  {
   "cell_type": "markdown",
   "metadata": {},
   "source": [
    "### Equivalence with context-free grammars\n",
    "\n",
    "CFG를 PDA로 변환하는 예제를 하나만 살펴보자. (반대로 하는 것은 시간상 수업에서는 다루지 못하고 넘어간다.)\n",
    "\n",
    "Example 2.25\n",
    "\n",
    "* 규칙 S1: $S \\to \\mathtt{a}T\\mathtt{b}$\n",
    "* 규칙 S2: $S \\to \\mathtt{b}$\n",
    "* 규칙 T1: $T \\to T\\mathtt{a}$\n",
    "* 규칙 T2: $T \\to \\varepsilon$\n",
    "\n",
    "길이 $n \\ge 2$인 intermediate string을 생성하는 규칙마다 $n-1$개의 추가 상태 필요. (규칙 S1, T1)\n",
    "\n",
    "길이 $n \\le 1$인 intermediate string을 생성하는 규칙에는 추가 상태 필요 없음. (규칙 S2, T2)\n",
    "\n",
    "(저 위의 CFG 프로그램에서는 intermediat string에 해당하는 것을 GString이라는 타입 별명으로 부름)"
   ]
  },
  {
   "cell_type": "code",
   "execution_count": 19,
   "metadata": {},
   "outputs": [],
   "source": [
    "cfgG1 = CFG ([\"S\",\"T\"],[\"a\",\"b\"],rs,\"S\")\n",
    "  where\n",
    "  rs = [ \"S\" :-> [\"a\",\"T\",\"b\"]\n",
    "       , \"S\" :-> [\"b\"]\n",
    "       , \"T\" :-> [\"T\",\"a\"]\n",
    "       , \"T\" :-> []\n",
    "       ]"
   ]
  },
  {
   "cell_type": "code",
   "execution_count": 20,
   "metadata": {},
   "outputs": [
    {
     "data": {
      "text/plain": [
       "True"
      ]
     },
     "metadata": {},
     "output_type": "display_data"
    }
   ],
   "source": [
    "cfgG1||- derivation\n",
    "           [\"S\"] .=> [\"b\"]"
   ]
  },
  {
   "cell_type": "code",
   "execution_count": 21,
   "metadata": {},
   "outputs": [
    {
     "data": {
      "text/plain": [
       "True"
      ]
     },
     "metadata": {},
     "output_type": "display_data"
    }
   ],
   "source": [
    "cfgG1||- derivation\n",
    "           [\"S\"] .=> [\"a\",\"T\",\"b\"]\n",
    "                 .=> [\"a\",\"T\",\"a\",\"b\"]\n",
    "                 .=> [\"a\",\"a\",\"b\"]"
   ]
  },
  {
   "cell_type": "code",
   "execution_count": 22,
   "metadata": {},
   "outputs": [
    {
     "data": {
      "text/plain": [
       "False"
      ]
     },
     "metadata": {},
     "output_type": "display_data"
    }
   ],
   "source": [
    "cfgG1||- derivation\n",
    "           [\"S\"] .=> [\"a\",\"T\",\"b\"]\n",
    "                 .=> [\"a\",\"a\",\"T\",\"b\"]\n",
    "                 .=> [\"a\",\"a\",\"b\"]"
   ]
  },
  {
   "cell_type": "code",
   "execution_count": 23,
   "metadata": {},
   "outputs": [],
   "source": [
    "pdaP1 = PDA ( [\"q0\",\"qS\",\"qL\",\"qA\", \"qS1b\",\"qS1T\", \"qT1a\"]\n",
    "            , [\"a\",\"b\"] -- Σ\n",
    "            , [\"a\",\"b\",\"$\",\"S\",\"T\"] -- Γ = Σ ⋃ { $ } ⋃ V\n",
    "            , d\n",
    "            , \"q0\"\n",
    "            , [\"qA\"] )\n",
    "  where\n",
    "  d(\"q0\",[]   ,[]   ) = [(\"qS\",[\"$\"])]\n",
    "  d(\"qS\",[]   ,[]   ) = [(\"qL\",[\"S\"])]\n",
    "  -- CFG production rules\n",
    "  d(\"qL\"  ,[] ,[\"S\"]) = [(\"qS1b\",[\"b\"])  -- S -> a T;b\n",
    "                        ,(\"qL\"  ,[\"b\"])] -- S ->.b\n",
    "  d(\"qS1b\",[] ,[]   ) = [(\"qS1T\",[\"T\"])] -- S -> a;T b\n",
    "  d(\"qS1T\",[] ,[]   ) = [(\"qL\"  ,[\"a\"])] -- S ->.a T b\n",
    "  d(\"qL\"  ,[] ,[\"T\"]) = [(\"qT1a\",[\"a\"])  -- T -> T;a\n",
    "                        ,(\"qL\"  ,[]   )] -- T ->.ε\n",
    "  d(\"qT1a\",[] ,[]   ) = [(\"qL\"  ,[\"T\"])] -- T ->.T a\n",
    "  -- pop terminal on the stack\n",
    "  d(\"qL\",[\"a\"],[\"a\"]) = [(\"qL\",[]   )]\n",
    "  d(\"qL\",[\"b\"],[\"b\"]) = [(\"qL\",[]   )]\n",
    "  -- to accept state\n",
    "  d(\"qL\",[]   ,[\"$\"]) = [(\"qA\",[]   )]\n",
    "  -- default\n",
    "  d(_,_,_) = []"
   ]
  },
  {
   "cell_type": "code",
   "execution_count": 24,
   "metadata": {},
   "outputs": [
    {
     "data": {
      "text/plain": [
       "[(\"qS\",[\"$\"])]"
      ]
     },
     "metadata": {},
     "output_type": "display_data"
    },
    {
     "data": {
      "text/plain": [
       "[(\"qL\",[\"S\",\"$\"])]"
      ]
     },
     "metadata": {},
     "output_type": "display_data"
    },
    {
     "data": {
      "text/plain": [
       "[(\"qS1b\",[\"b\",\"$\"]),(\"qL\",[\"b\",\"$\"])]"
      ]
     },
     "metadata": {},
     "output_type": "display_data"
    },
    {
     "data": {
      "text/plain": [
       "[(\"qS1T\",[\"T\",\"b\",\"$\"])]"
      ]
     },
     "metadata": {},
     "output_type": "display_data"
    },
    {
     "data": {
      "text/plain": [
       "[(\"qL\",[\"a\",\"T\",\"b\",\"$\"])]"
      ]
     },
     "metadata": {},
     "output_type": "display_data"
    },
    {
     "data": {
      "text/plain": [
       "[(\"qL\",[\"T\",\"b\",\"$\"])]"
      ]
     },
     "metadata": {},
     "output_type": "display_data"
    },
    {
     "data": {
      "text/plain": [
       "[(\"qT1a\",[\"a\",\"b\",\"$\"]),(\"qL\",[\"b\",\"$\"])]"
      ]
     },
     "metadata": {},
     "output_type": "display_data"
    },
    {
     "data": {
      "text/plain": [
       "[(\"qL\",[\"T\",\"a\",\"b\",\"$\"])]"
      ]
     },
     "metadata": {},
     "output_type": "display_data"
    },
    {
     "data": {
      "text/plain": [
       "[(\"qT1a\",[\"a\",\"a\",\"b\",\"$\"]),(\"qL\",[\"a\",\"b\",\"$\"])]"
      ]
     },
     "metadata": {},
     "output_type": "display_data"
    },
    {
     "data": {
      "text/plain": [
       "[(\"qL\",[\"b\",\"$\"])]"
      ]
     },
     "metadata": {},
     "output_type": "display_data"
    },
    {
     "data": {
      "text/plain": [
       "[(\"qL\",[\"$\"])]"
      ]
     },
     "metadata": {},
     "output_type": "display_data"
    },
    {
     "data": {
      "text/plain": [
       "[(\"qA\",[])]"
      ]
     },
     "metadata": {},
     "output_type": "display_data"
    }
   ],
   "source": [
    "-- aab = εεεεεaεεεεabε\n",
    "stepPDA pdaP1 [(\"q0\",[])]                 []\n",
    "stepPDA pdaP1 [(\"qS\",[\"$\"])]              []\n",
    "stepPDA pdaP1 [(\"qL\",[\"S\",\"$\"])]          []\n",
    "stepPDA pdaP1 [(\"qS1b\",[\"b\",\"$\"])\n",
    "              ,(\"qL\",[\"b\",\"$\"])]          []\n",
    "stepPDA pdaP1 [(\"qS1T\",[\"T\",\"b\",\"$\"])]    []\n",
    "stepPDA pdaP1 [(\"qL\",[\"a\",\"T\",\"b\",\"$\"])]  [\"a\"]\n",
    "stepPDA pdaP1 [(\"qL\",[\"T\",\"b\",\"$\"])]      []\n",
    "stepPDA pdaP1 [(\"qT1a\",[\"a\",\"b\",\"$\"])\n",
    "              ,(\"qL\",[\"b\",\"$\"])]          []\n",
    "stepPDA pdaP1 [(\"qL\",[\"T\",\"a\",\"b\",\"$\"])]  []\n",
    "stepPDA pdaP1 [(\"qT1a\",[\"a\",\"a\",\"b\",\"$\"])\n",
    "              ,(\"qL\",[\"a\",\"b\",\"$\"])]      [\"a\"]\n",
    "stepPDA pdaP1 [(\"qL\",[\"b\",\"$\"])]          [\"b\"]\n",
    "stepPDA pdaP1 [(\"qL\",[\"$\"])]              []"
   ]
  },
  {
   "cell_type": "markdown",
   "metadata": {},
   "source": [
    "----\n",
    "## Non-context-free Languages\n",
    "\n",
    "### The pumping lemma for context-free languages"
   ]
  },
  {
   "cell_type": "markdown",
   "metadata": {},
   "source": [
    "----\n",
    "## Deterministic Context-Free Languages\n",
    "\n",
    "DPDA는 PDA에서 전이함수 함수의 결과를 1개 이하로 강제하며 추가로 입력 및 스택에 대한 $\\varepsilon$ 처리의 비결정성을 제한한다.<br>\n",
    "책에서는 $\\delta : Q\\times \\Sigma_\\varepsilon \\times \\Gamma_\\varepsilon \\to (Q\\times \\Gamma_\\varepsilon)\\cup\\{\\emptyset\\}$으로\n",
    "전이함수 결과를 1개 이하로 강제함으로 표현하며,<br>\n",
    "추가적인 제한사항이란 모든 $q\\in Q$, $a\\in\\Sigma$, $x\\in\\Gamma$에 대해\n",
    "$\\delta(q,a,x)$, $\\delta(q,a,\\varepsilon)$, $\\delta(q,\\varepsilon,x)$, $\\delta(q,\\varepsilon,\\varepsilon)$중\n",
    "딱 한개씩만 $\\emptyset$이 아니어야 한다.<br>\n",
    "이 추가적인 제한사항은 입력이나 스택의 $\\varepsilon$인 경우 전이가 $\\varepsilon$이 아닌 경우의 전이를 선택하는 것과 비결정적인 상황이 발생하는 것을 방지하려는 것이다.\n",
    "\n",
    "\n",
    "DPDA는 정의 자체로는 유한한 실패(finite failure)를 보장하지는 않는다. ($\\varepsilon$입력을 무한히 처리하며 더 이상의 입력 문자열을 처리를 진행하지 못하는 경우 발생 가능)"
   ]
  },
  {
   "cell_type": "code",
   "execution_count": 25,
   "metadata": {},
   "outputs": [
    {
     "data": {
      "text/plain": [
       "[0,0,0,0,0,0,1,0,0,0,1,0,0,0,0,0,0,0,1,0,0,0,0,0,0,0,0,0,0,1,0,0,1,0,0,0]"
      ]
     },
     "metadata": {},
     "output_type": "display_data"
    },
    {
     "data": {
      "text/plain": [
       "=============="
      ]
     },
     "metadata": {},
     "output_type": "display_data"
    },
    {
     "data": {
      "text/plain": [
       "((\"q1\",\"0\",\"0\"),1)\n",
       "((\"q1\",\"0\",\"$\"),1)\n",
       "((\"q1\",\"1\",\"0\"),1)\n",
       "((\"q1\",\"1\",\"$\"),1)\n",
       "((\"q2\",\"0\",\"0\"),1)\n",
       "((\"q2\",\"0\",\"$\"),1)\n",
       "((\"q2\",\"1\",\"0\"),1)\n",
       "((\"q2\",\"1\",\"$\"),0)\n",
       "((\"q3\",\"0\",\"0\"),0)\n",
       "((\"q3\",\"0\",\"$\"),1)\n",
       "((\"q3\",\"1\",\"0\"),1)\n",
       "((\"q3\",\"1\",\"$\"),1)\n",
       "((\"q4\",\"0\",\"0\"),0)\n",
       "((\"q4\",\"0\",\"$\"),0)\n",
       "((\"q4\",\"1\",\"0\"),0)\n",
       "((\"q4\",\"1\",\"$\"),0)"
      ]
     },
     "metadata": {},
     "output_type": "display_data"
    },
    {
     "data": {
      "text/plain": [
       "=============="
      ]
     },
     "metadata": {},
     "output_type": "display_data"
    },
    {
     "data": {
      "text/plain": [
       "((\"q2\",\"1\",\"$\"),0)\n",
       "((\"q3\",\"0\",\"0\"),0)\n",
       "((\"q4\",\"0\",\"0\"),0)\n",
       "((\"q4\",\"0\",\"$\"),0)\n",
       "((\"q4\",\"1\",\"0\"),0)\n",
       "((\"q4\",\"1\",\"$\"),0)"
      ]
     },
     "metadata": {},
     "output_type": "display_data"
    }
   ],
   "source": [
    "{- -- 0^n1^n인 언어를 정의하는 저 위의 PDA M1 정의를 그대로 가져왔다\n",
    "pdaM1 = PDA ([\"q1\",\"q2\",\"q3\",\"q4\"],[\"0\",\"1\"],[\"0\",\"$\"],d,\"q1\",[\"q1\",\"q4\"])\n",
    "  where\n",
    "  d(\"q1\",[]   ,[]   ) = [(\"q2\",[\"$\"])]\n",
    "  d(\"q2\",[\"0\"],[]   ) = [(\"q2\",[\"0\"])]\n",
    "  d(\"q2\",[\"1\"],[\"0\"]) = [(\"q3\",[]   )]\n",
    "  d(\"q3\",[\"1\"],[\"0\"]) = [(\"q3\",[]   )]\n",
    "  d(\"q3\",[]   ,[\"$\"]) = [(\"q4\",[]   )]\n",
    "  d(_   ,_    ,_    ) = []\n",
    "-}\n",
    "\n",
    "PDA(qs,as,gs,d,q0,fs) = pdaM1\n",
    "\n",
    "-- d가 계산한는 집합 크기를 각각 알아보면 모두 1 이하이다\n",
    "[length(d(q,[a],[x])) | q<-qs, a<-as, x<-gs] ++\n",
    "  [length(d(q,[a],[])) | q<-qs, a<-as] ++\n",
    "  [length(d(q,[],[x])) | q<-qs, x<-gs] ++\n",
    "  [length(d(q,[],[] )) | q<-qs]\n",
    "\n",
    "putStr \"==============\"\n",
    "\n",
    "-- 그러나 추가적인 조건을 알아보면 모두 1이어야 하는데 0인 것들이 있다\n",
    "mapM_ print\n",
    "  [((q,a,x), length $ filter (not.null)\n",
    "                [d(q,[a],[x]),d(q,[a],[]),d(q,[],[x]),d(q,[],[])]) | q<-qs, a<-as,x<-gs]\n",
    "\n",
    "putStr \"==============\"\n",
    "\n",
    "mapM_ print . filter ((1/=).snd) $\n",
    "  [((q,a,x), length $ filter (not.null) [d(q,[a],[x]),d(q,[a],[]),d(q,[],[x]),d(q,[],[])]) | q<-qs, a<-as,x<-gs]\n",
    "\n",
    "-- 그러니까 책 Example 2.40에서 설명하는 것처럼 실패하는 상태를 만들어 방금 0인 경우들에 대해"
   ]
  },
  {
   "cell_type": "code",
   "execution_count": 26,
   "metadata": {},
   "outputs": [],
   "source": [
    "pdaM1' = PDA ([\"q1\",\"q2\",\"q3\",\"q4\",\"q5\"],[\"0\",\"1\"],[\"0\",\"$\"],d,\"q1\",[\"q1\",\"q4\"])\n",
    "  where\n",
    "  d(\"q1\",[]   ,[]   ) = [(\"q2\",[\"$\"])]\n",
    "  d(\"q2\",[\"0\"],[]   ) = [(\"q2\",[\"0\"])]\n",
    "  d(\"q2\",[\"1\"],[\"0\"]) = [(\"q3\",[]   )]\n",
    "  d(\"q3\",[\"1\"],[\"0\"]) = [(\"q3\",[]   )]\n",
    "  d(\"q3\",[]   ,[\"$\"]) = [(\"q4\",[]   )]\n",
    "  d(\"q2\",[\"1\"],[\"$\"]) = [(\"q5\",[]   )]\n",
    "  d(\"q3\",[\"0\"],[\"0\"]) = [(\"q5\",[]   )]\n",
    "  d(\"q4\",[\"0\"],[\"0\"]) = [(\"q5\",[]   )]\n",
    "  d(\"q4\",[\"0\"],[\"$\"]) = [(\"q5\",[]   )]\n",
    "  d(\"q4\",[\"1\"],[\"0\"]) = [(\"q5\",[]   )]\n",
    "  d(\"q4\",[\"1\"],[\"$\"]) = [(\"q5\",[]   )]\n",
    "  d(\"q5\",[]   ,[]   ) = [(\"q5\",[]   )]\n",
    "  d(_   ,_    ,_    ) = []"
   ]
  },
  {
   "cell_type": "code",
   "execution_count": 27,
   "metadata": {},
   "outputs": [
    {
     "data": {
      "text/plain": [
       "[0,0,0,0,0,0,1,1,1,0,1,0,1,1,1,1,0,0,0,0,0,0,1,0,0,0,0,0,0,0,0,0,0,0,0,1,0,0,0,0,1,0,0,0,1]"
      ]
     },
     "metadata": {},
     "output_type": "display_data"
    },
    {
     "data": {
      "text/plain": [
       "=============="
      ]
     },
     "metadata": {},
     "output_type": "display_data"
    },
    {
     "data": {
      "text/plain": [
       "((\"q1\",\"0\",\"0\"),1)\n",
       "((\"q1\",\"0\",\"$\"),1)\n",
       "((\"q1\",\"1\",\"0\"),1)\n",
       "((\"q1\",\"1\",\"$\"),1)\n",
       "((\"q2\",\"0\",\"0\"),1)\n",
       "((\"q2\",\"0\",\"$\"),1)\n",
       "((\"q2\",\"1\",\"0\"),1)\n",
       "((\"q2\",\"1\",\"$\"),1)\n",
       "((\"q3\",\"0\",\"0\"),1)\n",
       "((\"q3\",\"0\",\"$\"),1)\n",
       "((\"q3\",\"1\",\"0\"),1)\n",
       "((\"q3\",\"1\",\"$\"),1)\n",
       "((\"q4\",\"0\",\"0\"),1)\n",
       "((\"q4\",\"0\",\"$\"),1)\n",
       "((\"q4\",\"1\",\"0\"),1)\n",
       "((\"q4\",\"1\",\"$\"),1)\n",
       "((\"q5\",\"0\",\"0\"),1)\n",
       "((\"q5\",\"0\",\"$\"),1)\n",
       "((\"q5\",\"1\",\"0\"),1)\n",
       "((\"q5\",\"1\",\"$\"),1)"
      ]
     },
     "metadata": {},
     "output_type": "display_data"
    },
    {
     "data": {
      "text/plain": [
       "=============="
      ]
     },
     "metadata": {},
     "output_type": "display_data"
    }
   ],
   "source": [
    "PDA(qs,as,gs,d,q0,fs) = pdaM1'\n",
    "\n",
    "-- d가 계산한는 집합 크기를 각각 알아보면 모두 1 이하이다\n",
    "[length(d(q,[a],[x])) | q<-qs, a<-as, x<-gs] ++\n",
    "  [length(d(q,[a],[])) | q<-qs, a<-as] ++\n",
    "  [length(d(q,[],[x])) | q<-qs, x<-gs] ++\n",
    "  [length(d(q,[],[] )) | q<-qs]\n",
    "\n",
    "putStr \"==============\"\n",
    "\n",
    "-- 그러나 추가적인 조건을 알아보면 모두 1이어야 하는데 0인 것들이 있다\n",
    "mapM_ print\n",
    "  [((q,a,x), length $ filter (not.null) [d(q,[a],[x]),d(q,[a],[]),d(q,[],[x]),d(q,[],[])]) | q<-qs, a<-as,x<-gs]\n",
    "\n",
    "putStr \"==============\"\n",
    "\n",
    "mapM_ print . filter ((1/=).snd) $\n",
    "  [((q,a,x), length $ filter (not.null) [d(q,[a],[x]),d(q,[a],[]),d(q,[],[x]),d(q,[],[])]) | q<-qs, a<-as,x<-gs]"
   ]
  },
  {
   "cell_type": "markdown",
   "metadata": {},
   "source": [
    "### Properties of DCFLs\n",
    "\n",
    "Theorem 2.42: DCFL 언어는 여집합(complementation)에 대해 닫혀 있다.\n",
    "\n",
    "참고로 union, intersection, star, reverse 연산에 대해서는 DCFL 언어는 닫혀 있지 않다.\n",
    "\n",
    "그리고 일반적으로 CFL은 여집합 연산에 대해 닫혀 있지 않다.\n",
    "\n",
    "Theorem 2.43: $A$가 DCFL임과 그 endmarked language인 $A{\\pmb{\\dashv}}$가 DCFL임은 필요충분조건\n",
    "\n",
    "$A{\\pmb{\\dashv}} ~=~ \\{w\\pmb{\\dashv} \\mid w\\in A\\}$\n",
    "\n",
    "$A$의 알파벳이 $\\Sigma$일 때 $A{\\pmb{\\dashv}}$ 알파벳은 $\\Sigma\\cup\\{\\pmb{\\dashv}\\}$이다.\n",
    "(단, $\\pmb{\\dashv}\\notin\\Sigma$)\n",
    "\n",
    "그래서 모든 DCFL에는 그에 대응되는 endmarked langauge가 있음을 이용해<br>\n",
    "endmarked language에 대한 경우만 고려해 이론을 진행해 일반적인 DCFL에 대한 성질을 유추할 수 있다.<br>\n",
    "다음에 나오는 DCFG에 대한 이론을 전재할 때도 그렇게 한다.\n",
    "\n",
    "책의 p. 131 끝에서 두번째 문단에서도 언급하지만 DPDA에 대한 논의는 이런 식으로 작은 단계를 밟아 나가면서 잔기술이 많이 들어간다.\n",
    "예를 들면 유한오토마타에서도 DFA의 정의로 시작했지만 좀더 편하게 이론을 전개하기 위해서 NFA와 쌤쌤이라는 것을 보이고 NFA에 대해 고려한 것과 비슷한 맥락. "
   ]
  },
  {
   "cell_type": "markdown",
   "metadata": {},
   "source": [
    "\n",
    "### Deterministic context-free grammars\n",
    "\n",
    "derivation은 번수(variable 또는 non-terminal)을 더 구체적인 intermediate string으로 치환(substitute)하며 진행.<br>\n",
    "그러니까 문법규칙에서 화살표 오른쪽의 변수를 왼쪽의 intermediate string으로.\n",
    "\n",
    "reduction은 그 반대 개념으로 intermideate string에 나타나는 문자열의 일부분이 문법규칙 화살표 왼쪽과 일치할 때 오른쪽의 변수로 거꾸로 치환.\n",
    "\n",
    "$S\\to T\\pmb{\\dashv}$<br>\n",
    "$T\\to T(T) \\mid \\varepsilon$\n",
    "\n",
    "* derivation\n",
    "\n",
    "  $S \\Rightarrow T\\pmb{\\dashv}\n",
    "     \\Rightarrow T(T)\\pmb{\\dashv}\n",
    "     \\Rightarrow T()\\pmb{\\dashv}\n",
    "     \\Rightarrow T(T)()\\pmb{\\dashv}\n",
    "     \\Rightarrow T()()\\pmb{\\dashv}\n",
    "     \\Rightarrow ()()\\pmb{\\dashv}$ \n",
    "\n",
    "* reduction (위의 derivation과 비교하기 좋게 책에서와 좌우를 반대로 뒤집어 썼다)\n",
    "\n",
    "  $S \\leftarrowtail \\underline{T\\pmb{\\dashv}}\\color{red}{|}\n",
    "     \\leftarrowtail \\underline{T(T)}\\color{red}{|}\\pmb{\\dashv}\n",
    "     \\leftarrowtail T(\\underline{}\\color{red}{|})\\pmb{\\dashv}\n",
    "     \\leftarrowtail \\underline{T(T)}\\color{red}{|}()\\pmb{\\dashv}\n",
    "     \\leftarrowtail T(\\underline{}\\color{red}{|})()\\pmb{\\dashv}\n",
    "     \\leftarrowtail \\underline{}\\color{red}{|}()()\\pmb{\\dashv}$ \n",
    "\n",
    "위와 같이 가장 왼쪽부터 묶어가는 reduction을 leftmost reduction이라고 한다.<br>\n",
    "참고로 leftmost reduction은 rightmost derivation에 대응된다.\n",
    "\n",
    "unambiguous CFG이면\n",
    " * 시작 상태($S$)로부터 그 언어의 특정 문자열($w$)을 만들어내는\n",
    "   rightmost derivation이 유일하게 존재\n",
    " * 여기에 대응되는 leftmost reduction, 즉,\n",
    "   그 언어에 속하는 입력 문자열 $w$로부터 $S$까지의\n",
    "   leftmost reduction도 유일하게 존재\n",
    " * 그러므로 밑줄친 부분(handle)도 한가지로 정해질 수밖에 없다!\n",
    "   (안그렇다면 ambiguous CFG라는 이야기)\n",
    "\n",
    "$w$가 언어에 속하는 문자열이라 $w$로부터 $S$까지의 leftmost reduction이 존재할 때,<br>\n",
    "이러한 reduction 도중에 나타나는 intermediate string을 valid (intermediate) string이라고 부른다.\n",
    "\n",
    "deterministic CFG가 되기 위해서는<br>\n",
    "valid string에서 지금까지 읽어들인 부분만으로 handle이 결정 가능해야<br>\n",
    "(즉, 어디를 밑줄칠지 판단 가능해야 한다는 이야기)<br>\n",
    "DCFG에서 valid string인 $x\\,\\underline{h}\\color{red}{|}y$에서 밑줄친 $h$가 handle이라면\n",
    " * handle까지만 읽어들인 부분이므로 아직 읽어들이지 않은 $y\\in\\Sigma^*$ (즉 y에는 변수가 포함되어 있지 않음)\n",
    " * 다른 모든 valid string $x\\,\\underline{h}\\color{red}{|}y'$에 대해서도 ($y'\\in\\Sigma^*$) 마찬가지로 $h$가 handle이 되어야 한다\n",
    " * 이렇게 valid string에서 handle이 지금까지 읽어들인 부분만으로 결정될 때 forced handle이라고 부른다\n",
    "\n",
    "Definition 2.47 **DCFG란 모든 valid string이 forced handle을 갖는 CFG이다.**\n",
    "\n",
    "이렇게 정의하는 것은 개념적으로 좋은데, 이 정의만 가지고는 어떤 CFG를 보고 그 문법이 결정적(deterministic)인지 어떻게 검사해야 할지까지는 금방 알 수가 없다. Parsing and LR(k) Grammars 부분에서 이것을 다룬다.\n",
    "\n",
    "\n",
    "CFL에서 **모호하지 않음**(non-ambiguous 혹은 unambiguous)과 **결정적**deterministic은 일치하는 개념이 아니다!\n",
    " * 일단 deterministic CFL는 기본적으로 unambiguous CFL일 수밖에 없음\n",
    " * 하지만 unambiguous CFL라고 자동적으로 deterministic CFL는 아님\n",
    "\n",
    "그러니까 유일한 parse tree가 만들어지도록 문법을 작성할 수는 있더라도 거기에 대응되는 DPDA를 설계하는 것이 불가능한 경우가 존재함.\n",
    "\n",
    "\n",
    "참고: [Computer Science Stack Exchange에 올라온 관련 질문](https://cs.stackexchange.com/questions/14583/how-is-non-ambuiguity-different-from-determinism)에 Wandering Logic이라는 아이디로 남긴 답변에 보면 위키피디아에 제시된 unambiguous non-deterministic language의 사례를 인용 (물론 우리 책에서도 소개하고 설명하는 예제이다)\n",
    "\n",
    "이게 왜 그럴까를 생각해 보면 PDA와 DPDA의 동작 방식에 대해 좀더 확실하게 이해할 수 있다.\n",
    "좀더 구체적으로는 DFA는 NFA에 비해 그 표현가능한 언어의 범위가 제한적이지 않은데,\n",
    "어째서 DPDA는 능력이 왜 PDA에 비해 제한적인지를 이해할 수 있다."
   ]
  },
  {
   "cell_type": "markdown",
   "metadata": {},
   "source": [
    "### Parsing and LR(k) Grammars\n",
    "DCFL은 모두 LR(0)문법으로 나타낼 수 있다. (그러니까 DPDA, DCFG, LR(0)문법 이것들이 모두 쌤쌤)\n",
    "\n",
    "LR(0)는 (지나치게 변수의 개수가 많아지므로) 불편해서 LR(k)라는 것을 활용한다<br>\n",
    "이론적으로 모든 k에 대해서 LR(k)은 LR(0)와 쌤쌤. (보통은 LR(1)을 가장 많이 활용)<br>\n",
    "참고로 책에서는 다루지 않지만 좀더 세분화하면 $\\textrm{LR}(k) \\supseteq \\textrm{LALR}(k) \\supseteq \\textrm{SLR}(k)$ 이런 것들이 있는데, DPDA로 옮긴다고 칠 때 SLR 쪽으로 갈수록 비결정성을 해소하는 절차를 단순화해서 상태 개수를 줄일 수 있는 대신 문법에 제약이 더 많아진다. 실용적으로는 중간쯤에 있는 LALR(1)이 많이 활용되어 왔다. 대표적으로 yacc이라는 파서 생성기 및 각 언어별로 yacc을 본따 만든 다수의 파서 생성기들이 LALR(1)을 기반으로 구현되어 있다.\n",
    "\n",
    "그리고 우리 책은 LR과 같은 bottom-up parsing을 곧바로 소개하는데 LR(k)이 나오게 된 배경에는 LL(k), 즉 top-down parsing 혹은 recursive decendent parsing으로 문법분석을 구현하기 위해서는 문법의 제약이 많아서 불편했기 때문이다.\n",
    "\n",
    "또한, 책에는 소개하지 않은 최근 동향으로는 GLR parser라는 것이 비교적 최근에 활용 되기도\n",
    "하는데 이것은 모든 DCFG를 다 처리할 수 있으면서도 결정적인 (혹은 거의 결정적인) CFG의 경우에는\n",
    "LALR에 크게 뒤떨어지지 않는 성능을 보여준다고 한다.\n",
    "참고로, 사실상 yacc을 대체한 bison 파서 생성기는 LALR과 함께 GLR도 지원한다.\n",
    "\n",
    "주의: LL, LR 이런 것은 \"문법\"의 분류이다. (\"언어\"의 분류가 아님)\n",
    "\n",
    "시작 변수가 화살표 오른쪽에 나타나지 않는 문법만을 고려한다.<br>\n",
    "(시작 변수 $S$가 오른쪽에 나타나는 문법은 새로운 시작 변수 $S'$를 만들어 $S'\\to S$ 규칙을 하나 추가하면 시작 변수가 오른쪽에 나타나지 않는 문법으로 바꿀 수 있다고 책에 나왔었다.)\n",
    "\n",
    "### Relationship of DPDAs and DCFGs\n",
    "endmarked language에 대한 CFG만을 고려하면 DPDA와 DCFG는 쌤쌤이라고 책에서 열심히 설명을 ..."
   ]
  },
  {
   "cell_type": "code",
   "execution_count": 28,
   "metadata": {},
   "outputs": [],
   "source": [
    "type DottedRule = (Gamma,(GString,GString))\n",
    "type NodeDK = [DottedRule]\n",
    "type EdgeDK = (NodeDK,Gamma,NodeDK)\n",
    "type GraphDK = ([NodeDK],[EdgeDK])\n",
    "\n",
    "dottedClosure :: CFG -> [DottedRule] -> [DottedRule] \n",
    "dottedClosure cfg@(CFG(_,_,rs,_)) drs\n",
    "  | drs==drs' = drs\n",
    "  | otherwise = dottedClosure cfg drs'\n",
    "  where\n",
    "  drs' = drs `union` [(v',([],gs')) | (v,(_,v2:gs2)) <- drs,\n",
    "                                       v':->gs' <-rs, v2 == v']\n",
    "\n",
    "showDottedRule :: DottedRule -> String\n",
    "showDottedRule (v,(gs1,gs2))= v++\" → \"++concat(gs1++\"•\":gs2)\n",
    "\n",
    "stepNode :: CFG -> NodeDK -> Gamma -> NodeDK\n",
    "stepNode cfg drs g = dottedClosure cfg [ (v,(gs1++[g'],gs2)) | (v,(gs1,g':gs2)) <- drs, g==g']\n",
    "\n",
    "cfg2graphDK :: CFG -> GraphDK \n",
    "cfg2graphDK cfg@(CFG(_,_,rs,s0)) =  mkGraphDK cfg ([[],n0],[([],\"\",n0)])\n",
    "  where\n",
    "  n0 = dottedClosure cfg [(v,([],gs)) | v:->gs <- rs, v==s0]\n",
    "\n",
    "src (n,_,_) = n\n",
    "dst (_,_,n) = n\n",
    "\n",
    "mkGraphDK :: CFG -> GraphDK -> GraphDK\n",
    "mkGraphDK cfg@(CFG(vs,as,_,_)) (ns,es)\n",
    "  | (ns,es) == (ns',es')  = (ns,es)\n",
    "  | otherwise             = mkGraphDK cfg (ns',es')\n",
    "  where\n",
    "  es' = es `union` esNew\n",
    "  ns' = ns `union` nsNew\n",
    "  out0ns = ns \\\\ map src es\n",
    "  esNew = [(n,g,n') | n <- out0ns, g<-vs++as,\n",
    "                      let n' = stepNode cfg n g,\n",
    "                      not(null n')]\n",
    "  nsNew = map dst esNew"
   ]
  },
  {
   "cell_type": "code",
   "execution_count": 29,
   "metadata": {},
   "outputs": [],
   "source": [
    "cfgG55 = CFG([\"S\",\"T\"],[\"(\",\")\",\"⊣\"],rs,\"S\")\n",
    "  where\n",
    "  rs = [ \"S\" :-> [\"T\",\"⊣\"]\n",
    "       , \"T\" :-> [\"T\",\"(\",\"T\",\")\"]\n",
    "       , \"T\" :-> []\n",
    "       ]"
   ]
  },
  {
   "cell_type": "code",
   "execution_count": 30,
   "metadata": {},
   "outputs": [
    {
     "data": {
      "text/plain": [
       "S → •T⊣\n",
       "T → •T(T)\n",
       "T → •"
      ]
     },
     "metadata": {},
     "output_type": "display_data"
    }
   ],
   "source": [
    "closS0 = dottedClosure cfgG55 [(\"S\",([],[\"T\",\"⊣\"]))]\n",
    "\n",
    "mapM_ (putStrLn . showDottedRule) closS0"
   ]
  },
  {
   "cell_type": "code",
   "execution_count": 31,
   "metadata": {},
   "outputs": [
    {
     "data": {
      "text/plain": [
       "[(\"S\",([\"T\"],[\"\\8867\"])),(\"T\",([\"T\"],[\"(\",\"T\",\")\"]))]"
      ]
     },
     "metadata": {},
     "output_type": "display_data"
    },
    {
     "data": {
      "text/plain": [
       "S → T•⊣\n",
       "T → T•(T)"
      ]
     },
     "metadata": {},
     "output_type": "display_data"
    }
   ],
   "source": [
    "closS0_T = stepNode cfgG55 closS0 \"T\"\n",
    "\n",
    "closS0_T\n",
    "mapM_ (putStrLn . showDottedRule) closS0_T"
   ]
  },
  {
   "cell_type": "code",
   "execution_count": 32,
   "metadata": {},
   "outputs": [
    {
     "data": {
      "text/plain": [
       "[(\"T\",([\"T\",\"(\"],[\"T\",\")\"])),(\"T\",([],[\"T\",\"(\",\"T\",\")\"])),(\"T\",([],[]))]"
      ]
     },
     "metadata": {},
     "output_type": "display_data"
    },
    {
     "data": {
      "text/plain": [
       "T → T(•T)\n",
       "T → •T(T)\n",
       "T → •"
      ]
     },
     "metadata": {},
     "output_type": "display_data"
    }
   ],
   "source": [
    "closS0_Tl = stepNode cfgG55 closS0_T \"(\"\n",
    "\n",
    "closS0_Tl\n",
    "mapM_ (putStrLn . showDottedRule) closS0_Tl"
   ]
  },
  {
   "cell_type": "code",
   "execution_count": 33,
   "metadata": {},
   "outputs": [],
   "source": [
    "import Data.List (intercalate, elemIndices)\n",
    "\n",
    "import IHaskell.Display.Graphviz\n",
    "-- dot \"digraph { l -> o; o -> v; v -> e; h -> a ; a -> s; s -> k ; k -> e ; e -> l ; l -> l}\"\n",
    "\n",
    "drawDK = dot . cfg2DKgraphviz\n",
    "\n",
    "cfg2DKgraphviz :: GraphDK -> String\n",
    "cfg2DKgraphviz ([]:ns,([],\"\",n0):es)\n",
    "    = \"digraph { rankdir=LR; node [shape=box style=rounded]; \"\n",
    "   ++ \"start [shape=none]; start -> n0; \"\n",
    "   ++ intercalate \"; \" [ nodeName n++\" [\"++attrDKnode n++\"]\" | n <- ns ]\n",
    "   ++ intercalate \"; \" [ nodeName n1++\" -> \"++nodeName n2\n",
    "                       ++ \" [label=\\\"\"++g++\"\\\"]\" | (n1,g,n2) <- es ]\n",
    "   ++ \"}\"\n",
    "  where\n",
    "  nodeName n = \"n\"++show i where [i] = elemIndices n ns\n",
    "\n",
    "attrDKnode :: NodeDK -> String\n",
    "attrDKnode drs\n",
    "    = \"peripheries=\"++(if reducible then \"2\" else \"1\")++\" \"\n",
    "   ++ \"label=\\\"\"++concat [showDottedRule r++\"\\\\l\" | r<-drs]++\"\\\"\"\n",
    "  where\n",
    "  reducible = any null [ gs2 | (_,(gs1,gs2))<-drs]"
   ]
  },
  {
   "cell_type": "code",
   "execution_count": 34,
   "metadata": {},
   "outputs": [
    {
     "data": {
      "image/svg+xml": [
       "<?xml version=\"1.0\" encoding=\"UTF-8\" standalone=\"no\"?>\n",
       "<!DOCTYPE svg PUBLIC \"-//W3C//DTD SVG 1.1//EN\"\n",
       " \"http://www.w3.org/Graphics/SVG/1.1/DTD/svg11.dtd\">\n",
       "<!-- Generated by graphviz version 2.40.1 (20161225.0304)\n",
       " -->\n",
       "<!-- Title: %3 Pages: 1 -->\n",
       "<svg width=\"361pt\" height=\"69pt\"\n",
       " viewBox=\"0.00 0.00 361.00 69.00\" xmlns=\"http://www.w3.org/2000/svg\" xmlns:xlink=\"http://www.w3.org/1999/xlink\">\n",
       "<g id=\"graph0\" class=\"graph\" transform=\"scale(1 1) rotate(0) translate(4 65)\">\n",
       "<title>%3</title>\n",
       "<polygon fill=\"#ffffff\" stroke=\"transparent\" points=\"-4,4 -4,-65 357,-65 357,4 -4,4\"/>\n",
       "<!-- v0 -->\n",
       "<g id=\"node1\" class=\"node\">\n",
       "<title>v0</title>\n",
       "<path fill=\"none\" stroke=\"#000000\" d=\"M72,-57C72,-57 16,-57 16,-57 10,-57 4,-51 4,-45 4,-45 4,-16 4,-16 4,-10 10,-4 16,-4 16,-4 72,-4 72,-4 78,-4 84,-10 84,-16 84,-16 84,-45 84,-45 84,-51 78,-57 72,-57\"/>\n",
       "<path fill=\"none\" stroke=\"#000000\" d=\"M76,-61C76,-61 12,-61 12,-61 6,-61 0,-55 0,-49 0,-49 0,-12 0,-12 0,-6 6,0 12,0 12,0 76,0 76,0 82,0 88,-6 88,-12 88,-12 88,-49 88,-49 88,-55 82,-61 76,-61\"/>\n",
       "<text text-anchor=\"start\" x=\"12\" y=\"-41.8\" font-family=\"Times,serif\" font-size=\"14.00\" fill=\"#000000\">S → •T⊣</text>\n",
       "<text text-anchor=\"start\" x=\"12\" y=\"-26.8\" font-family=\"Times,serif\" font-size=\"14.00\" fill=\"#000000\">T → •T(T)</text>\n",
       "<text text-anchor=\"start\" x=\"12\" y=\"-11.8\" font-family=\"Times,serif\" font-size=\"14.00\" fill=\"#000000\">T → •</text>\n",
       "</g>\n",
       "<!-- v1 -->\n",
       "<g id=\"node2\" class=\"node\">\n",
       "<title>v1</title>\n",
       "<path fill=\"none\" stroke=\"#000000\" d=\"M202,-49.5C202,-49.5 146,-49.5 146,-49.5 140,-49.5 134,-43.5 134,-37.5 134,-37.5 134,-23.5 134,-23.5 134,-17.5 140,-11.5 146,-11.5 146,-11.5 202,-11.5 202,-11.5 208,-11.5 214,-17.5 214,-23.5 214,-23.5 214,-37.5 214,-37.5 214,-43.5 208,-49.5 202,-49.5\"/>\n",
       "<text text-anchor=\"start\" x=\"142\" y=\"-34.3\" font-family=\"Times,serif\" font-size=\"14.00\" fill=\"#000000\">S → T•⊣</text>\n",
       "<text text-anchor=\"start\" x=\"142\" y=\"-19.3\" font-family=\"Times,serif\" font-size=\"14.00\" fill=\"#000000\">T → T•(T)</text>\n",
       "</g>\n",
       "<!-- v0&#45;&gt;v1 -->\n",
       "<g id=\"edge1\" class=\"edge\">\n",
       "<title>v0&#45;&gt;v1</title>\n",
       "<path fill=\"none\" stroke=\"#000000\" d=\"M88.0121,-30.5C99.5203,-30.5 112.0118,-30.5 123.815,-30.5\"/>\n",
       "<polygon fill=\"#000000\" stroke=\"#000000\" points=\"123.9682,-34.0001 133.9682,-30.5 123.9682,-27.0001 123.9682,-34.0001\"/>\n",
       "<text text-anchor=\"middle\" x=\"111\" y=\"-34.3\" font-family=\"Times,serif\" font-size=\"14.00\" fill=\"#000000\">T</text>\n",
       "</g>\n",
       "<!-- v2 -->\n",
       "<g id=\"node3\" class=\"node\">\n",
       "<title>v2</title>\n",
       "<path fill=\"none\" stroke=\"#000000\" d=\"M337,-57C337,-57 281,-57 281,-57 275,-57 269,-51 269,-45 269,-45 269,-16 269,-16 269,-10 275,-4 281,-4 281,-4 337,-4 337,-4 343,-4 349,-10 349,-16 349,-16 349,-45 349,-45 349,-51 343,-57 337,-57\"/>\n",
       "<path fill=\"none\" stroke=\"#000000\" d=\"M341,-61C341,-61 277,-61 277,-61 271,-61 265,-55 265,-49 265,-49 265,-12 265,-12 265,-6 271,0 277,0 277,0 341,0 341,0 347,0 353,-6 353,-12 353,-12 353,-49 353,-49 353,-55 347,-61 341,-61\"/>\n",
       "<text text-anchor=\"start\" x=\"277\" y=\"-41.8\" font-family=\"Times,serif\" font-size=\"14.00\" fill=\"#000000\">T → T(•T)</text>\n",
       "<text text-anchor=\"start\" x=\"277\" y=\"-26.8\" font-family=\"Times,serif\" font-size=\"14.00\" fill=\"#000000\">T → •T(T)</text>\n",
       "<text text-anchor=\"start\" x=\"277\" y=\"-11.8\" font-family=\"Times,serif\" font-size=\"14.00\" fill=\"#000000\">T → •</text>\n",
       "</g>\n",
       "<!-- v1&#45;&gt;v2 -->\n",
       "<g id=\"edge2\" class=\"edge\">\n",
       "<title>v1&#45;&gt;v2</title>\n",
       "<path fill=\"none\" stroke=\"#000000\" d=\"M214.1389,-30.5C226.7738,-30.5 240.9483,-30.5 254.411,-30.5\"/>\n",
       "<polygon fill=\"#000000\" stroke=\"#000000\" points=\"254.5301,-34.0001 264.53,-30.5 254.53,-27.0001 254.5301,-34.0001\"/>\n",
       "<text text-anchor=\"middle\" x=\"239.5\" y=\"-34.3\" font-family=\"Times,serif\" font-size=\"14.00\" fill=\"#000000\">⊣</text>\n",
       "</g>\n",
       "</g>\n",
       "</svg>\n"
      ]
     },
     "metadata": {},
     "output_type": "display_data"
    }
   ],
   "source": [
    "import IHaskell.Display.Graphviz\n",
    "-- dot \"digraph { l -> o; o -> v; v -> e; h -> a ; a -> s; s -> k ; k -> e ; e -> l ; l -> l}\"\n",
    "\n",
    "-- 대략 이런 식으로 프로그램이 자동으로 만들어내도록 \n",
    "dot $ \"digraph { rankdir=LR; node [shape=box style=rounded]; \"\n",
    "   ++ \"v0 [\"++attrDKnode closS0++\"]; \"\n",
    "   ++ \"v1 [\"++attrDKnode closS0_T++\"]; \"\n",
    "   ++ \"v2 [\"++attrDKnode closS0_Tl++\"]; \"\n",
    "   ++ \"v0 -> v1 [label=\\\"T\\\"];\"\n",
    "   ++ \"v1 -> v2 [label=\\\"⊣\\\"];\"\n",
    "   ++ \"}\"\n",
    "-- 이거는 물론 cfgG55를 그리다 만거다"
   ]
  },
  {
   "cell_type": "code",
   "execution_count": 35,
   "metadata": {},
   "outputs": [
    {
     "data": {
      "image/svg+xml": [
       "<?xml version=\"1.0\" encoding=\"UTF-8\" standalone=\"no\"?>\n",
       "<!DOCTYPE svg PUBLIC \"-//W3C//DTD SVG 1.1//EN\"\n",
       " \"http://www.w3.org/Graphics/SVG/1.1/DTD/svg11.dtd\">\n",
       "<!-- Generated by graphviz version 2.40.1 (20161225.0304)\n",
       " -->\n",
       "<!-- Title: %3 Pages: 1 -->\n",
       "<svg width=\"707pt\" height=\"132pt\"\n",
       " viewBox=\"0.00 0.00 707.00 131.50\" xmlns=\"http://www.w3.org/2000/svg\" xmlns:xlink=\"http://www.w3.org/1999/xlink\">\n",
       "<g id=\"graph0\" class=\"graph\" transform=\"scale(1 1) rotate(0) translate(4 127.5)\">\n",
       "<title>%3</title>\n",
       "<polygon fill=\"#ffffff\" stroke=\"transparent\" points=\"-4,4 -4,-127.5 703,-127.5 703,4 -4,4\"/>\n",
       "<!-- start -->\n",
       "<g id=\"node1\" class=\"node\">\n",
       "<title>start</title>\n",
       "<text text-anchor=\"middle\" x=\"27\" y=\"-37.3\" font-family=\"Times,serif\" font-size=\"14.00\" fill=\"#000000\">start</text>\n",
       "</g>\n",
       "<!-- n0 -->\n",
       "<g id=\"node2\" class=\"node\">\n",
       "<title>n0</title>\n",
       "<path fill=\"none\" stroke=\"#000000\" d=\"M163,-67.5C163,-67.5 107,-67.5 107,-67.5 101,-67.5 95,-61.5 95,-55.5 95,-55.5 95,-26.5 95,-26.5 95,-20.5 101,-14.5 107,-14.5 107,-14.5 163,-14.5 163,-14.5 169,-14.5 175,-20.5 175,-26.5 175,-26.5 175,-55.5 175,-55.5 175,-61.5 169,-67.5 163,-67.5\"/>\n",
       "<path fill=\"none\" stroke=\"#000000\" d=\"M167,-71.5C167,-71.5 103,-71.5 103,-71.5 97,-71.5 91,-65.5 91,-59.5 91,-59.5 91,-22.5 91,-22.5 91,-16.5 97,-10.5 103,-10.5 103,-10.5 167,-10.5 167,-10.5 173,-10.5 179,-16.5 179,-22.5 179,-22.5 179,-59.5 179,-59.5 179,-65.5 173,-71.5 167,-71.5\"/>\n",
       "<text text-anchor=\"start\" x=\"103\" y=\"-52.3\" font-family=\"Times,serif\" font-size=\"14.00\" fill=\"#000000\">S → •T⊣</text>\n",
       "<text text-anchor=\"start\" x=\"103\" y=\"-37.3\" font-family=\"Times,serif\" font-size=\"14.00\" fill=\"#000000\">T → •T(T)</text>\n",
       "<text text-anchor=\"start\" x=\"103\" y=\"-22.3\" font-family=\"Times,serif\" font-size=\"14.00\" fill=\"#000000\">T → •</text>\n",
       "</g>\n",
       "<!-- start&#45;&gt;n0 -->\n",
       "<g id=\"edge1\" class=\"edge\">\n",
       "<title>start&#45;&gt;n0</title>\n",
       "<path fill=\"none\" stroke=\"#000000\" d=\"M54.253,-41C62.4214,-41 71.6822,-41 80.9452,-41\"/>\n",
       "<polygon fill=\"#000000\" stroke=\"#000000\" points=\"80.9457,-44.5001 90.9457,-41 80.9457,-37.5001 80.9457,-44.5001\"/>\n",
       "</g>\n",
       "<!-- n1 -->\n",
       "<g id=\"node3\" class=\"node\">\n",
       "<title>n1</title>\n",
       "<path fill=\"none\" stroke=\"#000000\" d=\"M293,-60C293,-60 237,-60 237,-60 231,-60 225,-54 225,-48 225,-48 225,-34 225,-34 225,-28 231,-22 237,-22 237,-22 293,-22 293,-22 299,-22 305,-28 305,-34 305,-34 305,-48 305,-48 305,-54 299,-60 293,-60\"/>\n",
       "<text text-anchor=\"start\" x=\"233\" y=\"-44.8\" font-family=\"Times,serif\" font-size=\"14.00\" fill=\"#000000\">S → T•⊣</text>\n",
       "<text text-anchor=\"start\" x=\"233\" y=\"-29.8\" font-family=\"Times,serif\" font-size=\"14.00\" fill=\"#000000\">T → T•(T)</text>\n",
       "</g>\n",
       "<!-- n0&#45;&gt;n1 -->\n",
       "<g id=\"edge2\" class=\"edge\">\n",
       "<title>n0&#45;&gt;n1</title>\n",
       "<path fill=\"none\" stroke=\"#000000\" d=\"M179.0121,-41C190.5203,-41 203.0118,-41 214.815,-41\"/>\n",
       "<polygon fill=\"#000000\" stroke=\"#000000\" points=\"214.9682,-44.5001 224.9682,-41 214.9682,-37.5001 214.9682,-44.5001\"/>\n",
       "<text text-anchor=\"middle\" x=\"202\" y=\"-44.8\" font-family=\"Times,serif\" font-size=\"14.00\" fill=\"#000000\">T</text>\n",
       "</g>\n",
       "<!-- n2 -->\n",
       "<g id=\"node4\" class=\"node\">\n",
       "<title>n2</title>\n",
       "<path fill=\"none\" stroke=\"#000000\" d=\"M428,-119.5C428,-119.5 372,-119.5 372,-119.5 366,-119.5 360,-113.5 360,-107.5 360,-107.5 360,-78.5 360,-78.5 360,-72.5 366,-66.5 372,-66.5 372,-66.5 428,-66.5 428,-66.5 434,-66.5 440,-72.5 440,-78.5 440,-78.5 440,-107.5 440,-107.5 440,-113.5 434,-119.5 428,-119.5\"/>\n",
       "<path fill=\"none\" stroke=\"#000000\" d=\"M432,-123.5C432,-123.5 368,-123.5 368,-123.5 362,-123.5 356,-117.5 356,-111.5 356,-111.5 356,-74.5 356,-74.5 356,-68.5 362,-62.5 368,-62.5 368,-62.5 432,-62.5 432,-62.5 438,-62.5 444,-68.5 444,-74.5 444,-74.5 444,-111.5 444,-111.5 444,-117.5 438,-123.5 432,-123.5\"/>\n",
       "<text text-anchor=\"start\" x=\"368\" y=\"-104.3\" font-family=\"Times,serif\" font-size=\"14.00\" fill=\"#000000\">T → T(•T)</text>\n",
       "<text text-anchor=\"start\" x=\"368\" y=\"-89.3\" font-family=\"Times,serif\" font-size=\"14.00\" fill=\"#000000\">T → •T(T)</text>\n",
       "<text text-anchor=\"start\" x=\"368\" y=\"-74.3\" font-family=\"Times,serif\" font-size=\"14.00\" fill=\"#000000\">T → •</text>\n",
       "</g>\n",
       "<!-- n1&#45;&gt;n2 -->\n",
       "<g id=\"edge3\" class=\"edge\">\n",
       "<title>n1&#45;&gt;n2</title>\n",
       "<path fill=\"none\" stroke=\"#000000\" d=\"M305.1389,-56.4609C317.8977,-61.3754 332.2264,-66.8946 345.8068,-72.1256\"/>\n",
       "<polygon fill=\"#000000\" stroke=\"#000000\" points=\"344.9403,-75.5424 355.53,-75.8708 347.4564,-69.0103 344.9403,-75.5424\"/>\n",
       "<text text-anchor=\"middle\" x=\"330.5\" y=\"-71.8\" font-family=\"Times,serif\" font-size=\"14.00\" fill=\"#000000\">(</text>\n",
       "</g>\n",
       "<!-- n3 -->\n",
       "<g id=\"node5\" class=\"node\">\n",
       "<title>n3</title>\n",
       "<path fill=\"none\" stroke=\"#000000\" d=\"M425.5,-40C425.5,-40 374.5,-40 374.5,-40 368.5,-40 362.5,-34 362.5,-28 362.5,-28 362.5,-16 362.5,-16 362.5,-10 368.5,-4 374.5,-4 374.5,-4 425.5,-4 425.5,-4 431.5,-4 437.5,-10 437.5,-16 437.5,-16 437.5,-28 437.5,-28 437.5,-34 431.5,-40 425.5,-40\"/>\n",
       "<path fill=\"none\" stroke=\"#000000\" d=\"M429.5,-44C429.5,-44 370.5,-44 370.5,-44 364.5,-44 358.5,-38 358.5,-32 358.5,-32 358.5,-12 358.5,-12 358.5,-6 364.5,0 370.5,0 370.5,0 429.5,0 429.5,0 435.5,0 441.5,-6 441.5,-12 441.5,-12 441.5,-32 441.5,-32 441.5,-38 435.5,-44 429.5,-44\"/>\n",
       "<text text-anchor=\"start\" x=\"370.5\" y=\"-18.3\" font-family=\"Times,serif\" font-size=\"14.00\" fill=\"#000000\">S → T⊣•</text>\n",
       "</g>\n",
       "<!-- n1&#45;&gt;n3 -->\n",
       "<g id=\"edge4\" class=\"edge\">\n",
       "<title>n1&#45;&gt;n3</title>\n",
       "<path fill=\"none\" stroke=\"#000000\" d=\"M305.1389,-35.3508C318.6482,-33.4495 333.9176,-31.3005 348.1951,-29.2911\"/>\n",
       "<polygon fill=\"#000000\" stroke=\"#000000\" points=\"348.9621,-32.7177 358.3767,-27.8581 347.9865,-25.786 348.9621,-32.7177\"/>\n",
       "<text text-anchor=\"middle\" x=\"330.5\" y=\"-36.8\" font-family=\"Times,serif\" font-size=\"14.00\" fill=\"#000000\">⊣</text>\n",
       "</g>\n",
       "<!-- n4 -->\n",
       "<g id=\"node6\" class=\"node\">\n",
       "<title>n4</title>\n",
       "<path fill=\"none\" stroke=\"#000000\" d=\"M558,-112C558,-112 502,-112 502,-112 496,-112 490,-106 490,-100 490,-100 490,-86 490,-86 490,-80 496,-74 502,-74 502,-74 558,-74 558,-74 564,-74 570,-80 570,-86 570,-86 570,-100 570,-100 570,-106 564,-112 558,-112\"/>\n",
       "<text text-anchor=\"start\" x=\"498\" y=\"-96.8\" font-family=\"Times,serif\" font-size=\"14.00\" fill=\"#000000\">T → T(T•)</text>\n",
       "<text text-anchor=\"start\" x=\"498\" y=\"-81.8\" font-family=\"Times,serif\" font-size=\"14.00\" fill=\"#000000\">T → T•(T)</text>\n",
       "</g>\n",
       "<!-- n2&#45;&gt;n4 -->\n",
       "<g id=\"edge5\" class=\"edge\">\n",
       "<title>n2&#45;&gt;n4</title>\n",
       "<path fill=\"none\" stroke=\"#000000\" d=\"M444.0121,-93C455.5203,-93 468.0118,-93 479.815,-93\"/>\n",
       "<polygon fill=\"#000000\" stroke=\"#000000\" points=\"479.9682,-96.5001 489.9682,-93 479.9682,-89.5001 479.9682,-96.5001\"/>\n",
       "<text text-anchor=\"middle\" x=\"467\" y=\"-96.8\" font-family=\"Times,serif\" font-size=\"14.00\" fill=\"#000000\">T</text>\n",
       "</g>\n",
       "<!-- n4&#45;&gt;n2 -->\n",
       "<g id=\"edge6\" class=\"edge\">\n",
       "<title>n4&#45;&gt;n2</title>\n",
       "<path fill=\"none\" stroke=\"#000000\" d=\"M489.8411,-78.0424C483.931,-76.3706 477.8596,-74.9353 472,-74 466.1933,-73.0731 460.1772,-73.0754 454.2092,-73.7059\"/>\n",
       "<polygon fill=\"#000000\" stroke=\"#000000\" points=\"453.5738,-70.2631 444.2567,-75.307 454.6857,-77.1742 453.5738,-70.2631\"/>\n",
       "<text text-anchor=\"middle\" x=\"467\" y=\"-77.8\" font-family=\"Times,serif\" font-size=\"14.00\" fill=\"#000000\">(</text>\n",
       "</g>\n",
       "<!-- n5 -->\n",
       "<g id=\"node7\" class=\"node\">\n",
       "<title>n5</title>\n",
       "<path fill=\"none\" stroke=\"#000000\" d=\"M683,-111C683,-111 627,-111 627,-111 621,-111 615,-105 615,-99 615,-99 615,-87 615,-87 615,-81 621,-75 627,-75 627,-75 683,-75 683,-75 689,-75 695,-81 695,-87 695,-87 695,-99 695,-99 695,-105 689,-111 683,-111\"/>\n",
       "<path fill=\"none\" stroke=\"#000000\" d=\"M687,-115C687,-115 623,-115 623,-115 617,-115 611,-109 611,-103 611,-103 611,-83 611,-83 611,-77 617,-71 623,-71 623,-71 687,-71 687,-71 693,-71 699,-77 699,-83 699,-83 699,-103 699,-103 699,-109 693,-115 687,-115\"/>\n",
       "<text text-anchor=\"start\" x=\"623\" y=\"-89.3\" font-family=\"Times,serif\" font-size=\"14.00\" fill=\"#000000\">T → T(T)•</text>\n",
       "</g>\n",
       "<!-- n4&#45;&gt;n5 -->\n",
       "<g id=\"edge7\" class=\"edge\">\n",
       "<title>n4&#45;&gt;n5</title>\n",
       "<path fill=\"none\" stroke=\"#000000\" d=\"M570.2388,-93C579.9809,-93 590.5529,-93 600.82,-93\"/>\n",
       "<polygon fill=\"#000000\" stroke=\"#000000\" points=\"600.9434,-96.5001 610.9434,-93 600.9434,-89.5001 600.9434,-96.5001\"/>\n",
       "<text text-anchor=\"middle\" x=\"590.5\" y=\"-96.8\" font-family=\"Times,serif\" font-size=\"14.00\" fill=\"#000000\">)</text>\n",
       "</g>\n",
       "</g>\n",
       "</svg>\n"
      ]
     },
     "metadata": {},
     "output_type": "display_data"
    }
   ],
   "source": [
    "-- DK-test 조건:\n",
    "-- 모든 테두리 두겹인 상태는\n",
    "--   1. 점으로 끝나는 규칙(completed rule)은 딱 하나만 있어야\n",
    "--   2. 점 다음에 alphabet이 오는 규칙은 없어야\n",
    "\n",
    "-- DK-test를 만족하는 예\n",
    "drawDK (cfg2graphDK cfgG55)"
   ]
  },
  {
   "cell_type": "code",
   "execution_count": 36,
   "metadata": {},
   "outputs": [],
   "source": [
    "-- DK-test를 만족하지 않는 예\n",
    "cfgN1 = CFG([\"S\",\"A\",\"B\"],[\"0\",\"1\",\"⊣\"],rs,\"S\")\n",
    "  where\n",
    "  rs = [ \"S\" :-> [\"A\",\"⊣\"]\n",
    "       , \"A\" :-> [\"0\",\"A\",\"0\"]\n",
    "       , \"A\" :-> [\"B\"]\n",
    "       , \"B\" :-> [\"1\",\"B\",\"1\"]\n",
    "       , \"B\" :-> [] -- 2를 알파벳에 추가해서 여기 집어넣으면 어떻게 되나 시험해 보라\n",
    "       ]"
   ]
  },
  {
   "cell_type": "code",
   "execution_count": 37,
   "metadata": {},
   "outputs": [
    {
     "data": {
      "image/svg+xml": [
       "<?xml version=\"1.0\" encoding=\"UTF-8\" standalone=\"no\"?>\n",
       "<!DOCTYPE svg PUBLIC \"-//W3C//DTD SVG 1.1//EN\"\n",
       " \"http://www.w3.org/Graphics/SVG/1.1/DTD/svg11.dtd\">\n",
       "<!-- Generated by graphviz version 2.40.1 (20161225.0304)\n",
       " -->\n",
       "<!-- Title: %3 Pages: 1 -->\n",
       "<svg width=\"720pt\" height=\"285pt\"\n",
       " viewBox=\"0.00 0.00 720.00 285.00\" xmlns=\"http://www.w3.org/2000/svg\" xmlns:xlink=\"http://www.w3.org/1999/xlink\">\n",
       "<g id=\"graph0\" class=\"graph\" transform=\"scale(1 1) rotate(0) translate(4 281)\">\n",
       "<title>%3</title>\n",
       "<polygon fill=\"#ffffff\" stroke=\"transparent\" points=\"-4,4 -4,-281 716,-281 716,4 -4,4\"/>\n",
       "<!-- start -->\n",
       "<g id=\"node1\" class=\"node\">\n",
       "<title>start</title>\n",
       "<text text-anchor=\"middle\" x=\"27\" y=\"-171.3\" font-family=\"Times,serif\" font-size=\"14.00\" fill=\"#000000\">start</text>\n",
       "</g>\n",
       "<!-- n0 -->\n",
       "<g id=\"node2\" class=\"node\">\n",
       "<title>n0</title>\n",
       "<path fill=\"none\" stroke=\"#000000\" d=\"M162,-216.5C162,-216.5 107,-216.5 107,-216.5 101,-216.5 95,-210.5 95,-204.5 95,-204.5 95,-145.5 95,-145.5 95,-139.5 101,-133.5 107,-133.5 107,-133.5 162,-133.5 162,-133.5 168,-133.5 174,-139.5 174,-145.5 174,-145.5 174,-204.5 174,-204.5 174,-210.5 168,-216.5 162,-216.5\"/>\n",
       "<path fill=\"none\" stroke=\"#000000\" d=\"M166,-220.5C166,-220.5 103,-220.5 103,-220.5 97,-220.5 91,-214.5 91,-208.5 91,-208.5 91,-141.5 91,-141.5 91,-135.5 97,-129.5 103,-129.5 103,-129.5 166,-129.5 166,-129.5 172,-129.5 178,-135.5 178,-141.5 178,-141.5 178,-208.5 178,-208.5 178,-214.5 172,-220.5 166,-220.5\"/>\n",
       "<text text-anchor=\"start\" x=\"103\" y=\"-201.3\" font-family=\"Times,serif\" font-size=\"14.00\" fill=\"#000000\">S → •A⊣</text>\n",
       "<text text-anchor=\"start\" x=\"103\" y=\"-186.3\" font-family=\"Times,serif\" font-size=\"14.00\" fill=\"#000000\">A → •0A0</text>\n",
       "<text text-anchor=\"start\" x=\"103\" y=\"-171.3\" font-family=\"Times,serif\" font-size=\"14.00\" fill=\"#000000\">A → •B</text>\n",
       "<text text-anchor=\"start\" x=\"103\" y=\"-156.3\" font-family=\"Times,serif\" font-size=\"14.00\" fill=\"#000000\">B → •1B1</text>\n",
       "<text text-anchor=\"start\" x=\"103\" y=\"-141.3\" font-family=\"Times,serif\" font-size=\"14.00\" fill=\"#000000\">B → •</text>\n",
       "</g>\n",
       "<!-- start&#45;&gt;n0 -->\n",
       "<g id=\"edge1\" class=\"edge\">\n",
       "<title>start&#45;&gt;n0</title>\n",
       "<path fill=\"none\" stroke=\"#000000\" d=\"M54.1268,-175C62.1709,-175 71.2793,-175 80.4012,-175\"/>\n",
       "<polygon fill=\"#000000\" stroke=\"#000000\" points=\"80.6497,-178.5001 90.6497,-175 80.6496,-171.5001 80.6497,-178.5001\"/>\n",
       "</g>\n",
       "<!-- n1 -->\n",
       "<g id=\"node3\" class=\"node\">\n",
       "<title>n1</title>\n",
       "<path fill=\"none\" stroke=\"#000000\" d=\"M294.5,-273C294.5,-273 242.5,-273 242.5,-273 236.5,-273 230.5,-267 230.5,-261 230.5,-261 230.5,-249 230.5,-249 230.5,-243 236.5,-237 242.5,-237 242.5,-237 294.5,-237 294.5,-237 300.5,-237 306.5,-243 306.5,-249 306.5,-249 306.5,-261 306.5,-261 306.5,-267 300.5,-273 294.5,-273\"/>\n",
       "<text text-anchor=\"start\" x=\"238.5\" y=\"-251.3\" font-family=\"Times,serif\" font-size=\"14.00\" fill=\"#000000\">S → A•⊣</text>\n",
       "</g>\n",
       "<!-- n0&#45;&gt;n1 -->\n",
       "<g id=\"edge2\" class=\"edge\">\n",
       "<title>n0&#45;&gt;n1</title>\n",
       "<path fill=\"none\" stroke=\"#000000\" d=\"M178.0184,-206.5256C183.9773,-210.5171 190.0813,-214.4438 196,-218 204.181,-222.9154 213.0915,-227.8125 221.7772,-232.3589\"/>\n",
       "<polygon fill=\"#000000\" stroke=\"#000000\" points=\"220.2142,-235.4908 230.7072,-236.9558 223.418,-229.267 220.2142,-235.4908\"/>\n",
       "<text text-anchor=\"middle\" x=\"201.5\" y=\"-226.8\" font-family=\"Times,serif\" font-size=\"14.00\" fill=\"#000000\">A</text>\n",
       "</g>\n",
       "<!-- n2 -->\n",
       "<g id=\"node4\" class=\"node\">\n",
       "<title>n2</title>\n",
       "<path fill=\"none\" stroke=\"#000000\" d=\"M425.5,-211C425.5,-211 386.5,-211 386.5,-211 380.5,-211 374.5,-205 374.5,-199 374.5,-199 374.5,-187 374.5,-187 374.5,-181 380.5,-175 386.5,-175 386.5,-175 425.5,-175 425.5,-175 431.5,-175 437.5,-181 437.5,-187 437.5,-187 437.5,-199 437.5,-199 437.5,-205 431.5,-211 425.5,-211\"/>\n",
       "<path fill=\"none\" stroke=\"#000000\" d=\"M429.5,-215C429.5,-215 382.5,-215 382.5,-215 376.5,-215 370.5,-209 370.5,-203 370.5,-203 370.5,-183 370.5,-183 370.5,-177 376.5,-171 382.5,-171 382.5,-171 429.5,-171 429.5,-171 435.5,-171 441.5,-177 441.5,-183 441.5,-183 441.5,-203 441.5,-203 441.5,-209 435.5,-215 429.5,-215\"/>\n",
       "<text text-anchor=\"start\" x=\"382.5\" y=\"-189.3\" font-family=\"Times,serif\" font-size=\"14.00\" fill=\"#000000\">A → B•</text>\n",
       "</g>\n",
       "<!-- n0&#45;&gt;n2 -->\n",
       "<g id=\"edge3\" class=\"edge\">\n",
       "<title>n0&#45;&gt;n2</title>\n",
       "<path fill=\"none\" stroke=\"#000000\" d=\"M178.1212,-177.892C228.0447,-181.2019 309.4442,-186.5985 360.2446,-189.9665\"/>\n",
       "<polygon fill=\"#000000\" stroke=\"#000000\" points=\"360.0784,-193.4631 370.2881,-190.6324 360.5415,-186.4784 360.0784,-193.4631\"/>\n",
       "<text text-anchor=\"middle\" x=\"268.5\" y=\"-189.8\" font-family=\"Times,serif\" font-size=\"14.00\" fill=\"#000000\">B</text>\n",
       "</g>\n",
       "<!-- n3 -->\n",
       "<g id=\"node5\" class=\"node\">\n",
       "<title>n3</title>\n",
       "<path fill=\"none\" stroke=\"#000000\" d=\"M296,-130.5C296,-130.5 241,-130.5 241,-130.5 235,-130.5 229,-124.5 229,-118.5 229,-118.5 229,-59.5 229,-59.5 229,-53.5 235,-47.5 241,-47.5 241,-47.5 296,-47.5 296,-47.5 302,-47.5 308,-53.5 308,-59.5 308,-59.5 308,-118.5 308,-118.5 308,-124.5 302,-130.5 296,-130.5\"/>\n",
       "<path fill=\"none\" stroke=\"#000000\" d=\"M300,-134.5C300,-134.5 237,-134.5 237,-134.5 231,-134.5 225,-128.5 225,-122.5 225,-122.5 225,-55.5 225,-55.5 225,-49.5 231,-43.5 237,-43.5 237,-43.5 300,-43.5 300,-43.5 306,-43.5 312,-49.5 312,-55.5 312,-55.5 312,-122.5 312,-122.5 312,-128.5 306,-134.5 300,-134.5\"/>\n",
       "<text text-anchor=\"start\" x=\"237\" y=\"-115.3\" font-family=\"Times,serif\" font-size=\"14.00\" fill=\"#000000\">A → 0•A0</text>\n",
       "<text text-anchor=\"start\" x=\"237\" y=\"-100.3\" font-family=\"Times,serif\" font-size=\"14.00\" fill=\"#000000\">A → •0A0</text>\n",
       "<text text-anchor=\"start\" x=\"237\" y=\"-85.3\" font-family=\"Times,serif\" font-size=\"14.00\" fill=\"#000000\">A → •B</text>\n",
       "<text text-anchor=\"start\" x=\"237\" y=\"-70.3\" font-family=\"Times,serif\" font-size=\"14.00\" fill=\"#000000\">B → •1B1</text>\n",
       "<text text-anchor=\"start\" x=\"237\" y=\"-55.3\" font-family=\"Times,serif\" font-size=\"14.00\" fill=\"#000000\">B → •</text>\n",
       "</g>\n",
       "<!-- n0&#45;&gt;n3 -->\n",
       "<g id=\"edge4\" class=\"edge\">\n",
       "<title>n0&#45;&gt;n3</title>\n",
       "<path fill=\"none\" stroke=\"#000000\" d=\"M178.006,-147.0783C190.1759,-139.2677 203.5299,-130.6972 216.1541,-122.5951\"/>\n",
       "<polygon fill=\"#000000\" stroke=\"#000000\" points=\"218.2283,-125.4228 224.7538,-117.0759 214.4475,-119.5316 218.2283,-125.4228\"/>\n",
       "<text text-anchor=\"middle\" x=\"201.5\" y=\"-137.8\" font-family=\"Times,serif\" font-size=\"14.00\" fill=\"#000000\">0</text>\n",
       "</g>\n",
       "<!-- n4 -->\n",
       "<g id=\"node6\" class=\"node\">\n",
       "<title>n4</title>\n",
       "<path fill=\"none\" stroke=\"#000000\" d=\"M433,-115.5C433,-115.5 379,-115.5 379,-115.5 373,-115.5 367,-109.5 367,-103.5 367,-103.5 367,-74.5 367,-74.5 367,-68.5 373,-62.5 379,-62.5 379,-62.5 433,-62.5 433,-62.5 439,-62.5 445,-68.5 445,-74.5 445,-74.5 445,-103.5 445,-103.5 445,-109.5 439,-115.5 433,-115.5\"/>\n",
       "<path fill=\"none\" stroke=\"#000000\" d=\"M437,-119.5C437,-119.5 375,-119.5 375,-119.5 369,-119.5 363,-113.5 363,-107.5 363,-107.5 363,-70.5 363,-70.5 363,-64.5 369,-58.5 375,-58.5 375,-58.5 437,-58.5 437,-58.5 443,-58.5 449,-64.5 449,-70.5 449,-70.5 449,-107.5 449,-107.5 449,-113.5 443,-119.5 437,-119.5\"/>\n",
       "<text text-anchor=\"start\" x=\"375\" y=\"-100.3\" font-family=\"Times,serif\" font-size=\"14.00\" fill=\"#000000\">B → 1•B1</text>\n",
       "<text text-anchor=\"start\" x=\"375\" y=\"-85.3\" font-family=\"Times,serif\" font-size=\"14.00\" fill=\"#000000\">B → •1B1</text>\n",
       "<text text-anchor=\"start\" x=\"375\" y=\"-70.3\" font-family=\"Times,serif\" font-size=\"14.00\" fill=\"#000000\">B → •</text>\n",
       "</g>\n",
       "<!-- n0&#45;&gt;n4 -->\n",
       "<g id=\"edge5\" class=\"edge\">\n",
       "<title>n0&#45;&gt;n4</title>\n",
       "<path fill=\"none\" stroke=\"#000000\" d=\"M147.1367,-129.3375C160.0656,-92.3007 184.166,-42.5189 225,-19 258.5064,.2985 275.2968,-6.8351 312,-19 323.0694,-22.6688 343.0715,-37.086 361.7878,-51.8908\"/>\n",
       "<polygon fill=\"#000000\" stroke=\"#000000\" points=\"359.7076,-54.709 369.7006,-58.2293 364.084,-49.2457 359.7076,-54.709\"/>\n",
       "<text text-anchor=\"middle\" x=\"268.5\" y=\"-22.8\" font-family=\"Times,serif\" font-size=\"14.00\" fill=\"#000000\">1</text>\n",
       "</g>\n",
       "<!-- n5 -->\n",
       "<g id=\"node7\" class=\"node\">\n",
       "<title>n5</title>\n",
       "<path fill=\"none\" stroke=\"#000000\" d=\"M432,-273C432,-273 380,-273 380,-273 374,-273 368,-267 368,-261 368,-261 368,-249 368,-249 368,-243 374,-237 380,-237 380,-237 432,-237 432,-237 438,-237 444,-243 444,-249 444,-249 444,-261 444,-261 444,-267 438,-273 432,-273\"/>\n",
       "<path fill=\"none\" stroke=\"#000000\" d=\"M436,-277C436,-277 376,-277 376,-277 370,-277 364,-271 364,-265 364,-265 364,-245 364,-245 364,-239 370,-233 376,-233 376,-233 436,-233 436,-233 442,-233 448,-239 448,-245 448,-245 448,-265 448,-265 448,-271 442,-277 436,-277\"/>\n",
       "<text text-anchor=\"start\" x=\"376\" y=\"-251.3\" font-family=\"Times,serif\" font-size=\"14.00\" fill=\"#000000\">S → A⊣•</text>\n",
       "</g>\n",
       "<!-- n1&#45;&gt;n5 -->\n",
       "<g id=\"edge6\" class=\"edge\">\n",
       "<title>n1&#45;&gt;n5</title>\n",
       "<path fill=\"none\" stroke=\"#000000\" d=\"M306.8014,-255C321.2724,-255 337.9988,-255 353.5456,-255\"/>\n",
       "<polygon fill=\"#000000\" stroke=\"#000000\" points=\"353.5561,-258.5001 363.5561,-255 353.556,-251.5001 353.5561,-258.5001\"/>\n",
       "<text text-anchor=\"middle\" x=\"337.5\" y=\"-258.8\" font-family=\"Times,serif\" font-size=\"14.00\" fill=\"#000000\">⊣</text>\n",
       "</g>\n",
       "<!-- n3&#45;&gt;n2 -->\n",
       "<g id=\"edge8\" class=\"edge\">\n",
       "<title>n3&#45;&gt;n2</title>\n",
       "<path fill=\"none\" stroke=\"#000000\" d=\"M312.0243,-123.1036C327.9712,-135.471 346.2201,-149.4757 363,-162 364.1985,-162.8945 365.418,-163.8004 366.6512,-164.7126\"/>\n",
       "<polygon fill=\"#000000\" stroke=\"#000000\" points=\"364.7747,-167.6767 374.9077,-170.7706 368.9157,-162.033 364.7747,-167.6767\"/>\n",
       "<text text-anchor=\"middle\" x=\"337.5\" y=\"-151.8\" font-family=\"Times,serif\" font-size=\"14.00\" fill=\"#000000\">B</text>\n",
       "</g>\n",
       "<!-- n3&#45;&gt;n3 -->\n",
       "<g id=\"edge9\" class=\"edge\">\n",
       "<title>n3&#45;&gt;n3</title>\n",
       "<path fill=\"none\" stroke=\"#000000\" d=\"M256.4271,-134.6646C257.5148,-144.9656 261.5391,-152.5 268.5,-152.5 272.9594,-152.5 276.2135,-149.4079 278.2625,-144.4771\"/>\n",
       "<polygon fill=\"#000000\" stroke=\"#000000\" points=\"281.6877,-145.2006 280.5729,-134.6646 274.8741,-143.5962 281.6877,-145.2006\"/>\n",
       "<text text-anchor=\"middle\" x=\"268.5\" y=\"-156.3\" font-family=\"Times,serif\" font-size=\"14.00\" fill=\"#000000\">0</text>\n",
       "</g>\n",
       "<!-- n3&#45;&gt;n4 -->\n",
       "<g id=\"edge10\" class=\"edge\">\n",
       "<title>n3&#45;&gt;n4</title>\n",
       "<path fill=\"none\" stroke=\"#000000\" d=\"M312.0059,-89C324.9214,-89 339.2172,-89 352.6806,-89\"/>\n",
       "<polygon fill=\"#000000\" stroke=\"#000000\" points=\"352.7772,-92.5001 362.7772,-89 352.7771,-85.5001 352.7772,-92.5001\"/>\n",
       "<text text-anchor=\"middle\" x=\"337.5\" y=\"-92.8\" font-family=\"Times,serif\" font-size=\"14.00\" fill=\"#000000\">1</text>\n",
       "</g>\n",
       "<!-- n6 -->\n",
       "<g id=\"node8\" class=\"node\">\n",
       "<title>n6</title>\n",
       "<path fill=\"none\" stroke=\"#000000\" d=\"M433.5,-40C433.5,-40 378.5,-40 378.5,-40 372.5,-40 366.5,-34 366.5,-28 366.5,-28 366.5,-16 366.5,-16 366.5,-10 372.5,-4 378.5,-4 378.5,-4 433.5,-4 433.5,-4 439.5,-4 445.5,-10 445.5,-16 445.5,-16 445.5,-28 445.5,-28 445.5,-34 439.5,-40 433.5,-40\"/>\n",
       "<text text-anchor=\"start\" x=\"374.5\" y=\"-18.3\" font-family=\"Times,serif\" font-size=\"14.00\" fill=\"#000000\">A → 0A•0</text>\n",
       "</g>\n",
       "<!-- n3&#45;&gt;n6 -->\n",
       "<g id=\"edge7\" class=\"edge\">\n",
       "<title>n3&#45;&gt;n6</title>\n",
       "<path fill=\"none\" stroke=\"#000000\" d=\"M312.0059,-67.8008C327.1219,-60.4351 344.1287,-52.1482 359.4787,-44.6685\"/>\n",
       "<polygon fill=\"#000000\" stroke=\"#000000\" points=\"361.3341,-47.6579 368.7905,-40.1312 358.2678,-41.3652 361.3341,-47.6579\"/>\n",
       "<text text-anchor=\"middle\" x=\"337.5\" y=\"-61.8\" font-family=\"Times,serif\" font-size=\"14.00\" fill=\"#000000\">A</text>\n",
       "</g>\n",
       "<!-- n4&#45;&gt;n4 -->\n",
       "<g id=\"edge12\" class=\"edge\">\n",
       "<title>n4&#45;&gt;n4</title>\n",
       "<path fill=\"none\" stroke=\"#000000\" d=\"M393.628,-119.7846C393.7549,-129.6673 397.8789,-137.5 406,-137.5 411.0757,-137.5 414.59,-134.4404 416.5429,-129.7329\"/>\n",
       "<polygon fill=\"#000000\" stroke=\"#000000\" points=\"420.006,-130.2527 418.372,-119.7846 413.1214,-128.9869 420.006,-130.2527\"/>\n",
       "<text text-anchor=\"middle\" x=\"406\" y=\"-141.3\" font-family=\"Times,serif\" font-size=\"14.00\" fill=\"#000000\">1</text>\n",
       "</g>\n",
       "<!-- n7 -->\n",
       "<g id=\"node9\" class=\"node\">\n",
       "<title>n7</title>\n",
       "<path fill=\"none\" stroke=\"#000000\" d=\"M565.5,-107C565.5,-107 511.5,-107 511.5,-107 505.5,-107 499.5,-101 499.5,-95 499.5,-95 499.5,-83 499.5,-83 499.5,-77 505.5,-71 511.5,-71 511.5,-71 565.5,-71 565.5,-71 571.5,-71 577.5,-77 577.5,-83 577.5,-83 577.5,-95 577.5,-95 577.5,-101 571.5,-107 565.5,-107\"/>\n",
       "<text text-anchor=\"start\" x=\"507.5\" y=\"-85.3\" font-family=\"Times,serif\" font-size=\"14.00\" fill=\"#000000\">B → 1B•1</text>\n",
       "</g>\n",
       "<!-- n4&#45;&gt;n7 -->\n",
       "<g id=\"edge11\" class=\"edge\">\n",
       "<title>n4&#45;&gt;n7</title>\n",
       "<path fill=\"none\" stroke=\"#000000\" d=\"M449.019,-89C461.7788,-89 475.855,-89 488.9914,-89\"/>\n",
       "<polygon fill=\"#000000\" stroke=\"#000000\" points=\"489.2821,-92.5001 499.282,-89 489.282,-85.5001 489.2821,-92.5001\"/>\n",
       "<text text-anchor=\"middle\" x=\"472\" y=\"-92.8\" font-family=\"Times,serif\" font-size=\"14.00\" fill=\"#000000\">B</text>\n",
       "</g>\n",
       "<!-- n8 -->\n",
       "<g id=\"node10\" class=\"node\">\n",
       "<title>n8</title>\n",
       "<path fill=\"none\" stroke=\"#000000\" d=\"M566,-40C566,-40 511,-40 511,-40 505,-40 499,-34 499,-28 499,-28 499,-16 499,-16 499,-10 505,-4 511,-4 511,-4 566,-4 566,-4 572,-4 578,-10 578,-16 578,-16 578,-28 578,-28 578,-34 572,-40 566,-40\"/>\n",
       "<path fill=\"none\" stroke=\"#000000\" d=\"M570,-44C570,-44 507,-44 507,-44 501,-44 495,-38 495,-32 495,-32 495,-12 495,-12 495,-6 501,0 507,0 507,0 570,0 570,0 576,0 582,-6 582,-12 582,-12 582,-32 582,-32 582,-38 576,-44 570,-44\"/>\n",
       "<text text-anchor=\"start\" x=\"507\" y=\"-18.3\" font-family=\"Times,serif\" font-size=\"14.00\" fill=\"#000000\">A → 0A0•</text>\n",
       "</g>\n",
       "<!-- n6&#45;&gt;n8 -->\n",
       "<g id=\"edge13\" class=\"edge\">\n",
       "<title>n6&#45;&gt;n8</title>\n",
       "<path fill=\"none\" stroke=\"#000000\" d=\"M445.7544,-22C457.9044,-22 471.4779,-22 484.4111,-22\"/>\n",
       "<polygon fill=\"#000000\" stroke=\"#000000\" points=\"484.6066,-25.5001 494.6066,-22 484.6065,-18.5001 484.6066,-25.5001\"/>\n",
       "<text text-anchor=\"middle\" x=\"472\" y=\"-25.8\" font-family=\"Times,serif\" font-size=\"14.00\" fill=\"#000000\">0</text>\n",
       "</g>\n",
       "<!-- n9 -->\n",
       "<g id=\"node11\" class=\"node\">\n",
       "<title>n9</title>\n",
       "<path fill=\"none\" stroke=\"#000000\" d=\"M696,-107C696,-107 642,-107 642,-107 636,-107 630,-101 630,-95 630,-95 630,-83 630,-83 630,-77 636,-71 642,-71 642,-71 696,-71 696,-71 702,-71 708,-77 708,-83 708,-83 708,-95 708,-95 708,-101 702,-107 696,-107\"/>\n",
       "<path fill=\"none\" stroke=\"#000000\" d=\"M700,-111C700,-111 638,-111 638,-111 632,-111 626,-105 626,-99 626,-99 626,-79 626,-79 626,-73 632,-67 638,-67 638,-67 700,-67 700,-67 706,-67 712,-73 712,-79 712,-79 712,-99 712,-99 712,-105 706,-111 700,-111\"/>\n",
       "<text text-anchor=\"start\" x=\"638\" y=\"-85.3\" font-family=\"Times,serif\" font-size=\"14.00\" fill=\"#000000\">B → 1B1•</text>\n",
       "</g>\n",
       "<!-- n7&#45;&gt;n9 -->\n",
       "<g id=\"edge14\" class=\"edge\">\n",
       "<title>n7&#45;&gt;n9</title>\n",
       "<path fill=\"none\" stroke=\"#000000\" d=\"M577.6543,-89C589.6209,-89 602.9896,-89 615.7275,-89\"/>\n",
       "<polygon fill=\"#000000\" stroke=\"#000000\" points=\"615.7691,-92.5001 625.7691,-89 615.7691,-85.5001 615.7691,-92.5001\"/>\n",
       "<text text-anchor=\"middle\" x=\"604\" y=\"-92.8\" font-family=\"Times,serif\" font-size=\"14.00\" fill=\"#000000\">1</text>\n",
       "</g>\n",
       "</g>\n",
       "</svg>\n"
      ]
     },
     "metadata": {},
     "output_type": "display_data"
    }
   ],
   "source": [
    "drawDK (cfg2graphDK cfgN1)"
   ]
  },
  {
   "cell_type": "code",
   "execution_count": 38,
   "metadata": {},
   "outputs": [],
   "source": [
    "-- DK-test를 만족하지 않는 예\n",
    "cfgG64 = CFG([\"S\",\"E\",\"T\"],[\"a\",\"+\",\"×\",\"⊣\"],rs,\"S\")\n",
    "  where\n",
    "  rs = [ \"S\" :-> [\"E\",\"⊣\"]\n",
    "       , \"E\" :-> [\"E\",\"+\",\"T\"]\n",
    "       , \"E\" :-> [\"T\"]\n",
    "       , \"T\" :-> [\"T\",\"×\",\"a\"]\n",
    "       , \"T\" :-> [\"a\"]\n",
    "       ]"
   ]
  },
  {
   "cell_type": "code",
   "execution_count": 39,
   "metadata": {},
   "outputs": [
    {
     "data": {
      "image/svg+xml": [
       "<?xml version=\"1.0\" encoding=\"UTF-8\" standalone=\"no\"?>\n",
       "<!DOCTYPE svg PUBLIC \"-//W3C//DTD SVG 1.1//EN\"\n",
       " \"http://www.w3.org/Graphics/SVG/1.1/DTD/svg11.dtd\">\n",
       "<!-- Generated by graphviz version 2.40.1 (20161225.0304)\n",
       " -->\n",
       "<!-- Title: %3 Pages: 1 -->\n",
       "<svg width=\"887pt\" height=\"221pt\"\n",
       " viewBox=\"0.00 0.00 887.00 220.50\" xmlns=\"http://www.w3.org/2000/svg\" xmlns:xlink=\"http://www.w3.org/1999/xlink\">\n",
       "<g id=\"graph0\" class=\"graph\" transform=\"scale(1 1) rotate(0) translate(4 216.5)\">\n",
       "<title>%3</title>\n",
       "<polygon fill=\"#ffffff\" stroke=\"transparent\" points=\"-4,4 -4,-216.5 883,-216.5 883,4 -4,4\"/>\n",
       "<!-- start -->\n",
       "<g id=\"node1\" class=\"node\">\n",
       "<title>start</title>\n",
       "<text text-anchor=\"middle\" x=\"27\" y=\"-65.3\" font-family=\"Times,serif\" font-size=\"14.00\" fill=\"#000000\">start</text>\n",
       "</g>\n",
       "<!-- n0 -->\n",
       "<g id=\"node2\" class=\"node\">\n",
       "<title>n0</title>\n",
       "<path fill=\"none\" stroke=\"#000000\" d=\"M158,-110.5C158,-110.5 103,-110.5 103,-110.5 97,-110.5 91,-104.5 91,-98.5 91,-98.5 91,-39.5 91,-39.5 91,-33.5 97,-27.5 103,-27.5 103,-27.5 158,-27.5 158,-27.5 164,-27.5 170,-33.5 170,-39.5 170,-39.5 170,-98.5 170,-98.5 170,-104.5 164,-110.5 158,-110.5\"/>\n",
       "<text text-anchor=\"start\" x=\"99\" y=\"-95.3\" font-family=\"Times,serif\" font-size=\"14.00\" fill=\"#000000\">S → •E⊣</text>\n",
       "<text text-anchor=\"start\" x=\"99\" y=\"-80.3\" font-family=\"Times,serif\" font-size=\"14.00\" fill=\"#000000\">E → •E+T</text>\n",
       "<text text-anchor=\"start\" x=\"99\" y=\"-65.3\" font-family=\"Times,serif\" font-size=\"14.00\" fill=\"#000000\">E → •T</text>\n",
       "<text text-anchor=\"start\" x=\"99\" y=\"-50.3\" font-family=\"Times,serif\" font-size=\"14.00\" fill=\"#000000\">T → •T×a</text>\n",
       "<text text-anchor=\"start\" x=\"99\" y=\"-35.3\" font-family=\"Times,serif\" font-size=\"14.00\" fill=\"#000000\">T → •a</text>\n",
       "</g>\n",
       "<!-- start&#45;&gt;n0 -->\n",
       "<g id=\"edge1\" class=\"edge\">\n",
       "<title>start&#45;&gt;n0</title>\n",
       "<path fill=\"none\" stroke=\"#000000\" d=\"M54.1934,-69C62.2874,-69 71.4247,-69 80.4908,-69\"/>\n",
       "<polygon fill=\"#000000\" stroke=\"#000000\" points=\"80.6369,-72.5001 90.6369,-69 80.6368,-65.5001 80.6369,-72.5001\"/>\n",
       "</g>\n",
       "<!-- n1 -->\n",
       "<g id=\"node3\" class=\"node\">\n",
       "<title>n1</title>\n",
       "<path fill=\"none\" stroke=\"#000000\" d=\"M283,-138C283,-138 228,-138 228,-138 222,-138 216,-132 216,-126 216,-126 216,-112 216,-112 216,-106 222,-100 228,-100 228,-100 283,-100 283,-100 289,-100 295,-106 295,-112 295,-112 295,-126 295,-126 295,-132 289,-138 283,-138\"/>\n",
       "<text text-anchor=\"start\" x=\"224\" y=\"-122.8\" font-family=\"Times,serif\" font-size=\"14.00\" fill=\"#000000\">S → E•⊣</text>\n",
       "<text text-anchor=\"start\" x=\"224\" y=\"-107.8\" font-family=\"Times,serif\" font-size=\"14.00\" fill=\"#000000\">E → E•+T</text>\n",
       "</g>\n",
       "<!-- n0&#45;&gt;n1 -->\n",
       "<g id=\"edge2\" class=\"edge\">\n",
       "<title>n0&#45;&gt;n1</title>\n",
       "<path fill=\"none\" stroke=\"#000000\" d=\"M170.0508,-84.8203C181.5642,-89.4257 194.2841,-94.5136 206.314,-99.3256\"/>\n",
       "<polygon fill=\"#000000\" stroke=\"#000000\" points=\"205.1928,-102.6467 215.7775,-103.111 207.7926,-96.1473 205.1928,-102.6467\"/>\n",
       "<text text-anchor=\"middle\" x=\"193\" y=\"-98.8\" font-family=\"Times,serif\" font-size=\"14.00\" fill=\"#000000\">E</text>\n",
       "</g>\n",
       "<!-- n2 -->\n",
       "<g id=\"node4\" class=\"node\">\n",
       "<title>n2</title>\n",
       "<path fill=\"none\" stroke=\"#000000\" d=\"M381,-42C381,-42 329,-42 329,-42 323,-42 317,-36 317,-30 317,-30 317,-16 317,-16 317,-10 323,-4 329,-4 329,-4 381,-4 381,-4 387,-4 393,-10 393,-16 393,-16 393,-30 393,-30 393,-36 387,-42 381,-42\"/>\n",
       "<path fill=\"none\" stroke=\"#000000\" d=\"M385,-46C385,-46 325,-46 325,-46 319,-46 313,-40 313,-34 313,-34 313,-12 313,-12 313,-6 319,0 325,0 325,0 385,0 385,0 391,0 397,-6 397,-12 397,-12 397,-34 397,-34 397,-40 391,-46 385,-46\"/>\n",
       "<text text-anchor=\"start\" x=\"325\" y=\"-26.8\" font-family=\"Times,serif\" font-size=\"14.00\" fill=\"#000000\">E → T•</text>\n",
       "<text text-anchor=\"start\" x=\"325\" y=\"-11.8\" font-family=\"Times,serif\" font-size=\"14.00\" fill=\"#000000\">T → T•×a</text>\n",
       "</g>\n",
       "<!-- n0&#45;&gt;n2 -->\n",
       "<g id=\"edge3\" class=\"edge\">\n",
       "<title>n0&#45;&gt;n2</title>\n",
       "<path fill=\"none\" stroke=\"#000000\" d=\"M170.2622,-46.6302C176.0773,-44.0468 182.0976,-41.7247 188,-40 225.3923,-29.0741 269.2674,-24.9232 302.6603,-23.4511\"/>\n",
       "<polygon fill=\"#000000\" stroke=\"#000000\" points=\"302.8066,-26.9481 312.6683,-23.0757 302.5441,-19.9531 302.8066,-26.9481\"/>\n",
       "<text text-anchor=\"middle\" x=\"193\" y=\"-43.8\" font-family=\"Times,serif\" font-size=\"14.00\" fill=\"#000000\">T</text>\n",
       "</g>\n",
       "<!-- n3 -->\n",
       "<g id=\"node5\" class=\"node\">\n",
       "<title>n3</title>\n",
       "<path fill=\"none\" stroke=\"#000000\" d=\"M605,-96C605,-96 570,-96 570,-96 564,-96 558,-90 558,-84 558,-84 558,-72 558,-72 558,-66 564,-60 570,-60 570,-60 605,-60 605,-60 611,-60 617,-66 617,-72 617,-72 617,-84 617,-84 617,-90 611,-96 605,-96\"/>\n",
       "<path fill=\"none\" stroke=\"#000000\" d=\"M609,-100C609,-100 566,-100 566,-100 560,-100 554,-94 554,-88 554,-88 554,-68 554,-68 554,-62 560,-56 566,-56 566,-56 609,-56 609,-56 615,-56 621,-62 621,-68 621,-68 621,-88 621,-88 621,-94 615,-100 609,-100\"/>\n",
       "<text text-anchor=\"start\" x=\"566\" y=\"-74.3\" font-family=\"Times,serif\" font-size=\"14.00\" fill=\"#000000\">T → a•</text>\n",
       "</g>\n",
       "<!-- n0&#45;&gt;n3 -->\n",
       "<g id=\"edge4\" class=\"edge\">\n",
       "<title>n0&#45;&gt;n3</title>\n",
       "<path fill=\"none\" stroke=\"#000000\" d=\"M170.2563,-69.7829C255.3961,-71.4597 454.8034,-75.3867 543.5549,-77.1346\"/>\n",
       "<polygon fill=\"#000000\" stroke=\"#000000\" points=\"543.7475,-80.6389 553.8146,-77.3366 543.8854,-73.6403 543.7475,-80.6389\"/>\n",
       "<text text-anchor=\"middle\" x=\"355\" y=\"-77.8\" font-family=\"Times,serif\" font-size=\"14.00\" fill=\"#000000\">a</text>\n",
       "</g>\n",
       "<!-- n4 -->\n",
       "<g id=\"node6\" class=\"node\">\n",
       "<title>n4</title>\n",
       "<path fill=\"none\" stroke=\"#000000\" d=\"M484,-212.5C484,-212.5 429,-212.5 429,-212.5 423,-212.5 417,-206.5 417,-200.5 417,-200.5 417,-171.5 417,-171.5 417,-165.5 423,-159.5 429,-159.5 429,-159.5 484,-159.5 484,-159.5 490,-159.5 496,-165.5 496,-171.5 496,-171.5 496,-200.5 496,-200.5 496,-206.5 490,-212.5 484,-212.5\"/>\n",
       "<text text-anchor=\"start\" x=\"425\" y=\"-197.3\" font-family=\"Times,serif\" font-size=\"14.00\" fill=\"#000000\">E → E+•T</text>\n",
       "<text text-anchor=\"start\" x=\"425\" y=\"-182.3\" font-family=\"Times,serif\" font-size=\"14.00\" fill=\"#000000\">T → •T×a</text>\n",
       "<text text-anchor=\"start\" x=\"425\" y=\"-167.3\" font-family=\"Times,serif\" font-size=\"14.00\" fill=\"#000000\">T → •a</text>\n",
       "</g>\n",
       "<!-- n1&#45;&gt;n4 -->\n",
       "<g id=\"edge5\" class=\"edge\">\n",
       "<title>n1&#45;&gt;n4</title>\n",
       "<path fill=\"none\" stroke=\"#000000\" d=\"M295.2111,-132.237C327.2833,-142.9278 372.5855,-158.0285 407.0162,-169.5054\"/>\n",
       "<polygon fill=\"#000000\" stroke=\"#000000\" points=\"406.2777,-172.9485 416.8714,-172.7905 408.4913,-166.3077 406.2777,-172.9485\"/>\n",
       "<text text-anchor=\"middle\" x=\"355\" y=\"-167.8\" font-family=\"Times,serif\" font-size=\"14.00\" fill=\"#000000\">+</text>\n",
       "</g>\n",
       "<!-- n5 -->\n",
       "<g id=\"node7\" class=\"node\">\n",
       "<title>n5</title>\n",
       "<path fill=\"none\" stroke=\"#000000\" d=\"M482,-137C482,-137 431,-137 431,-137 425,-137 419,-131 419,-125 419,-125 419,-113 419,-113 419,-107 425,-101 431,-101 431,-101 482,-101 482,-101 488,-101 494,-107 494,-113 494,-113 494,-125 494,-125 494,-131 488,-137 482,-137\"/>\n",
       "<path fill=\"none\" stroke=\"#000000\" d=\"M486,-141C486,-141 427,-141 427,-141 421,-141 415,-135 415,-129 415,-129 415,-109 415,-109 415,-103 421,-97 427,-97 427,-97 486,-97 486,-97 492,-97 498,-103 498,-109 498,-109 498,-129 498,-129 498,-135 492,-141 486,-141\"/>\n",
       "<text text-anchor=\"start\" x=\"427\" y=\"-115.3\" font-family=\"Times,serif\" font-size=\"14.00\" fill=\"#000000\">S → E⊣•</text>\n",
       "</g>\n",
       "<!-- n1&#45;&gt;n5 -->\n",
       "<g id=\"edge6\" class=\"edge\">\n",
       "<title>n1&#45;&gt;n5</title>\n",
       "<path fill=\"none\" stroke=\"#000000\" d=\"M295.2111,-119C326.5235,-119 370.4467,-119 404.5513,-119\"/>\n",
       "<polygon fill=\"#000000\" stroke=\"#000000\" points=\"404.7955,-122.5001 414.7955,-119 404.7954,-115.5001 404.7955,-122.5001\"/>\n",
       "<text text-anchor=\"middle\" x=\"355\" y=\"-122.8\" font-family=\"Times,serif\" font-size=\"14.00\" fill=\"#000000\">⊣</text>\n",
       "</g>\n",
       "<!-- n6 -->\n",
       "<g id=\"node8\" class=\"node\">\n",
       "<title>n6</title>\n",
       "<path fill=\"none\" stroke=\"#000000\" d=\"M740,-60C740,-60 688,-60 688,-60 682,-60 676,-54 676,-48 676,-48 676,-36 676,-36 676,-30 682,-24 688,-24 688,-24 740,-24 740,-24 746,-24 752,-30 752,-36 752,-36 752,-48 752,-48 752,-54 746,-60 740,-60\"/>\n",
       "<text text-anchor=\"start\" x=\"684\" y=\"-38.3\" font-family=\"Times,serif\" font-size=\"14.00\" fill=\"#000000\">T → T×•a</text>\n",
       "</g>\n",
       "<!-- n2&#45;&gt;n6 -->\n",
       "<g id=\"edge7\" class=\"edge\">\n",
       "<title>n2&#45;&gt;n6</title>\n",
       "<path fill=\"none\" stroke=\"#000000\" d=\"M397.2375,-25.2354C464.2311,-28.781 594.4992,-35.6754 665.3178,-39.4235\"/>\n",
       "<polygon fill=\"#000000\" stroke=\"#000000\" points=\"665.5665,-42.9415 675.7375,-39.975 665.9365,-35.9513 665.5665,-42.9415\"/>\n",
       "<text text-anchor=\"middle\" x=\"521\" y=\"-35.8\" font-family=\"Times,serif\" font-size=\"14.00\" fill=\"#000000\">×</text>\n",
       "</g>\n",
       "<!-- n4&#45;&gt;n3 -->\n",
       "<g id=\"edge9\" class=\"edge\">\n",
       "<title>n4&#45;&gt;n3</title>\n",
       "<path fill=\"none\" stroke=\"#000000\" d=\"M487.3246,-159.2678C490.9241,-156.144 494.5435,-153.0021 498,-150 518.4551,-132.2344 522.8483,-126.9301 544,-110 545.5371,-108.7697 547.1147,-107.5259 548.7159,-106.2791\"/>\n",
       "<polygon fill=\"#000000\" stroke=\"#000000\" points=\"551.0206,-108.9228 556.8393,-100.0688 546.7692,-103.3618 551.0206,-108.9228\"/>\n",
       "<text text-anchor=\"middle\" x=\"521\" y=\"-136.8\" font-family=\"Times,serif\" font-size=\"14.00\" fill=\"#000000\">a</text>\n",
       "</g>\n",
       "<!-- n7 -->\n",
       "<g id=\"node9\" class=\"node\">\n",
       "<title>n7</title>\n",
       "<path fill=\"none\" stroke=\"#000000\" d=\"M615,-161C615,-161 560,-161 560,-161 554,-161 548,-155 548,-149 548,-149 548,-135 548,-135 548,-129 554,-123 560,-123 560,-123 615,-123 615,-123 621,-123 627,-129 627,-135 627,-135 627,-149 627,-149 627,-155 621,-161 615,-161\"/>\n",
       "<path fill=\"none\" stroke=\"#000000\" d=\"M619,-165C619,-165 556,-165 556,-165 550,-165 544,-159 544,-153 544,-153 544,-131 544,-131 544,-125 550,-119 556,-119 556,-119 619,-119 619,-119 625,-119 631,-125 631,-131 631,-131 631,-153 631,-153 631,-159 625,-165 619,-165\"/>\n",
       "<text text-anchor=\"start\" x=\"556\" y=\"-145.8\" font-family=\"Times,serif\" font-size=\"14.00\" fill=\"#000000\">E → E+T•</text>\n",
       "<text text-anchor=\"start\" x=\"556\" y=\"-130.8\" font-family=\"Times,serif\" font-size=\"14.00\" fill=\"#000000\">T → T•×a</text>\n",
       "</g>\n",
       "<!-- n4&#45;&gt;n7 -->\n",
       "<g id=\"edge8\" class=\"edge\">\n",
       "<title>n4&#45;&gt;n7</title>\n",
       "<path fill=\"none\" stroke=\"#000000\" d=\"M496.1598,-172.6791C508.1617,-168.648 521.5421,-164.1538 534.2799,-159.8755\"/>\n",
       "<polygon fill=\"#000000\" stroke=\"#000000\" points=\"535.4967,-163.159 543.8618,-156.6571 533.2678,-156.5233 535.4967,-163.159\"/>\n",
       "<text text-anchor=\"middle\" x=\"521\" y=\"-168.8\" font-family=\"Times,serif\" font-size=\"14.00\" fill=\"#000000\">T</text>\n",
       "</g>\n",
       "<!-- n8 -->\n",
       "<g id=\"node10\" class=\"node\">\n",
       "<title>n8</title>\n",
       "<path fill=\"none\" stroke=\"#000000\" d=\"M863,-60C863,-60 811,-60 811,-60 805,-60 799,-54 799,-48 799,-48 799,-36 799,-36 799,-30 805,-24 811,-24 811,-24 863,-24 863,-24 869,-24 875,-30 875,-36 875,-36 875,-48 875,-48 875,-54 869,-60 863,-60\"/>\n",
       "<path fill=\"none\" stroke=\"#000000\" d=\"M867,-64C867,-64 807,-64 807,-64 801,-64 795,-58 795,-52 795,-52 795,-32 795,-32 795,-26 801,-20 807,-20 807,-20 867,-20 867,-20 873,-20 879,-26 879,-32 879,-32 879,-52 879,-52 879,-58 873,-64 867,-64\"/>\n",
       "<text text-anchor=\"start\" x=\"807\" y=\"-38.3\" font-family=\"Times,serif\" font-size=\"14.00\" fill=\"#000000\">T → T×a•</text>\n",
       "</g>\n",
       "<!-- n6&#45;&gt;n8 -->\n",
       "<g id=\"edge10\" class=\"edge\">\n",
       "<title>n6&#45;&gt;n8</title>\n",
       "<path fill=\"none\" stroke=\"#000000\" d=\"M752.2437,-42C762.5046,-42 773.7783,-42 784.6607,-42\"/>\n",
       "<polygon fill=\"#000000\" stroke=\"#000000\" points=\"784.9285,-45.5001 794.9284,-42 784.9284,-38.5001 784.9285,-45.5001\"/>\n",
       "<text text-anchor=\"middle\" x=\"773.5\" y=\"-45.8\" font-family=\"Times,serif\" font-size=\"14.00\" fill=\"#000000\">a</text>\n",
       "</g>\n",
       "<!-- n7&#45;&gt;n6 -->\n",
       "<g id=\"edge11\" class=\"edge\">\n",
       "<title>n7&#45;&gt;n6</title>\n",
       "<path fill=\"none\" stroke=\"#000000\" d=\"M618.4806,-118.6783C622.703,-115.4471 626.969,-112.1548 631,-109 648.7587,-95.1014 668.4029,-79.2653 684.1206,-66.4797\"/>\n",
       "<polygon fill=\"#000000\" stroke=\"#000000\" points=\"686.4104,-69.1287 691.9512,-60.0982 681.9882,-63.7024 686.4104,-69.1287\"/>\n",
       "<text text-anchor=\"middle\" x=\"653.5\" y=\"-97.8\" font-family=\"Times,serif\" font-size=\"14.00\" fill=\"#000000\">×</text>\n",
       "</g>\n",
       "</g>\n",
       "</svg>\n"
      ]
     },
     "metadata": {},
     "output_type": "display_data"
    }
   ],
   "source": [
    "cfgG64DK = cfg2graphDK cfgG64\n",
    "\n",
    "drawDK cfgG64DK"
   ]
  },
  {
   "cell_type": "code",
   "execution_count": 40,
   "metadata": {},
   "outputs": [],
   "source": [
    "nullables :: CFG -> [Gamma]\n",
    "nullables (CFG(_,as,rs,_)) = fix0s ns0\n",
    "  where\n",
    "  rs0 = [r | r@(v:->gs) <- rs, all (`notElem` as) gs]\n",
    "  ns0 = [v | v:->[] <- rs0]\n",
    "  fix0s ns | ns == ns' = ns\n",
    "           | otherwise = fix0s ns'\n",
    "           where\n",
    "             ns' = ns `union` [v | v:->gs <- rs0, all (`elem` ns) gs]\n",
    "\n",
    "first :: CFG -> [Gamma] -> [Gamma]\n",
    "first cfg@(CFG(vs,as,rs,_)) = f1 [] \n",
    "  where\n",
    "  ns = nullables cfg\n",
    "  f1 ys []        = []\n",
    "  f1 ys (x:xs)\n",
    "    | x `elem` as = [x]\n",
    "    | x `elem` ys = if x `elem` ns then f1' xs else []\n",
    "    | x `elem` ns = foldr union (f1' xs) [f1' gs | v:->gs <- rs, v==x]\n",
    "    | otherwise   = foldr union []       [f1' gs | v:->gs <- rs, v==x]\n",
    "    where\n",
    "      f1' = f1 (ys `union` [x])"
   ]
  },
  {
   "cell_type": "code",
   "execution_count": 41,
   "metadata": {},
   "outputs": [
    {
     "data": {
      "text/plain": [
       "[\"B\",\"A\"]"
      ]
     },
     "metadata": {},
     "output_type": "display_data"
    },
    {
     "data": {
      "text/plain": [
       "[\"0\",\"1\",\"\\8867\"]"
      ]
     },
     "metadata": {},
     "output_type": "display_data"
    },
    {
     "data": {
      "text/plain": [
       "[\"0\",\"1\"]"
      ]
     },
     "metadata": {},
     "output_type": "display_data"
    },
    {
     "data": {
      "text/plain": [
       "[\"1\"]"
      ]
     },
     "metadata": {},
     "output_type": "display_data"
    }
   ],
   "source": [
    "nullables cfgN1\n",
    "first cfgN1 [\"S\"]\n",
    "first cfgN1 [\"A\"]\n",
    "first cfgN1 [\"B\"]"
   ]
  },
  {
   "cell_type": "code",
   "execution_count": 42,
   "metadata": {},
   "outputs": [
    {
     "data": {
      "text/plain": [
       "[\"T\"]"
      ]
     },
     "metadata": {},
     "output_type": "display_data"
    }
   ],
   "source": [
    "nullables cfgG55"
   ]
  },
  {
   "cell_type": "code",
   "execution_count": 43,
   "metadata": {},
   "outputs": [
    {
     "data": {
      "text/plain": [
       "[\"(\",\"\\8867\"]"
      ]
     },
     "metadata": {},
     "output_type": "display_data"
    },
    {
     "data": {
      "text/plain": [
       "[\"(\"]"
      ]
     },
     "metadata": {},
     "output_type": "display_data"
    }
   ],
   "source": [
    "first cfgG55 [\"S\"]\n",
    "first cfgG55 [\"T\"]"
   ]
  },
  {
   "cell_type": "code",
   "execution_count": 44,
   "metadata": {},
   "outputs": [
    {
     "data": {
      "text/plain": [
       "[]"
      ]
     },
     "metadata": {},
     "output_type": "display_data"
    },
    {
     "data": {
      "text/plain": [
       "[\"a\"]"
      ]
     },
     "metadata": {},
     "output_type": "display_data"
    },
    {
     "data": {
      "text/plain": [
       "[\"a\"]"
      ]
     },
     "metadata": {},
     "output_type": "display_data"
    },
    {
     "data": {
      "text/plain": [
       "[\"a\"]"
      ]
     },
     "metadata": {},
     "output_type": "display_data"
    },
    {
     "data": {
      "text/plain": [
       "[\"+\"]"
      ]
     },
     "metadata": {},
     "output_type": "display_data"
    }
   ],
   "source": [
    "nullables cfgG64\n",
    "first cfgG64 [\"S\"]\n",
    "first cfgG64 [\"E\"]\n",
    "first cfgG64 [\"T\"]\n",
    "first cfgG64 [\"+\",\"T\"]"
   ]
  },
  {
   "cell_type": "code",
   "execution_count": 45,
   "metadata": {},
   "outputs": [],
   "source": [
    "type DottedRule1 = (DottedRule,Gamma) \n",
    "type DottedRule1' = (DottedRule,[Gamma]) \n",
    "type NodeDK1 = [DottedRule1]\n",
    "type EdgeDK1 = (NodeDK1,Gamma,NodeDK1)\n",
    "type GraphDK1 = ([NodeDK1],[EdgeDK1])\n",
    "\n",
    "dottedClosure1 :: CFG -> [DottedRule1] -> [DottedRule1] \n",
    "dottedClosure1 cfg@(CFG(_,_,rs,_)) drs\n",
    "  | drs==drs' = drs\n",
    "  | otherwise = dottedClosure1 cfg drs'\n",
    "  where\n",
    "  drs' = drs `union`\n",
    "         [((v',([],gs')),x') | ((v,(_,v2:gs2)),x) <- drs,\n",
    "                              v':->gs' <-rs, v2 == v',\n",
    "                              x' <- first cfg gs2 `union` [x | nullable gs2] ]\n",
    "  nullable = all (`elem` ns)\n",
    "  ns = nullables cfg\n",
    "\n",
    "showDottedRule1 :: DottedRule1 -> String\n",
    "showDottedRule1 (r,x) = showDottedRule r++\"    \"++x\n",
    "\n",
    "showDottedRule1' :: DottedRule1' -> String\n",
    "showDottedRule1' (r,xs) = showDottedRule r++\"   \"++concat xs\n",
    "\n",
    "\n",
    "stepNode1 :: CFG -> NodeDK1 -> Gamma -> NodeDK1\n",
    "stepNode1 cfg drs g = dottedClosure1 cfg\n",
    "  [ ((v,(gs1++[g'],gs2)),x) | ((v,(gs1,g':gs2)),x) <- drs, g==g']\n",
    "\n",
    "cfg2graphDK1 :: CFG -> GraphDK1 \n",
    "cfg2graphDK1 cfg@(CFG(_,as,rs,s0)) =  mkGraphDK1 cfg ([[],n0],[([],\"\",n0)])\n",
    "  where\n",
    "  n0 = dottedClosure1 cfg [((v,([],gs)),x) | v:->gs <- rs, v==s0, x<-as]\n",
    "\n",
    "src (n,_,_) = n\n",
    "dst (_,_,n) = n\n",
    "\n",
    "mkGraphDK1 :: CFG -> GraphDK1 -> GraphDK1\n",
    "mkGraphDK1 cfg@(CFG(vs,as,_,_)) (ns,es)\n",
    "  | (ns,es) == (ns',es')  = (ns,es)\n",
    "  | otherwise             = mkGraphDK1 cfg (ns',es')\n",
    "  where\n",
    "  es' = es `union` esNew\n",
    "  ns' = ns `union` nsNew\n",
    "  out0ns = ns \\\\ map src es\n",
    "  esNew = [(n,g,n') | n <- out0ns, g<-vs++as,\n",
    "                      let n' = stepNode1 cfg n g,\n",
    "                      not(null n')]\n",
    "  nsNew = map dst esNew"
   ]
  },
  {
   "cell_type": "code",
   "execution_count": 46,
   "metadata": {},
   "outputs": [],
   "source": [
    "import Data.List (intercalate, elemIndices)\n",
    "\n",
    "import IHaskell.Display.Graphviz\n",
    "-- dot \"digraph { l -> o; o -> v; v -> e; h -> a ; a -> s; s -> k ; k -> e ; e -> l ; l -> l}\"\n",
    "\n",
    "drawDK1 = dot . cfg2DK1graphviz\n",
    "\n",
    "cfg2DK1graphviz :: GraphDK1 -> String\n",
    "cfg2DK1graphviz ([]:ns,([],\"\",n0):es)\n",
    "    = \"digraph { rankdir=LR; node [shape=box style=rounded]; \"\n",
    "   ++ \"start [shape=none]; start -> n0; \"\n",
    "   ++ intercalate \"; \" [ nodeName n++\" [\"++attrDK1node n++\"]\" | n <- ns ]\n",
    "   ++ intercalate \"; \" [ nodeName n1++\" -> \"++nodeName n2\n",
    "                       ++ \" [label=\\\"\"++g++\"\\\"]\" | (n1,g,n2) <- es ]\n",
    "   ++ \"}\"\n",
    "  where\n",
    "  nodeName n = \"n\"++show i where [i] = elemIndices n ns\n",
    "\n",
    "attrDK1node :: NodeDK1 -> String\n",
    "attrDK1node drs\n",
    "    = \"peripheries=\"++(if reducible then \"2\" else \"1\")++\" \"\n",
    "   ++ \"label=\\\"\"++concat [showDottedRule1' r++\"\\\\l\" | r<-drs']++\"\\\"\"\n",
    "  where\n",
    "  reducible = any null [ gs2 | ((_,(gs1,gs2)),_)<-drs]\n",
    "  drs' = [(r,xs) | (r:_,xs) <- map unzip . groupBy (\\(r1,_) (r2,_) -> r1==r2) $ sort drs]"
   ]
  },
  {
   "cell_type": "code",
   "execution_count": 47,
   "metadata": {},
   "outputs": [
    {
     "data": {
      "text/plain": [
       "5"
      ]
     },
     "metadata": {},
     "output_type": "display_data"
    },
    {
     "data": {
      "text/plain": [
       "14"
      ]
     },
     "metadata": {},
     "output_type": "display_data"
    }
   ],
   "source": [
    "length $ dottedClosure cfgG64 [(\"S\",([],[\"E\",\"⊣\"]))]\n",
    "length $ dottedClosure1 cfgG64 [((\"S\",([],[\"E\",\"⊣\"])),x)|x<-[\"a\",\"+\",\"×\",\"⊣\"]]"
   ]
  },
  {
   "cell_type": "code",
   "execution_count": 48,
   "metadata": {},
   "outputs": [
    {
     "data": {
      "text/plain": [
       "S → •E⊣\n",
       "E → •E+T\n",
       "E → •T\n",
       "T → •T×a\n",
       "T → •a"
      ]
     },
     "metadata": {},
     "output_type": "display_data"
    },
    {
     "data": {
      "text/plain": [
       "---------"
      ]
     },
     "metadata": {},
     "output_type": "display_data"
    },
    {
     "data": {
      "text/plain": [
       "S → •E⊣    a\n",
       "S → •E⊣    +\n",
       "S → •E⊣    ×\n",
       "S → •E⊣    ⊣\n",
       "E → •E+T    ⊣\n",
       "E → •T    ⊣\n",
       "E → •E+T    +\n",
       "E → •T    +\n",
       "T → •T×a    ⊣\n",
       "T → •a    ⊣\n",
       "T → •T×a    +\n",
       "T → •a    +\n",
       "T → •T×a    ×\n",
       "T → •a    ×"
      ]
     },
     "metadata": {},
     "output_type": "display_data"
    }
   ],
   "source": [
    "mapM_ (putStrLn . showDottedRule) $ dottedClosure cfgG64 [(\"S\",([],[\"E\",\"⊣\"]))]\n",
    "putStrLn \"---------\"\n",
    "mapM_ (putStrLn . showDottedRule1) $ dottedClosure1 cfgG64  [((\"S\",([],[\"E\",\"⊣\"])),x)|x<-[\"a\",\"+\",\"×\",\"⊣\"]]"
   ]
  },
  {
   "cell_type": "code",
   "execution_count": 49,
   "metadata": {},
   "outputs": [
    {
     "data": {
      "image/svg+xml": [
       "<?xml version=\"1.0\" encoding=\"UTF-8\" standalone=\"no\"?>\n",
       "<!DOCTYPE svg PUBLIC \"-//W3C//DTD SVG 1.1//EN\"\n",
       " \"http://www.w3.org/Graphics/SVG/1.1/DTD/svg11.dtd\">\n",
       "<!-- Generated by graphviz version 2.40.1 (20161225.0304)\n",
       " -->\n",
       "<!-- Title: %3 Pages: 1 -->\n",
       "<svg width=\"887pt\" height=\"221pt\"\n",
       " viewBox=\"0.00 0.00 887.00 220.50\" xmlns=\"http://www.w3.org/2000/svg\" xmlns:xlink=\"http://www.w3.org/1999/xlink\">\n",
       "<g id=\"graph0\" class=\"graph\" transform=\"scale(1 1) rotate(0) translate(4 216.5)\">\n",
       "<title>%3</title>\n",
       "<polygon fill=\"#ffffff\" stroke=\"transparent\" points=\"-4,4 -4,-216.5 883,-216.5 883,4 -4,4\"/>\n",
       "<!-- start -->\n",
       "<g id=\"node1\" class=\"node\">\n",
       "<title>start</title>\n",
       "<text text-anchor=\"middle\" x=\"27\" y=\"-65.3\" font-family=\"Times,serif\" font-size=\"14.00\" fill=\"#000000\">start</text>\n",
       "</g>\n",
       "<!-- n0 -->\n",
       "<g id=\"node2\" class=\"node\">\n",
       "<title>n0</title>\n",
       "<path fill=\"none\" stroke=\"#000000\" d=\"M158,-110.5C158,-110.5 103,-110.5 103,-110.5 97,-110.5 91,-104.5 91,-98.5 91,-98.5 91,-39.5 91,-39.5 91,-33.5 97,-27.5 103,-27.5 103,-27.5 158,-27.5 158,-27.5 164,-27.5 170,-33.5 170,-39.5 170,-39.5 170,-98.5 170,-98.5 170,-104.5 164,-110.5 158,-110.5\"/>\n",
       "<text text-anchor=\"start\" x=\"99\" y=\"-95.3\" font-family=\"Times,serif\" font-size=\"14.00\" fill=\"#000000\">S → •E⊣</text>\n",
       "<text text-anchor=\"start\" x=\"99\" y=\"-80.3\" font-family=\"Times,serif\" font-size=\"14.00\" fill=\"#000000\">E → •E+T</text>\n",
       "<text text-anchor=\"start\" x=\"99\" y=\"-65.3\" font-family=\"Times,serif\" font-size=\"14.00\" fill=\"#000000\">E → •T</text>\n",
       "<text text-anchor=\"start\" x=\"99\" y=\"-50.3\" font-family=\"Times,serif\" font-size=\"14.00\" fill=\"#000000\">T → •T×a</text>\n",
       "<text text-anchor=\"start\" x=\"99\" y=\"-35.3\" font-family=\"Times,serif\" font-size=\"14.00\" fill=\"#000000\">T → •a</text>\n",
       "</g>\n",
       "<!-- start&#45;&gt;n0 -->\n",
       "<g id=\"edge1\" class=\"edge\">\n",
       "<title>start&#45;&gt;n0</title>\n",
       "<path fill=\"none\" stroke=\"#000000\" d=\"M54.1934,-69C62.2874,-69 71.4247,-69 80.4908,-69\"/>\n",
       "<polygon fill=\"#000000\" stroke=\"#000000\" points=\"80.6369,-72.5001 90.6369,-69 80.6368,-65.5001 80.6369,-72.5001\"/>\n",
       "</g>\n",
       "<!-- n1 -->\n",
       "<g id=\"node3\" class=\"node\">\n",
       "<title>n1</title>\n",
       "<path fill=\"none\" stroke=\"#000000\" d=\"M283,-138C283,-138 228,-138 228,-138 222,-138 216,-132 216,-126 216,-126 216,-112 216,-112 216,-106 222,-100 228,-100 228,-100 283,-100 283,-100 289,-100 295,-106 295,-112 295,-112 295,-126 295,-126 295,-132 289,-138 283,-138\"/>\n",
       "<text text-anchor=\"start\" x=\"224\" y=\"-122.8\" font-family=\"Times,serif\" font-size=\"14.00\" fill=\"#000000\">S → E•⊣</text>\n",
       "<text text-anchor=\"start\" x=\"224\" y=\"-107.8\" font-family=\"Times,serif\" font-size=\"14.00\" fill=\"#000000\">E → E•+T</text>\n",
       "</g>\n",
       "<!-- n0&#45;&gt;n1 -->\n",
       "<g id=\"edge2\" class=\"edge\">\n",
       "<title>n0&#45;&gt;n1</title>\n",
       "<path fill=\"none\" stroke=\"#000000\" d=\"M170.0508,-84.8203C181.5642,-89.4257 194.2841,-94.5136 206.314,-99.3256\"/>\n",
       "<polygon fill=\"#000000\" stroke=\"#000000\" points=\"205.1928,-102.6467 215.7775,-103.111 207.7926,-96.1473 205.1928,-102.6467\"/>\n",
       "<text text-anchor=\"middle\" x=\"193\" y=\"-98.8\" font-family=\"Times,serif\" font-size=\"14.00\" fill=\"#000000\">E</text>\n",
       "</g>\n",
       "<!-- n2 -->\n",
       "<g id=\"node4\" class=\"node\">\n",
       "<title>n2</title>\n",
       "<path fill=\"none\" stroke=\"#000000\" d=\"M381,-42C381,-42 329,-42 329,-42 323,-42 317,-36 317,-30 317,-30 317,-16 317,-16 317,-10 323,-4 329,-4 329,-4 381,-4 381,-4 387,-4 393,-10 393,-16 393,-16 393,-30 393,-30 393,-36 387,-42 381,-42\"/>\n",
       "<path fill=\"none\" stroke=\"#000000\" d=\"M385,-46C385,-46 325,-46 325,-46 319,-46 313,-40 313,-34 313,-34 313,-12 313,-12 313,-6 319,0 325,0 325,0 385,0 385,0 391,0 397,-6 397,-12 397,-12 397,-34 397,-34 397,-40 391,-46 385,-46\"/>\n",
       "<text text-anchor=\"start\" x=\"325\" y=\"-26.8\" font-family=\"Times,serif\" font-size=\"14.00\" fill=\"#000000\">E → T•</text>\n",
       "<text text-anchor=\"start\" x=\"325\" y=\"-11.8\" font-family=\"Times,serif\" font-size=\"14.00\" fill=\"#000000\">T → T•×a</text>\n",
       "</g>\n",
       "<!-- n0&#45;&gt;n2 -->\n",
       "<g id=\"edge3\" class=\"edge\">\n",
       "<title>n0&#45;&gt;n2</title>\n",
       "<path fill=\"none\" stroke=\"#000000\" d=\"M170.2622,-46.6302C176.0773,-44.0468 182.0976,-41.7247 188,-40 225.3923,-29.0741 269.2674,-24.9232 302.6603,-23.4511\"/>\n",
       "<polygon fill=\"#000000\" stroke=\"#000000\" points=\"302.8066,-26.9481 312.6683,-23.0757 302.5441,-19.9531 302.8066,-26.9481\"/>\n",
       "<text text-anchor=\"middle\" x=\"193\" y=\"-43.8\" font-family=\"Times,serif\" font-size=\"14.00\" fill=\"#000000\">T</text>\n",
       "</g>\n",
       "<!-- n3 -->\n",
       "<g id=\"node5\" class=\"node\">\n",
       "<title>n3</title>\n",
       "<path fill=\"none\" stroke=\"#000000\" d=\"M605,-96C605,-96 570,-96 570,-96 564,-96 558,-90 558,-84 558,-84 558,-72 558,-72 558,-66 564,-60 570,-60 570,-60 605,-60 605,-60 611,-60 617,-66 617,-72 617,-72 617,-84 617,-84 617,-90 611,-96 605,-96\"/>\n",
       "<path fill=\"none\" stroke=\"#000000\" d=\"M609,-100C609,-100 566,-100 566,-100 560,-100 554,-94 554,-88 554,-88 554,-68 554,-68 554,-62 560,-56 566,-56 566,-56 609,-56 609,-56 615,-56 621,-62 621,-68 621,-68 621,-88 621,-88 621,-94 615,-100 609,-100\"/>\n",
       "<text text-anchor=\"start\" x=\"566\" y=\"-74.3\" font-family=\"Times,serif\" font-size=\"14.00\" fill=\"#000000\">T → a•</text>\n",
       "</g>\n",
       "<!-- n0&#45;&gt;n3 -->\n",
       "<g id=\"edge4\" class=\"edge\">\n",
       "<title>n0&#45;&gt;n3</title>\n",
       "<path fill=\"none\" stroke=\"#000000\" d=\"M170.2563,-69.7829C255.3961,-71.4597 454.8034,-75.3867 543.5549,-77.1346\"/>\n",
       "<polygon fill=\"#000000\" stroke=\"#000000\" points=\"543.7475,-80.6389 553.8146,-77.3366 543.8854,-73.6403 543.7475,-80.6389\"/>\n",
       "<text text-anchor=\"middle\" x=\"355\" y=\"-77.8\" font-family=\"Times,serif\" font-size=\"14.00\" fill=\"#000000\">a</text>\n",
       "</g>\n",
       "<!-- n4 -->\n",
       "<g id=\"node6\" class=\"node\">\n",
       "<title>n4</title>\n",
       "<path fill=\"none\" stroke=\"#000000\" d=\"M484,-212.5C484,-212.5 429,-212.5 429,-212.5 423,-212.5 417,-206.5 417,-200.5 417,-200.5 417,-171.5 417,-171.5 417,-165.5 423,-159.5 429,-159.5 429,-159.5 484,-159.5 484,-159.5 490,-159.5 496,-165.5 496,-171.5 496,-171.5 496,-200.5 496,-200.5 496,-206.5 490,-212.5 484,-212.5\"/>\n",
       "<text text-anchor=\"start\" x=\"425\" y=\"-197.3\" font-family=\"Times,serif\" font-size=\"14.00\" fill=\"#000000\">E → E+•T</text>\n",
       "<text text-anchor=\"start\" x=\"425\" y=\"-182.3\" font-family=\"Times,serif\" font-size=\"14.00\" fill=\"#000000\">T → •T×a</text>\n",
       "<text text-anchor=\"start\" x=\"425\" y=\"-167.3\" font-family=\"Times,serif\" font-size=\"14.00\" fill=\"#000000\">T → •a</text>\n",
       "</g>\n",
       "<!-- n1&#45;&gt;n4 -->\n",
       "<g id=\"edge5\" class=\"edge\">\n",
       "<title>n1&#45;&gt;n4</title>\n",
       "<path fill=\"none\" stroke=\"#000000\" d=\"M295.2111,-132.237C327.2833,-142.9278 372.5855,-158.0285 407.0162,-169.5054\"/>\n",
       "<polygon fill=\"#000000\" stroke=\"#000000\" points=\"406.2777,-172.9485 416.8714,-172.7905 408.4913,-166.3077 406.2777,-172.9485\"/>\n",
       "<text text-anchor=\"middle\" x=\"355\" y=\"-167.8\" font-family=\"Times,serif\" font-size=\"14.00\" fill=\"#000000\">+</text>\n",
       "</g>\n",
       "<!-- n5 -->\n",
       "<g id=\"node7\" class=\"node\">\n",
       "<title>n5</title>\n",
       "<path fill=\"none\" stroke=\"#000000\" d=\"M482,-137C482,-137 431,-137 431,-137 425,-137 419,-131 419,-125 419,-125 419,-113 419,-113 419,-107 425,-101 431,-101 431,-101 482,-101 482,-101 488,-101 494,-107 494,-113 494,-113 494,-125 494,-125 494,-131 488,-137 482,-137\"/>\n",
       "<path fill=\"none\" stroke=\"#000000\" d=\"M486,-141C486,-141 427,-141 427,-141 421,-141 415,-135 415,-129 415,-129 415,-109 415,-109 415,-103 421,-97 427,-97 427,-97 486,-97 486,-97 492,-97 498,-103 498,-109 498,-109 498,-129 498,-129 498,-135 492,-141 486,-141\"/>\n",
       "<text text-anchor=\"start\" x=\"427\" y=\"-115.3\" font-family=\"Times,serif\" font-size=\"14.00\" fill=\"#000000\">S → E⊣•</text>\n",
       "</g>\n",
       "<!-- n1&#45;&gt;n5 -->\n",
       "<g id=\"edge6\" class=\"edge\">\n",
       "<title>n1&#45;&gt;n5</title>\n",
       "<path fill=\"none\" stroke=\"#000000\" d=\"M295.2111,-119C326.5235,-119 370.4467,-119 404.5513,-119\"/>\n",
       "<polygon fill=\"#000000\" stroke=\"#000000\" points=\"404.7955,-122.5001 414.7955,-119 404.7954,-115.5001 404.7955,-122.5001\"/>\n",
       "<text text-anchor=\"middle\" x=\"355\" y=\"-122.8\" font-family=\"Times,serif\" font-size=\"14.00\" fill=\"#000000\">⊣</text>\n",
       "</g>\n",
       "<!-- n6 -->\n",
       "<g id=\"node8\" class=\"node\">\n",
       "<title>n6</title>\n",
       "<path fill=\"none\" stroke=\"#000000\" d=\"M740,-60C740,-60 688,-60 688,-60 682,-60 676,-54 676,-48 676,-48 676,-36 676,-36 676,-30 682,-24 688,-24 688,-24 740,-24 740,-24 746,-24 752,-30 752,-36 752,-36 752,-48 752,-48 752,-54 746,-60 740,-60\"/>\n",
       "<text text-anchor=\"start\" x=\"684\" y=\"-38.3\" font-family=\"Times,serif\" font-size=\"14.00\" fill=\"#000000\">T → T×•a</text>\n",
       "</g>\n",
       "<!-- n2&#45;&gt;n6 -->\n",
       "<g id=\"edge7\" class=\"edge\">\n",
       "<title>n2&#45;&gt;n6</title>\n",
       "<path fill=\"none\" stroke=\"#000000\" d=\"M397.2375,-25.2354C464.2311,-28.781 594.4992,-35.6754 665.3178,-39.4235\"/>\n",
       "<polygon fill=\"#000000\" stroke=\"#000000\" points=\"665.5665,-42.9415 675.7375,-39.975 665.9365,-35.9513 665.5665,-42.9415\"/>\n",
       "<text text-anchor=\"middle\" x=\"521\" y=\"-35.8\" font-family=\"Times,serif\" font-size=\"14.00\" fill=\"#000000\">×</text>\n",
       "</g>\n",
       "<!-- n4&#45;&gt;n3 -->\n",
       "<g id=\"edge9\" class=\"edge\">\n",
       "<title>n4&#45;&gt;n3</title>\n",
       "<path fill=\"none\" stroke=\"#000000\" d=\"M487.3246,-159.2678C490.9241,-156.144 494.5435,-153.0021 498,-150 518.4551,-132.2344 522.8483,-126.9301 544,-110 545.5371,-108.7697 547.1147,-107.5259 548.7159,-106.2791\"/>\n",
       "<polygon fill=\"#000000\" stroke=\"#000000\" points=\"551.0206,-108.9228 556.8393,-100.0688 546.7692,-103.3618 551.0206,-108.9228\"/>\n",
       "<text text-anchor=\"middle\" x=\"521\" y=\"-136.8\" font-family=\"Times,serif\" font-size=\"14.00\" fill=\"#000000\">a</text>\n",
       "</g>\n",
       "<!-- n7 -->\n",
       "<g id=\"node9\" class=\"node\">\n",
       "<title>n7</title>\n",
       "<path fill=\"none\" stroke=\"#000000\" d=\"M615,-161C615,-161 560,-161 560,-161 554,-161 548,-155 548,-149 548,-149 548,-135 548,-135 548,-129 554,-123 560,-123 560,-123 615,-123 615,-123 621,-123 627,-129 627,-135 627,-135 627,-149 627,-149 627,-155 621,-161 615,-161\"/>\n",
       "<path fill=\"none\" stroke=\"#000000\" d=\"M619,-165C619,-165 556,-165 556,-165 550,-165 544,-159 544,-153 544,-153 544,-131 544,-131 544,-125 550,-119 556,-119 556,-119 619,-119 619,-119 625,-119 631,-125 631,-131 631,-131 631,-153 631,-153 631,-159 625,-165 619,-165\"/>\n",
       "<text text-anchor=\"start\" x=\"556\" y=\"-145.8\" font-family=\"Times,serif\" font-size=\"14.00\" fill=\"#000000\">E → E+T•</text>\n",
       "<text text-anchor=\"start\" x=\"556\" y=\"-130.8\" font-family=\"Times,serif\" font-size=\"14.00\" fill=\"#000000\">T → T•×a</text>\n",
       "</g>\n",
       "<!-- n4&#45;&gt;n7 -->\n",
       "<g id=\"edge8\" class=\"edge\">\n",
       "<title>n4&#45;&gt;n7</title>\n",
       "<path fill=\"none\" stroke=\"#000000\" d=\"M496.1598,-172.6791C508.1617,-168.648 521.5421,-164.1538 534.2799,-159.8755\"/>\n",
       "<polygon fill=\"#000000\" stroke=\"#000000\" points=\"535.4967,-163.159 543.8618,-156.6571 533.2678,-156.5233 535.4967,-163.159\"/>\n",
       "<text text-anchor=\"middle\" x=\"521\" y=\"-168.8\" font-family=\"Times,serif\" font-size=\"14.00\" fill=\"#000000\">T</text>\n",
       "</g>\n",
       "<!-- n8 -->\n",
       "<g id=\"node10\" class=\"node\">\n",
       "<title>n8</title>\n",
       "<path fill=\"none\" stroke=\"#000000\" d=\"M863,-60C863,-60 811,-60 811,-60 805,-60 799,-54 799,-48 799,-48 799,-36 799,-36 799,-30 805,-24 811,-24 811,-24 863,-24 863,-24 869,-24 875,-30 875,-36 875,-36 875,-48 875,-48 875,-54 869,-60 863,-60\"/>\n",
       "<path fill=\"none\" stroke=\"#000000\" d=\"M867,-64C867,-64 807,-64 807,-64 801,-64 795,-58 795,-52 795,-52 795,-32 795,-32 795,-26 801,-20 807,-20 807,-20 867,-20 867,-20 873,-20 879,-26 879,-32 879,-32 879,-52 879,-52 879,-58 873,-64 867,-64\"/>\n",
       "<text text-anchor=\"start\" x=\"807\" y=\"-38.3\" font-family=\"Times,serif\" font-size=\"14.00\" fill=\"#000000\">T → T×a•</text>\n",
       "</g>\n",
       "<!-- n6&#45;&gt;n8 -->\n",
       "<g id=\"edge10\" class=\"edge\">\n",
       "<title>n6&#45;&gt;n8</title>\n",
       "<path fill=\"none\" stroke=\"#000000\" d=\"M752.2437,-42C762.5046,-42 773.7783,-42 784.6607,-42\"/>\n",
       "<polygon fill=\"#000000\" stroke=\"#000000\" points=\"784.9285,-45.5001 794.9284,-42 784.9284,-38.5001 784.9285,-45.5001\"/>\n",
       "<text text-anchor=\"middle\" x=\"773.5\" y=\"-45.8\" font-family=\"Times,serif\" font-size=\"14.00\" fill=\"#000000\">a</text>\n",
       "</g>\n",
       "<!-- n7&#45;&gt;n6 -->\n",
       "<g id=\"edge11\" class=\"edge\">\n",
       "<title>n7&#45;&gt;n6</title>\n",
       "<path fill=\"none\" stroke=\"#000000\" d=\"M618.4806,-118.6783C622.703,-115.4471 626.969,-112.1548 631,-109 648.7587,-95.1014 668.4029,-79.2653 684.1206,-66.4797\"/>\n",
       "<polygon fill=\"#000000\" stroke=\"#000000\" points=\"686.4104,-69.1287 691.9512,-60.0982 681.9882,-63.7024 686.4104,-69.1287\"/>\n",
       "<text text-anchor=\"middle\" x=\"653.5\" y=\"-97.8\" font-family=\"Times,serif\" font-size=\"14.00\" fill=\"#000000\">×</text>\n",
       "</g>\n",
       "</g>\n",
       "</svg>\n"
      ]
     },
     "metadata": {},
     "output_type": "display_data"
    },
    {
     "data": {
      "image/svg+xml": [
       "<?xml version=\"1.0\" encoding=\"UTF-8\" standalone=\"no\"?>\n",
       "<!DOCTYPE svg PUBLIC \"-//W3C//DTD SVG 1.1//EN\"\n",
       " \"http://www.w3.org/Graphics/SVG/1.1/DTD/svg11.dtd\">\n",
       "<!-- Generated by graphviz version 2.40.1 (20161225.0304)\n",
       " -->\n",
       "<!-- Title: %3 Pages: 1 -->\n",
       "<svg width=\"1188pt\" height=\"221pt\"\n",
       " viewBox=\"0.00 0.00 1188.00 220.50\" xmlns=\"http://www.w3.org/2000/svg\" xmlns:xlink=\"http://www.w3.org/1999/xlink\">\n",
       "<g id=\"graph0\" class=\"graph\" transform=\"scale(1 1) rotate(0) translate(4 216.5)\">\n",
       "<title>%3</title>\n",
       "<polygon fill=\"#ffffff\" stroke=\"transparent\" points=\"-4,4 -4,-216.5 1184,-216.5 1184,4 -4,4\"/>\n",
       "<!-- start -->\n",
       "<g id=\"node1\" class=\"node\">\n",
       "<title>start</title>\n",
       "<text text-anchor=\"middle\" x=\"27\" y=\"-65.3\" font-family=\"Times,serif\" font-size=\"14.00\" fill=\"#000000\">start</text>\n",
       "</g>\n",
       "<!-- n0 -->\n",
       "<g id=\"node2\" class=\"node\">\n",
       "<title>n0</title>\n",
       "<path fill=\"none\" stroke=\"#000000\" d=\"M202,-110.5C202,-110.5 103,-110.5 103,-110.5 97,-110.5 91,-104.5 91,-98.5 91,-98.5 91,-39.5 91,-39.5 91,-33.5 97,-27.5 103,-27.5 103,-27.5 202,-27.5 202,-27.5 208,-27.5 214,-33.5 214,-39.5 214,-39.5 214,-98.5 214,-98.5 214,-104.5 208,-110.5 202,-110.5\"/>\n",
       "<text text-anchor=\"start\" x=\"99\" y=\"-95.3\" font-family=\"Times,serif\" font-size=\"14.00\" fill=\"#000000\">E → •E+T &#160;&#160;+⊣</text>\n",
       "<text text-anchor=\"start\" x=\"99\" y=\"-80.3\" font-family=\"Times,serif\" font-size=\"14.00\" fill=\"#000000\">E → •T &#160;&#160;+⊣</text>\n",
       "<text text-anchor=\"start\" x=\"99\" y=\"-65.3\" font-family=\"Times,serif\" font-size=\"14.00\" fill=\"#000000\">S → •E⊣ &#160;&#160;+a×⊣</text>\n",
       "<text text-anchor=\"start\" x=\"99\" y=\"-50.3\" font-family=\"Times,serif\" font-size=\"14.00\" fill=\"#000000\">T → •T×a &#160;&#160;+×⊣</text>\n",
       "<text text-anchor=\"start\" x=\"99\" y=\"-35.3\" font-family=\"Times,serif\" font-size=\"14.00\" fill=\"#000000\">T → •a &#160;&#160;+×⊣</text>\n",
       "</g>\n",
       "<!-- start&#45;&gt;n0 -->\n",
       "<g id=\"edge1\" class=\"edge\">\n",
       "<title>start&#45;&gt;n0</title>\n",
       "<path fill=\"none\" stroke=\"#000000\" d=\"M54.2316,-69C62.1729,-69 71.2458,-69 80.5958,-69\"/>\n",
       "<polygon fill=\"#000000\" stroke=\"#000000\" points=\"80.8099,-72.5001 90.8099,-69 80.8099,-65.5001 80.8099,-72.5001\"/>\n",
       "</g>\n",
       "<!-- n1 -->\n",
       "<g id=\"node3\" class=\"node\">\n",
       "<title>n1</title>\n",
       "<path fill=\"none\" stroke=\"#000000\" d=\"M371,-138C371,-138 272,-138 272,-138 266,-138 260,-132 260,-126 260,-126 260,-112 260,-112 260,-106 266,-100 272,-100 272,-100 371,-100 371,-100 377,-100 383,-106 383,-112 383,-112 383,-126 383,-126 383,-132 377,-138 371,-138\"/>\n",
       "<text text-anchor=\"start\" x=\"268\" y=\"-122.8\" font-family=\"Times,serif\" font-size=\"14.00\" fill=\"#000000\">E → E•+T &#160;&#160;+⊣</text>\n",
       "<text text-anchor=\"start\" x=\"268\" y=\"-107.8\" font-family=\"Times,serif\" font-size=\"14.00\" fill=\"#000000\">S → E•⊣ &#160;&#160;+a×⊣</text>\n",
       "</g>\n",
       "<!-- n0&#45;&gt;n1 -->\n",
       "<g id=\"edge2\" class=\"edge\">\n",
       "<title>n0&#45;&gt;n1</title>\n",
       "<path fill=\"none\" stroke=\"#000000\" d=\"M214.4697,-87.3342C226.0245,-90.7528 238.1855,-94.3507 249.9993,-97.8459\"/>\n",
       "<polygon fill=\"#000000\" stroke=\"#000000\" points=\"249.2381,-101.2707 259.8202,-100.7516 251.2241,-94.5583 249.2381,-101.2707\"/>\n",
       "<text text-anchor=\"middle\" x=\"237\" y=\"-97.8\" font-family=\"Times,serif\" font-size=\"14.00\" fill=\"#000000\">E</text>\n",
       "</g>\n",
       "<!-- n2 -->\n",
       "<g id=\"node4\" class=\"node\">\n",
       "<title>n2</title>\n",
       "<path fill=\"none\" stroke=\"#000000\" d=\"M511,-42C511,-42 417,-42 417,-42 411,-42 405,-36 405,-30 405,-30 405,-16 405,-16 405,-10 411,-4 417,-4 417,-4 511,-4 511,-4 517,-4 523,-10 523,-16 523,-16 523,-30 523,-30 523,-36 517,-42 511,-42\"/>\n",
       "<path fill=\"none\" stroke=\"#000000\" d=\"M515,-46C515,-46 413,-46 413,-46 407,-46 401,-40 401,-34 401,-34 401,-12 401,-12 401,-6 407,0 413,0 413,0 515,0 515,0 521,0 527,-6 527,-12 527,-12 527,-34 527,-34 527,-40 521,-46 515,-46\"/>\n",
       "<text text-anchor=\"start\" x=\"413\" y=\"-26.8\" font-family=\"Times,serif\" font-size=\"14.00\" fill=\"#000000\">E → T• &#160;&#160;+⊣</text>\n",
       "<text text-anchor=\"start\" x=\"413\" y=\"-11.8\" font-family=\"Times,serif\" font-size=\"14.00\" fill=\"#000000\">T → T•×a &#160;&#160;+×⊣</text>\n",
       "</g>\n",
       "<!-- n0&#45;&gt;n2 -->\n",
       "<g id=\"edge3\" class=\"edge\">\n",
       "<title>n0&#45;&gt;n2</title>\n",
       "<path fill=\"none\" stroke=\"#000000\" d=\"M214.0736,-44.6686C220.0684,-42.8675 226.1106,-41.2643 232,-40 284.3115,-28.7702 344.6119,-24.6105 390.6232,-23.2108\"/>\n",
       "<polygon fill=\"#000000\" stroke=\"#000000\" points=\"390.905,-26.7046 400.8079,-22.9387 390.718,-19.7071 390.905,-26.7046\"/>\n",
       "<text text-anchor=\"middle\" x=\"237\" y=\"-43.8\" font-family=\"Times,serif\" font-size=\"14.00\" fill=\"#000000\">T</text>\n",
       "</g>\n",
       "<!-- n3 -->\n",
       "<g id=\"node5\" class=\"node\">\n",
       "<title>n3</title>\n",
       "<path fill=\"none\" stroke=\"#000000\" d=\"M823.5,-96C823.5,-96 746.5,-96 746.5,-96 740.5,-96 734.5,-90 734.5,-84 734.5,-84 734.5,-72 734.5,-72 734.5,-66 740.5,-60 746.5,-60 746.5,-60 823.5,-60 823.5,-60 829.5,-60 835.5,-66 835.5,-72 835.5,-72 835.5,-84 835.5,-84 835.5,-90 829.5,-96 823.5,-96\"/>\n",
       "<path fill=\"none\" stroke=\"#000000\" d=\"M827.5,-100C827.5,-100 742.5,-100 742.5,-100 736.5,-100 730.5,-94 730.5,-88 730.5,-88 730.5,-68 730.5,-68 730.5,-62 736.5,-56 742.5,-56 742.5,-56 827.5,-56 827.5,-56 833.5,-56 839.5,-62 839.5,-68 839.5,-68 839.5,-88 839.5,-88 839.5,-94 833.5,-100 827.5,-100\"/>\n",
       "<text text-anchor=\"start\" x=\"742.5\" y=\"-74.3\" font-family=\"Times,serif\" font-size=\"14.00\" fill=\"#000000\">T → a• &#160;&#160;+×⊣</text>\n",
       "</g>\n",
       "<!-- n0&#45;&gt;n3 -->\n",
       "<g id=\"edge4\" class=\"edge\">\n",
       "<title>n0&#45;&gt;n3</title>\n",
       "<path fill=\"none\" stroke=\"#000000\" d=\"M214.0096,-69.8752C333.7629,-71.5792 597.1921,-75.3276 719.8184,-77.0725\"/>\n",
       "<polygon fill=\"#000000\" stroke=\"#000000\" points=\"720.1258,-80.5771 730.1746,-77.2199 720.2254,-73.5779 720.1258,-80.5771\"/>\n",
       "<text text-anchor=\"middle\" x=\"464\" y=\"-77.8\" font-family=\"Times,serif\" font-size=\"14.00\" fill=\"#000000\">a</text>\n",
       "</g>\n",
       "<!-- n4 -->\n",
       "<g id=\"node6\" class=\"node\">\n",
       "<title>n4</title>\n",
       "<path fill=\"none\" stroke=\"#000000\" d=\"M657.5,-212.5C657.5,-212.5 563.5,-212.5 563.5,-212.5 557.5,-212.5 551.5,-206.5 551.5,-200.5 551.5,-200.5 551.5,-171.5 551.5,-171.5 551.5,-165.5 557.5,-159.5 563.5,-159.5 563.5,-159.5 657.5,-159.5 657.5,-159.5 663.5,-159.5 669.5,-165.5 669.5,-171.5 669.5,-171.5 669.5,-200.5 669.5,-200.5 669.5,-206.5 663.5,-212.5 657.5,-212.5\"/>\n",
       "<text text-anchor=\"start\" x=\"559.5\" y=\"-197.3\" font-family=\"Times,serif\" font-size=\"14.00\" fill=\"#000000\">E → E+•T &#160;&#160;+⊣</text>\n",
       "<text text-anchor=\"start\" x=\"559.5\" y=\"-182.3\" font-family=\"Times,serif\" font-size=\"14.00\" fill=\"#000000\">T → •T×a &#160;&#160;+×⊣</text>\n",
       "<text text-anchor=\"start\" x=\"559.5\" y=\"-167.3\" font-family=\"Times,serif\" font-size=\"14.00\" fill=\"#000000\">T → •a &#160;&#160;+×⊣</text>\n",
       "</g>\n",
       "<!-- n1&#45;&gt;n4 -->\n",
       "<g id=\"edge5\" class=\"edge\">\n",
       "<title>n1&#45;&gt;n4</title>\n",
       "<path fill=\"none\" stroke=\"#000000\" d=\"M383.1167,-133.7861C389.1577,-135.2177 395.1967,-136.6417 401,-138 447.8227,-148.9588 500.5956,-161.0484 541.4619,-170.3531\"/>\n",
       "<polygon fill=\"#000000\" stroke=\"#000000\" points=\"540.7903,-173.7897 551.3177,-172.5957 542.3435,-166.9641 540.7903,-173.7897\"/>\n",
       "<text text-anchor=\"middle\" x=\"464\" y=\"-169.8\" font-family=\"Times,serif\" font-size=\"14.00\" fill=\"#000000\">+</text>\n",
       "</g>\n",
       "<!-- n5 -->\n",
       "<g id=\"node7\" class=\"node\">\n",
       "<title>n5</title>\n",
       "<path fill=\"none\" stroke=\"#000000\" d=\"M660,-137C660,-137 561,-137 561,-137 555,-137 549,-131 549,-125 549,-125 549,-113 549,-113 549,-107 555,-101 561,-101 561,-101 660,-101 660,-101 666,-101 672,-107 672,-113 672,-113 672,-125 672,-125 672,-131 666,-137 660,-137\"/>\n",
       "<path fill=\"none\" stroke=\"#000000\" d=\"M664,-141C664,-141 557,-141 557,-141 551,-141 545,-135 545,-129 545,-129 545,-109 545,-109 545,-103 551,-97 557,-97 557,-97 664,-97 664,-97 670,-97 676,-103 676,-109 676,-109 676,-129 676,-129 676,-135 670,-141 664,-141\"/>\n",
       "<text text-anchor=\"start\" x=\"557\" y=\"-115.3\" font-family=\"Times,serif\" font-size=\"14.00\" fill=\"#000000\">S → E⊣• &#160;&#160;+a×⊣</text>\n",
       "</g>\n",
       "<!-- n1&#45;&gt;n5 -->\n",
       "<g id=\"edge6\" class=\"edge\">\n",
       "<title>n1&#45;&gt;n5</title>\n",
       "<path fill=\"none\" stroke=\"#000000\" d=\"M383.1433,-119C427.468,-119 487.5027,-119 534.7507,-119\"/>\n",
       "<polygon fill=\"#000000\" stroke=\"#000000\" points=\"534.9335,-122.5001 544.9334,-119 534.9334,-115.5001 534.9335,-122.5001\"/>\n",
       "<text text-anchor=\"middle\" x=\"464\" y=\"-122.8\" font-family=\"Times,serif\" font-size=\"14.00\" fill=\"#000000\">⊣</text>\n",
       "</g>\n",
       "<!-- n6 -->\n",
       "<g id=\"node8\" class=\"node\">\n",
       "<title>n6</title>\n",
       "<path fill=\"none\" stroke=\"#000000\" d=\"M999,-60C999,-60 905,-60 905,-60 899,-60 893,-54 893,-48 893,-48 893,-36 893,-36 893,-30 899,-24 905,-24 905,-24 999,-24 999,-24 1005,-24 1011,-30 1011,-36 1011,-36 1011,-48 1011,-48 1011,-54 1005,-60 999,-60\"/>\n",
       "<text text-anchor=\"start\" x=\"901\" y=\"-38.3\" font-family=\"Times,serif\" font-size=\"14.00\" fill=\"#000000\">T → T×•a &#160;&#160;+×⊣</text>\n",
       "</g>\n",
       "<!-- n2&#45;&gt;n6 -->\n",
       "<g id=\"edge7\" class=\"edge\">\n",
       "<title>n2&#45;&gt;n6</title>\n",
       "<path fill=\"none\" stroke=\"#000000\" d=\"M527.2972,-25.4644C618.8651,-29.0296 787.6783,-35.6022 882.5639,-39.2965\"/>\n",
       "<polygon fill=\"#000000\" stroke=\"#000000\" points=\"882.5056,-42.7968 892.6343,-39.6886 882.778,-35.8021 882.5056,-42.7968\"/>\n",
       "<text text-anchor=\"middle\" x=\"699\" y=\"-36.8\" font-family=\"Times,serif\" font-size=\"14.00\" fill=\"#000000\">×</text>\n",
       "</g>\n",
       "<!-- n4&#45;&gt;n3 -->\n",
       "<g id=\"edge9\" class=\"edge\">\n",
       "<title>n4&#45;&gt;n3</title>\n",
       "<path fill=\"none\" stroke=\"#000000\" d=\"M661.5732,-159.3361C666.5372,-156.3282 671.4239,-153.1925 676,-150 698.2199,-134.4983 699.5306,-125.1378 722,-110 724.3845,-108.3935 726.8605,-106.813 729.3912,-105.2671\"/>\n",
       "<polygon fill=\"#000000\" stroke=\"#000000\" points=\"731.2779,-108.2186 738.1529,-100.1572 727.7513,-102.1718 731.2779,-108.2186\"/>\n",
       "<text text-anchor=\"middle\" x=\"699\" y=\"-137.8\" font-family=\"Times,serif\" font-size=\"14.00\" fill=\"#000000\">a</text>\n",
       "</g>\n",
       "<!-- n7 -->\n",
       "<g id=\"node9\" class=\"node\">\n",
       "<title>n7</title>\n",
       "<path fill=\"none\" stroke=\"#000000\" d=\"M832,-161C832,-161 738,-161 738,-161 732,-161 726,-155 726,-149 726,-149 726,-135 726,-135 726,-129 732,-123 738,-123 738,-123 832,-123 832,-123 838,-123 844,-129 844,-135 844,-135 844,-149 844,-149 844,-155 838,-161 832,-161\"/>\n",
       "<path fill=\"none\" stroke=\"#000000\" d=\"M836,-165C836,-165 734,-165 734,-165 728,-165 722,-159 722,-153 722,-153 722,-131 722,-131 722,-125 728,-119 734,-119 734,-119 836,-119 836,-119 842,-119 848,-125 848,-131 848,-131 848,-153 848,-153 848,-159 842,-165 836,-165\"/>\n",
       "<text text-anchor=\"start\" x=\"734\" y=\"-145.8\" font-family=\"Times,serif\" font-size=\"14.00\" fill=\"#000000\">E → E+T• &#160;&#160;+⊣</text>\n",
       "<text text-anchor=\"start\" x=\"734\" y=\"-130.8\" font-family=\"Times,serif\" font-size=\"14.00\" fill=\"#000000\">T → T•×a &#160;&#160;+×⊣</text>\n",
       "</g>\n",
       "<!-- n4&#45;&gt;n7 -->\n",
       "<g id=\"edge8\" class=\"edge\">\n",
       "<title>n4&#45;&gt;n7</title>\n",
       "<path fill=\"none\" stroke=\"#000000\" d=\"M669.5777,-171.1036C683.2348,-167.66 697.9235,-163.9563 712.0932,-160.3834\"/>\n",
       "<polygon fill=\"#000000\" stroke=\"#000000\" points=\"712.9603,-163.7744 721.801,-157.9356 711.2488,-156.9868 712.9603,-163.7744\"/>\n",
       "<text text-anchor=\"middle\" x=\"699\" y=\"-167.8\" font-family=\"Times,serif\" font-size=\"14.00\" fill=\"#000000\">T</text>\n",
       "</g>\n",
       "<!-- n8 -->\n",
       "<g id=\"node10\" class=\"node\">\n",
       "<title>n8</title>\n",
       "<path fill=\"none\" stroke=\"#000000\" d=\"M1164,-60C1164,-60 1070,-60 1070,-60 1064,-60 1058,-54 1058,-48 1058,-48 1058,-36 1058,-36 1058,-30 1064,-24 1070,-24 1070,-24 1164,-24 1164,-24 1170,-24 1176,-30 1176,-36 1176,-36 1176,-48 1176,-48 1176,-54 1170,-60 1164,-60\"/>\n",
       "<path fill=\"none\" stroke=\"#000000\" d=\"M1168,-64C1168,-64 1066,-64 1066,-64 1060,-64 1054,-58 1054,-52 1054,-52 1054,-32 1054,-32 1054,-26 1060,-20 1066,-20 1066,-20 1168,-20 1168,-20 1174,-20 1180,-26 1180,-32 1180,-32 1180,-52 1180,-52 1180,-58 1174,-64 1168,-64\"/>\n",
       "<text text-anchor=\"start\" x=\"1066\" y=\"-38.3\" font-family=\"Times,serif\" font-size=\"14.00\" fill=\"#000000\">T → T×a• &#160;&#160;+×⊣</text>\n",
       "</g>\n",
       "<!-- n6&#45;&gt;n8 -->\n",
       "<g id=\"edge10\" class=\"edge\">\n",
       "<title>n6&#45;&gt;n8</title>\n",
       "<path fill=\"none\" stroke=\"#000000\" d=\"M1011.1027,-42C1021.6141,-42 1032.6778,-42 1043.5305,-42\"/>\n",
       "<polygon fill=\"#000000\" stroke=\"#000000\" points=\"1043.8462,-45.5001 1053.8462,-42 1043.8461,-38.5001 1043.8462,-45.5001\"/>\n",
       "<text text-anchor=\"middle\" x=\"1032.5\" y=\"-45.8\" font-family=\"Times,serif\" font-size=\"14.00\" fill=\"#000000\">a</text>\n",
       "</g>\n",
       "<!-- n7&#45;&gt;n6 -->\n",
       "<g id=\"edge11\" class=\"edge\">\n",
       "<title>n7&#45;&gt;n6</title>\n",
       "<path fill=\"none\" stroke=\"#000000\" d=\"M830.3501,-118.8707C836.3316,-115.6379 842.3453,-112.2936 848,-109 871.4422,-95.3462 897.0693,-78.8556 917.0187,-65.6512\"/>\n",
       "<polygon fill=\"#000000\" stroke=\"#000000\" points=\"919.089,-68.4777 925.4767,-60.025 915.212,-62.6494 919.089,-68.4777\"/>\n",
       "<text text-anchor=\"middle\" x=\"870.5\" y=\"-99.8\" font-family=\"Times,serif\" font-size=\"14.00\" fill=\"#000000\">×</text>\n",
       "</g>\n",
       "</g>\n",
       "</svg>\n"
      ]
     },
     "metadata": {},
     "output_type": "display_data"
    }
   ],
   "source": [
    "drawDK (cfg2graphDK cfgG64)\n",
    "drawDK1 (cfg2graphDK1 cfgG64)"
   ]
  },
  {
   "cell_type": "code",
   "execution_count": null,
   "metadata": {},
   "outputs": [],
   "source": []
  }
 ],
 "metadata": {
  "kernelspec": {
   "display_name": "Haskell",
   "language": "haskell",
   "name": "haskell"
  },
  "language_info": {
   "codemirror_mode": "ihaskell",
   "file_extension": ".hs",
   "name": "haskell",
   "pygments_lexer": "Haskell",
   "version": "8.6.5"
  }
 },
 "nbformat": 4,
 "nbformat_minor": 4
}
