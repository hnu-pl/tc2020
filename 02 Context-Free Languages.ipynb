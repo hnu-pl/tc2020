{
 "cells": [
  {
   "cell_type": "markdown",
   "metadata": {},
   "source": [
    "# 2 Context-Free Languages"
   ]
  },
  {
   "cell_type": "markdown",
   "metadata": {},
   "source": [
    "----\n",
    "## 2.1 Context-free Grammars\n",
    "\n",
    "### Formal definition of a context-free grammar\n",
    "\n",
    "### Examples of context-free grammars\n",
    "\n",
    "### Designing context-free grammars\n",
    "\n",
    "### Ambiguity\n",
    "\n",
    "### Chomsky normal form"
   ]
  },
  {
   "cell_type": "markdown",
   "metadata": {},
   "source": [
    "----\n",
    "## 2.2 Pushdown Automata\n",
    "\n",
    "### Pushdown Automata\n",
    "\n",
    "### Formal definition of a pushdown automaton\n",
    "\n",
    "### Examples of pushdown automata\n",
    "\n",
    "### Equivalence with context-free grammars"
   ]
  },
  {
   "cell_type": "markdown",
   "metadata": {},
   "source": [
    "----\n",
    "## Non-context-free Languages\n",
    "\n",
    "### The pumping lemma for context-free languages"
   ]
  },
  {
   "cell_type": "markdown",
   "metadata": {},
   "source": [
    "----\n",
    "## Deterministic Context-Free Languages\n",
    "\n",
    "### Deterministic Context-Free Languages\n",
    "\n",
    "### Properties of DCFLs\n",
    "\n",
    "### Deterministic context-free grammars\n",
    "\n",
    "### Relationship of DPDAs and DCFGs\n",
    "\n",
    "### Parsing and LR(k) Grammars"
   ]
  },
  {
   "cell_type": "code",
   "execution_count": null,
   "metadata": {},
   "outputs": [],
   "source": []
  }
 ],
 "metadata": {
  "kernelspec": {
   "display_name": "Haskell",
   "language": "haskell",
   "name": "haskell"
  },
  "language_info": {
   "codemirror_mode": "ihaskell",
   "file_extension": ".hs",
   "name": "haskell",
   "pygments_lexer": "Haskell",
   "version": "8.6.5"
  }
 },
 "nbformat": 4,
 "nbformat_minor": 4
}
