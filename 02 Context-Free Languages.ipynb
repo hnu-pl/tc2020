{
 "cells": [
  {
   "cell_type": "markdown",
   "metadata": {},
   "source": [
    "# 2 Context-Free Languages"
   ]
  },
  {
   "cell_type": "markdown",
   "metadata": {},
   "source": [
    "----\n",
    "## 2.1 Context-free Grammars\n",
    "\n",
    "### Formal definition of a context-free grammar\n",
    "\n",
    "$G = (V,\\Sigma,R,S)$\n",
    "\n",
    "$\\Gamma = V\\cup\\Sigma$\n",
    "\n",
    "$u\\Rightarrow w$라는 derivation은\n",
    "$u=v_1 A v_2$ 에 규칙 $A\\to w \\in R$를 적용해 $v=v_1 w v_2$를 얻을 수 있음을 뜻한다.\n",
    "($u,v,w,v_1,v_2\\in \\Gamma^*$, $A\\in V$)\n",
    "\n",
    "$G$가 만들어내는 언어는 $\\{ w \\mid w\\in\\Sigma^*, S\\Rightarrow^*w \\}$\n",
    "\n",
    "### Examples of context-free grammars\n",
    "\n",
    "### Designing context-free grammars\n",
    "\n",
    "### Ambiguity\n"
   ]
  },
  {
   "cell_type": "code",
   "execution_count": 1,
   "metadata": {},
   "outputs": [],
   "source": [
    "type Gamma = String\n",
    "type GString = [Gamma]\n",
    "\n",
    "newtype CFG = CFG ([Gamma],[Gamma],[Rule],Gamma) deriving Show\n",
    "\n",
    "data Rule = Gamma :-> GString deriving (Eq,Show)"
   ]
  },
  {
   "cell_type": "code",
   "execution_count": 2,
   "metadata": {},
   "outputs": [],
   "source": [
    "-- 교과서에 나오는 G3 문법\n",
    "cfgG3 = CFG ([\"S\"],[\"a\",\"b\"],rs,\"S\")\n",
    "  where\n",
    "  rs = [ \"S\" :-> [\"a\",\"S\",\"b\"]\n",
    "       , \"S\" :-> [\"S\",\"S\"]\n",
    "       , \"S\" :-> []\n",
    "       ]"
   ]
  },
  {
   "cell_type": "code",
   "execution_count": 3,
   "metadata": {},
   "outputs": [
    {
     "data": {
      "text/plain": [
       "[([],[1,2,3,4]),([1],[2,3,4]),([1,2],[3,4]),([1,2,3],[4]),([1,2,3,4],[])]"
      ]
     },
     "metadata": {},
     "output_type": "display_data"
    }
   ],
   "source": [
    "import Data.List\n",
    "\n",
    "zip (inits [1,2,3,4]) (tails [1,2,3,4])"
   ]
  },
  {
   "cell_type": "code",
   "execution_count": 4,
   "metadata": {},
   "outputs": [],
   "source": [
    "step (CFG(vs,as,rs,_)) gs = -- any step\n",
    "  [ gsL++gs'++gsR | (gsL, v : gsR) <- zip (inits gs) (tails gs),\n",
    "                    v `elem` vs, -- v 가 variable 이기만 하면 됨\n",
    "                    (v' :-> gs') <- rs, v==v' ]\n",
    "\n",
    "lstep (CFG(vs,as,rs,_)) gs = -- leftmost step\n",
    "  [ gsL++gs'++gsR | (gsL, v : gsR) <- zip (inits gs) (tails gs),\n",
    "                    all (`elem` as) gsL, v `elem` vs, -- v는 가장 왼쪽의 variable\n",
    "                    (v' :-> gs') <- rs, v==v' ]"
   ]
  },
  {
   "cell_type": "code",
   "execution_count": 5,
   "metadata": {},
   "outputs": [
    {
     "data": {
      "text/plain": [
       "[\"a\",\"a\",\"S\",\"b\",\"S\",\"b\"]\n",
       "[\"a\",\"S\",\"S\",\"S\",\"b\"]\n",
       "[\"a\",\"S\",\"b\"]\n",
       "[\"a\",\"S\",\"a\",\"S\",\"b\",\"b\"]\n",
       "[\"a\",\"S\",\"S\",\"S\",\"b\"]\n",
       "[\"a\",\"S\",\"b\"]"
      ]
     },
     "metadata": {},
     "output_type": "display_data"
    }
   ],
   "source": [
    "mapM_ print $ step cfgG3 [\"a\",\"S\",\"S\",\"b\"]"
   ]
  },
  {
   "cell_type": "code",
   "execution_count": 6,
   "metadata": {},
   "outputs": [
    {
     "data": {
      "text/plain": [
       "[\"a\",\"a\",\"S\",\"b\",\"S\",\"b\"]\n",
       "[\"a\",\"S\",\"S\",\"S\",\"b\"]\n",
       "[\"a\",\"S\",\"b\"]"
      ]
     },
     "metadata": {},
     "output_type": "display_data"
    }
   ],
   "source": [
    "mapM_ print $ lstep cfgG3 [\"a\",\"S\",\"S\",\"b\"]"
   ]
  },
  {
   "cell_type": "code",
   "execution_count": 7,
   "metadata": {},
   "outputs": [],
   "source": [
    "-- derivation step operator\n",
    "infixl 5 .=> \n",
    "(.=>) :: [GString] -> GString -> [GString]\n",
    "gss .=> gs = gss++[gs]\n",
    "\n",
    "derivation = (:[])\n",
    "\n",
    "-- valid derivation judgement\n",
    "infix 4 |-\n",
    "(|-) :: CFG -> [GString] -> Bool\n",
    "cfg |- gss\n",
    " | length gss < 2 = error \"derivation must have at least one step\"\n",
    " | otherwise = and [gs2 `elem` step cfg gs1 | (gs1,gs2) <- zip gss (tail gss)]\n",
    " \n",
    " -- valid leftmost derivation judgement\n",
    "infix 4 ||-\n",
    "(||-) :: CFG -> [GString] -> Bool\n",
    "cfg ||- gss\n",
    " | length gss < 2 = error \"derivation must have at least one step\"\n",
    " | otherwise = and [gs2 `elem` lstep cfg gs1 | (gs1,gs2) <- zip gss (tail gss)]"
   ]
  },
  {
   "cell_type": "code",
   "execution_count": 8,
   "metadata": {},
   "outputs": [
    {
     "data": {
      "text/plain": [
       "[[\"S\"],[\"a\",\"S\",\"b\"],[\"a\",\"b\"]]"
      ]
     },
     "metadata": {},
     "output_type": "display_data"
    }
   ],
   "source": [
    "derivation [\"S\"] .=> [\"a\",\"S\",\"b\"] .=> [\"a\",\"b\"]"
   ]
  },
  {
   "cell_type": "code",
   "execution_count": 9,
   "metadata": {},
   "outputs": [
    {
     "ename": "",
     "evalue": "",
     "header": "MessageHeader {mhIdentifiers = [\"cc35c173-fcac-4a73-afea-83f109255b52\"], mhParentHeader = Just (MessageHeader {mhIdentifiers = [\"cc35c173-fcac-4a73-afea-83f109255b52\"], mhParentHeader = Nothing, mhMetadata = Metadata (fromList [(\"recordTiming\",Bool False),(\"deletedCells\",Array []),(\"cellId\",String \"b3540ccc-52c3-460a-aa8f-988142b2aae8\")]), mhMessageId = UUID {uuidToString = \"94515928-1985-477c-b8bf-79338a67f5b7\"}, mhSessionId = UUID {uuidToString = \"cc35c173-fcac-4a73-afea-83f109255b52\"}, mhUsername = \"\", mhMsgType = ExecuteRequestMessage, mhBuffers = []}), mhMetadata = Metadata (fromList []), mhMessageId = UUID {uuidToString = \"049a0954-fd5c-47e1-b25e-99b8f1376d08\"}, mhSessionId = UUID {uuidToString = \"cc35c173-fcac-4a73-afea-83f109255b52\"}, mhUsername = \"\", mhMsgType = ExecuteErrorMessage, mhBuffers = []}",
     "output_type": "error",
     "traceback": [
      "derivation must have at least one step\nCallStack (from HasCallStack):\n  error, called at <interactive>:8:21 in interactive:Ghci159"
     ]
    }
   ],
   "source": [
    "cfgG3 |- derivation [\"S\"]"
   ]
  },
  {
   "cell_type": "code",
   "execution_count": 10,
   "metadata": {},
   "outputs": [
    {
     "data": {
      "text/plain": [
       "True"
      ]
     },
     "metadata": {},
     "output_type": "display_data"
    },
    {
     "data": {
      "text/plain": [
       "True"
      ]
     },
     "metadata": {},
     "output_type": "display_data"
    },
    {
     "data": {
      "text/plain": [
       "False"
      ]
     },
     "metadata": {},
     "output_type": "display_data"
    },
    {
     "data": {
      "text/plain": [
       "True"
      ]
     },
     "metadata": {},
     "output_type": "display_data"
    }
   ],
   "source": [
    "cfgG3 |- derivation [\"S\"] .=> [\"a\",\"S\",\"b\"]\n",
    "cfgG3 |- derivation [\"S\"] .=> [\"a\",\"S\",\"b\"] .=> [\"a\",\"b\"]\n",
    "cfgG3 |- derivation [\"S\"] .=> [\"a\",\"S\",\"b\"] .=> [\"a\",\"S\",\"b\"]\n",
    "cfgG3 |- derivation [\"S\"] .=> [\"a\",\"S\",\"b\"] .=> [\"a\",\"S\",\"S\",\"b\"]"
   ]
  },
  {
   "cell_type": "code",
   "execution_count": 11,
   "metadata": {},
   "outputs": [
    {
     "data": {
      "text/plain": [
       "True"
      ]
     },
     "metadata": {},
     "output_type": "display_data"
    },
    {
     "data": {
      "text/plain": [
       "False"
      ]
     },
     "metadata": {},
     "output_type": "display_data"
    }
   ],
   "source": [
    "cfgG3 |- derivation [\"S\"] .=> [\"a\",\"S\",\"b\"]\n",
    "                          .=> [\"a\",\"S\",\"S\",\"b\"]\n",
    "                          .=> [\"a\",\"S\",\"a\",\"S\",\"b\",\"b\"]\n",
    "                          \n",
    "cfgG3||- derivation [\"S\"] .=> [\"a\",\"S\",\"b\"]\n",
    "                          .=> [\"a\",\"S\",\"S\",\"b\"]\n",
    "                          .=> [\"a\",\"S\",\"a\",\"S\",\"b\",\"b\"]"
   ]
  },
  {
   "cell_type": "code",
   "execution_count": 12,
   "metadata": {},
   "outputs": [
    {
     "data": {
      "text/plain": [
       "True"
      ]
     },
     "metadata": {},
     "output_type": "display_data"
    },
    {
     "data": {
      "text/plain": [
       "True"
      ]
     },
     "metadata": {},
     "output_type": "display_data"
    }
   ],
   "source": [
    "-- G3 is an ambiguous CFG because multiple leftmost derivation exists for S =>* ab\n",
    "cfgG3||- derivation [\"S\"] .=> [\"a\",\"S\",\"b\"]\n",
    "                          .=> [\"a\",\"b\"]\n",
    "\n",
    "cfgG3||- derivation [\"S\"] .=> [\"a\",\"S\",\"b\"]\n",
    "                          .=> [\"a\",\"S\",\"S\",\"b\"]\n",
    "                          .=> [\"a\",\"S\",\"b\"]\n",
    "                          .=> [\"a\",\"b\"]"
   ]
  },
  {
   "cell_type": "code",
   "execution_count": 13,
   "metadata": {},
   "outputs": [
    {
     "data": {
      "text/plain": [
       "S\n",
       "|\n",
       "+- a\n",
       "|\n",
       "+- S\n",
       "|\n",
       "`- b"
      ]
     },
     "metadata": {},
     "output_type": "display_data"
    }
   ],
   "source": [
    "-- 그냥 parse tree가 유일하면 ambiguous하지 않음\n",
    "import Data.Tree\n",
    "-- data Tree a = Node a [a] -- 첫번째 rootLabel 두번째 subForest\n",
    "\n",
    "tree1 =\n",
    "  Node \"S\" [ Node \"a\" [] -- terminal은 자녀 없음\n",
    "           , Node \"S\" [] -- epsilon\n",
    "           , Node \"b\" [] -- terminal은 자녀 없음\n",
    "           ]\n",
    "\n",
    "putStrLn $ drawTree tree1"
   ]
  },
  {
   "cell_type": "code",
   "execution_count": 14,
   "metadata": {},
   "outputs": [
    {
     "data": {
      "text/plain": [
       "S\n",
       "|\n",
       "+- a\n",
       "|\n",
       "+- S\n",
       "|  |\n",
       "|  +- S\n",
       "|  |\n",
       "|  `- S\n",
       "|\n",
       "`- b"
      ]
     },
     "metadata": {},
     "output_type": "display_data"
    }
   ],
   "source": [
    "tree2 =\n",
    "  Node \"S\" [ Node \"a\" [] -- terminal은 자녀 없음\n",
    "           , Node \"S\" [ Node \"S\" [] -- epsilon\n",
    "                      , Node \"S\" [] -- epsilon\n",
    "                      ]\n",
    "           , Node \"b\" [] -- terminal은 자녀 없음\n",
    "           ]\n",
    "\n",
    "putStrLn $ drawTree tree2"
   ]
  },
  {
   "cell_type": "markdown",
   "metadata": {},
   "source": [
    "### Chomsky normal form\n",
    "CFG 규칙에 $A \\to BC$와 $A\\to a$의 형태($B$와 $C$는 시작 변수 아님)만 있으면 촘스키정규형(CNF)이라 한다.<br>\n",
    "단, $\\varepsilon$을 포함하는 언어 정의도 가능해야 하므로, 예외적으로 시작 변수 $S$에 대해서만 $S\\to \\varepsilon$ 규칙을 허용한다.\n",
    "\n",
    "모든 문맥자유언어(CFL)를 CNF로 나타낼 수 있다는 성질이 알려져 있다.<br>\n",
    "이는 모든 문맥자유문법(CFG)을 똑같은 언어를 생성하는 CNF로 변환 가능함을 보임으로써 증명 가능하다.\n",
    "\n",
    "기본적인 아이디어는\n",
    "\n",
    " * $A\\to \\varepsilon$ 형태의 $\\varepsilon$규칙과 $A\\to B$ 형태의 unit규칙을 제거하고 \n",
    " * 그런 형태의 규칙들이 만들어내던 문자열을 CNF를 만족하는 다른 규칙들로 만들어내도록\n",
    "\n",
    "대체하는 방법만 찾아내면 된다.\n",
    "그 외에 좀더 고치기 쉬운 형태의 규칙들,<br>\n",
    "예를 들면 $A \\to B_1 B_2 C_1 C_2$는\n",
    "새로운 변수 $B_0$와 $C_0$를 도입해 아래 규칙들로 대체하면 된다.\n",
    "\n",
    "  $A\\to B_0C_0$<br>\n",
    "  $B_0\\to B_1 B_2$<br>\n",
    "  $C_0\\to C_1 C_2$\n",
    "\n",
    "CNF가 이론을 전개하고 특정 알고리듬을 설명하는 데 요긴하게 쓰인다.<br>\n",
    "그러나 CNF를 최소화된 혹은 최적화된 문법규칙이라 말할 수는 없다.<br>\n",
    "CFG에는 최소화된 문법이라는 개념이 일반적으로 잘 정의되지 않는다.<br>\n",
    "(참고로, 결정적유한오토마타(DFA)의 경우에는 상태 개수라는 명확한 기준으로 최소화된 DFA로 변환하는 것이 가능)"
   ]
  },
  {
   "cell_type": "markdown",
   "metadata": {},
   "source": [
    "----\n",
    "## 2.2 Pushdown Automata\n",
    "\n",
    "### Pushdown Automata\n",
    "\n",
    "### Formal definition of a pushdown automaton\n",
    "\n",
    "$M = (Q,\\Sigma,\\Gamma,\\delta,q_0,F)$\n",
    "\n",
    "1. $Q$는 상태의 유한집합\n",
    "1. $\\Sigma$는 입력 알파벳 (입력 문자열을 구성하는 심볼의 유한집합)\n",
    "1. $\\Gamma$는 스택 알파벳 (스택에 저장될 수 있는 심볼의 유한집합)\n",
    "1. $\\delta : Q\\times \\Sigma_\\varepsilon \\times \\Gamma_\\varepsilon \\to \\wp(Q\\times \\Gamma_\\varepsilon)$는 전이함수\n",
    "1. $q_0\\in Q$는 시작상태\n",
    "1. $F\\subseteq Q$는 받아들여지는 상태(accept state) 혹은 종료 상태(final state)라도도 한다\n",
    "\n",
    "꼭 그렇게 해야만 하는 것은 아니지만 대부분의 경우 $\\Sigma$ 전체 혹은 $\\Sigma$의 부분집합을 $\\Gamma$가 포함하는 경우가 많다.<br>\n",
    "포함해 놓고도 전이함수에서 사용을 안하면 (그러니까 결과로 공집합을 계산하면) 되니까 그냥 많은 경우 $\\Sigma \\subset \\Gamma$라고 생각하고 설계해도 된다.<br>\n",
    "저 앞에서 CFG를 설명할 때 $\\Gamma = \\Sigma \\cup V$ 라고 한 $\\Gamma$라는 기호를 사용했던 것이 바로 이러한 맥락에서다.<br>\n",
    "앞으로 배울 PDA관련 절에서 CFG를 PDA로 옮길 때 대략 스택 심볼에 $\\Sigma \\cup V$를 포함하게 설계하면 되기 때문에 ...\n",
    "\n",
    "\n",
    "$w = w_1w_2\\cdots w_m$을 (단, $w_i\\in \\Sigma_\\varepsilon$) PDA가 받아들인다는 뜻은<br>\n",
    "일련의 상태 $r_0,r_1,\\ldots,r_m \\in Q$와 일련의 스택 $s_0,s_1,\\ldots,s_m\\in\\Gamma^*$가 있어<br>\n",
    "다음과 같이 계속해서 전이함수를 따라가다 보면 종료상태에서 끝나는 경로가 하나라도 존재한다는 의미이다.\n",
    "단, 초기 상태 $r_0 = q_0$이고 초기 스택 $s_0 = \\varepsilon$로 시작한다.\n",
    "\n",
    "$\\exists (r_1,b_1) \\in\\delta(r_0,w_1,b_0)$ 단, $s_0 = b_0 t_1, s_1 = b_1 t_1$\n",
    "\n",
    "$\\exists (r_2,b_2) \\in\\delta(r_1,w_2,b_1)$ 단, $s_0 = b_1 t_2, s_2 = b_2 t_2$ \n",
    "\n",
    "$\\vdots$\n",
    "\n",
    "$\\exists (r_m,b_m) \\in\\delta(r_{m-1},w_m,b_{m-1})$ 단, $s_m = b_{m-1} t_m, s_m = b_m t_m$\n",
    "\n",
    "마지막 상태 $r_m\\in F$. (위에서 $b_i \\in \\Gamma_\\varepsilon$, $t_i\\in\\Gamma^*$)\n",
    "\n",
    "### Examples of pushdown automata"
   ]
  },
  {
   "cell_type": "markdown",
   "metadata": {},
   "source": [
    "책에 나온 대로 위와 같이 작성한 것은 NFA랑 최대한 비슷하게 이해를 돕고자 함이다.<br>\n",
    "하지만 비결정적으로라도 저런 식으로 계산을 진행하는 것은 번거롭다.<br>\n",
    "그래서 PDA 상태와 스택을 한 덩어리로 묶어 종합적인 PDA의 상태로 생각하는 것이 편하다.<br>\n",
    "그리고 비결정적 계산이므로 종합적인 PDA상태의 집합에서 집합으로 가는 함수를 만들어 활용한다.<br>\n",
    "즉, $\\delta$로부터 아래와 같은 $\\hat\\delta : \\wp(Q\\times \\Gamma^*) \\times \\Sigma_\\varepsilon \\to \\wp(Q\\times \\Gamma^*)$ 함수를 만들어 계산하자는 이야기.\n",
    "\n",
    "$\\hat\\delta(C,x) = \\{ (r',b't) \\mid (r,bt)\\in C, (r',b't)\\in\\delta(r,x,bt) \\}$\n",
    "\n",
    "그리고 이것을 더 편하게 하기 위해 $\\delta$로부터 $\\delta': Q\\times \\Sigma_\\varepsilon \\times \\Gamma^* \\to \\wp(Q\\times \\Gamma^*)$ 함수를 만들어 아래와 같이 정의할 수 있다.\n",
    "\n",
    "$\\hat\\delta(C,z) = \\{ (r',s') \\mid (r,s)\\in C, (r',s')\\in\\delta'(r,z,s) \\}$\n",
    "\n",
    "위와 같이 정의한 $\\hat\\delta$를 이용하면 입력 문자열 $w=w_1 \\ldots w_m$이 이렇게 표현할 수 있다\n",
    "\n",
    "$\\exists (r_m, s_m) \\in \\hat\\delta(\\ldots(\\hat\\delta(\\hat\\delta(\\{(r_0,s_0)\\},w_1),w_2),\\ldots),w_m)$ such that $r_m\\in F$\n",
    "\n",
    "이와 같은 계산 패턴은 함수형 프로그래밍에서 foldl에 해당한다."
   ]
  },
  {
   "cell_type": "code",
   "execution_count": 15,
   "metadata": {},
   "outputs": [],
   "source": [
    "import Data.List (union)\n",
    "\n",
    "-- see p. 113 Definition 2.13\n",
    "newtype PDA q a = PDA ([q], [a], [a], (q,[a],[a])->[(q,[a])], q, [q])\n",
    "-- 사실상 a = String인 경우만을 활용할 것이다\n",
    "\n",
    "-- 주어진 PDA의 delta hat 함수\n",
    "stepPDA :: (Eq q, Eq a) => PDA q a -> [(q,[a])] -> [a] -> [(q,[a])]\n",
    "stepPDA (PDA(qs,as,gs,d,q0,fs)) cs z = [ (r',s') | (r,s) <- cs, (r',s') <- d'(r,z,s)]\n",
    "  where\n",
    "  d'(r,x,g:gs) = [ (r',b'++gs)   | (r',b') <- d(r,x,[g]) ] -- b==[g], t==gs\n",
    "         `union` [ (r',b'++g:gs) | (r',b') <- d(r,x,[] ) ] -- b==[], t==g:gs\n",
    "  d'(r,x,[]) = d(r,x,[])"
   ]
  },
  {
   "cell_type": "code",
   "execution_count": 16,
   "metadata": {},
   "outputs": [],
   "source": [
    "pdaM1 = PDA ([\"q1\",\"q2\",\"q3\",\"q4\"],[\"0\",\"1\"],[\"0\",\"1\",\"$\"],d,\"q1\",[\"q1\",\"q4\"])\n",
    "  where\n",
    "  d(\"q1\",[]   ,[]   ) = [(\"q2\",[\"$\"])]\n",
    "  d(\"q2\",[\"0\"],[]   ) = [(\"q2\",[\"0\"])]\n",
    "  d(\"q2\",[\"1\"],[\"0\"]) = [(\"q3\",[]   )]\n",
    "  d(\"q3\",[\"1\"],[\"0\"]) = [(\"q3\",[]   )]\n",
    "  d(\"q3\",[]   ,[\"$\"]) = [(\"q4\",[]   )]\n",
    "  d(_   ,_    ,_    ) = []"
   ]
  },
  {
   "cell_type": "code",
   "execution_count": 17,
   "metadata": {},
   "outputs": [
    {
     "data": {
      "text/plain": [
       "[(\"q2\",[\"$\"])]"
      ]
     },
     "metadata": {},
     "output_type": "display_data"
    },
    {
     "data": {
      "text/plain": [
       "[(\"q2\",[\"0\",\"$\"])]"
      ]
     },
     "metadata": {},
     "output_type": "display_data"
    },
    {
     "data": {
      "text/plain": [
       "[(\"q2\",[\"0\",\"0\",\"$\"])]"
      ]
     },
     "metadata": {},
     "output_type": "display_data"
    },
    {
     "data": {
      "text/plain": [
       "[(\"q3\",[\"0\",\"$\"])]"
      ]
     },
     "metadata": {},
     "output_type": "display_data"
    },
    {
     "data": {
      "text/plain": [
       "[(\"q3\",[\"$\"])]"
      ]
     },
     "metadata": {},
     "output_type": "display_data"
    },
    {
     "data": {
      "text/plain": [
       "[(\"q4\",[])]"
      ]
     },
     "metadata": {},
     "output_type": "display_data"
    }
   ],
   "source": [
    "-- for input string 0011 = ε0011ε\n",
    "stepPDA pdaM1 [(\"q1\",[]   )]         []\n",
    "stepPDA pdaM1 [(\"q2\",[\"$\"])]         [\"0\"]\n",
    "stepPDA pdaM1 [(\"q2\",[\"0\",\"$\"])]     [\"0\"]\n",
    "stepPDA pdaM1 [(\"q2\",[\"0\",\"0\",\"$\"])] [\"1\"]\n",
    "stepPDA pdaM1 [(\"q2\",[\"0\",\"$\"])]     [\"1\"]\n",
    "stepPDA pdaM1 [(\"q3\",[\"$\"])]         []"
   ]
  },
  {
   "cell_type": "code",
   "execution_count": 18,
   "metadata": {},
   "outputs": [
    {
     "data": {
      "text/plain": [
       "[(\"q4\",[])]"
      ]
     },
     "metadata": {},
     "output_type": "display_data"
    }
   ],
   "source": [
    "foldl (stepPDA pdaM1) [(\"q1\",[])] [ [], [\"0\"], [\"0\"], [\"1\"], [\"1\"], [] ]"
   ]
  },
  {
   "cell_type": "markdown",
   "metadata": {},
   "source": [
    "foldl로 하니까 좀 간편하지긴 했는데 그래도 입력 문자열을 처리하는 도중에 어디서 $\\varepsilon$을 얼마만큼 넣을 것인가를 잘 생각해서 필요한 곳에 추가해 주어야 한다.\n",
    "\n",
    "NFA에서는 간단하게 입력 문자열에서의 $\\varepsilon$을 처리했던 거 같은더 PDA는 그렇게 안 될까?\n",
    "NFA만큼 간단하지는 않다.<br>\n",
    "입력 문자열 $\\varepsilon$처리와 함께 스택에도 변화가 일어날 수 있기 때문에 스택이 변화하는 가능성까지를 모두 고려해애 하기 때문이다.<br>\n",
    "즉, 입력 문자열 도중의 어떤 시점에 $\\varepsilon$을 임의의 개수 활용했을 때 스택을 포함한 종합적인 PDA상태의 closure가 생긴다는 보장이 없다.<br>\n",
    "예를 들어 입력 문자열에 어떤 $\\varepsilon$ 처리를 할 때마다 스택에 무엇인가 쌓는다고 하면 회수를 반복할수록 계속 전에 보지 못했던 다른 스택이 만들어지게 된다."
   ]
  },
  {
   "cell_type": "markdown",
   "metadata": {},
   "source": [
    "### Equivalence with context-free grammars\n",
    "\n",
    "CFG를 PDA로 변환하는 예제를 하나만 살펴보자. (반대로 하는 것은 시간상 수업에서는 다루지 못하고 넘어간다.)\n",
    "\n",
    "Example 2.25\n",
    "\n",
    "* 규칙 S1: $S \\to \\mathtt{a}T\\mathtt{b}$\n",
    "* 규칙 S2: $S \\to \\mathtt{b}$\n",
    "* 규칙 T1: $T \\to T\\mathtt{a}$\n",
    "* 규칙 T2: $T \\to \\varepsilon$\n",
    "\n",
    "길이 $n \\ge 2$인 intermediate string을 생성하는 규칙마다 $n-1$개의 추가 상태 필요. (규칙 S1, T1)\n",
    "\n",
    "길이 $n \\le 1$인 intermediate string을 생성하는 규칙에는 추가 상태 필요 없음. (규칙 S2, T2)\n",
    "\n",
    "(저 위의 CFG 프로그램에서는 intermediat string에 해당하는 것을 GString이라는 타입 별명으로 부름)"
   ]
  },
  {
   "cell_type": "code",
   "execution_count": 19,
   "metadata": {},
   "outputs": [],
   "source": [
    "cfgG1 = CFG ([\"S\",\"T\"],[\"a\",\"b\"],rs,\"S\")\n",
    "  where\n",
    "  rs = [ \"S\" :-> [\"a\",\"T\",\"b\"]\n",
    "       , \"S\" :-> [\"b\"]\n",
    "       , \"T\" :-> [\"T\",\"a\"]\n",
    "       , \"T\" :-> []\n",
    "       ]"
   ]
  },
  {
   "cell_type": "code",
   "execution_count": 20,
   "metadata": {},
   "outputs": [
    {
     "data": {
      "text/plain": [
       "True"
      ]
     },
     "metadata": {},
     "output_type": "display_data"
    }
   ],
   "source": [
    "cfgG1||- derivation\n",
    "           [\"S\"] .=> [\"b\"]"
   ]
  },
  {
   "cell_type": "code",
   "execution_count": 21,
   "metadata": {},
   "outputs": [
    {
     "data": {
      "text/plain": [
       "True"
      ]
     },
     "metadata": {},
     "output_type": "display_data"
    }
   ],
   "source": [
    "cfgG1||- derivation\n",
    "           [\"S\"] .=> [\"a\",\"T\",\"b\"]\n",
    "                 .=> [\"a\",\"T\",\"a\",\"b\"]\n",
    "                 .=> [\"a\",\"a\",\"b\"]"
   ]
  },
  {
   "cell_type": "code",
   "execution_count": 22,
   "metadata": {},
   "outputs": [
    {
     "data": {
      "text/plain": [
       "False"
      ]
     },
     "metadata": {},
     "output_type": "display_data"
    }
   ],
   "source": [
    "cfgG1||- derivation\n",
    "           [\"S\"] .=> [\"a\",\"T\",\"b\"]\n",
    "                 .=> [\"a\",\"a\",\"T\",\"b\"]\n",
    "                 .=> [\"a\",\"a\",\"b\"]"
   ]
  },
  {
   "cell_type": "code",
   "execution_count": 23,
   "metadata": {},
   "outputs": [],
   "source": [
    "pdaP1 = PDA ( [\"q0\",\"qS\",\"qL\",\"qA\", \"qS1b\",\"qS1T\", \"qT1a\"]\n",
    "            , [\"a\",\"b\"] -- Σ\n",
    "            , [\"a\",\"b\",\"$\",\"S\",\"T\"] -- Γ = Σ ⋃ { $ } ⋃ V\n",
    "            , d\n",
    "            , \"q0\"\n",
    "            , [\"qf\"] )\n",
    "  where\n",
    "  d(\"q0\",[]   ,[]   ) = [(\"qS\",[\"$\"])]\n",
    "  d(\"qS\",[]   ,[]   ) = [(\"qL\",[\"S\"])]\n",
    "  -- CFG production rules\n",
    "  d(\"qL\"  ,[] ,[\"S\"]) = [(\"qS1b\",[\"b\"])  -- S -> a T.b\n",
    "                        ,(\"qL\"  ,[\"b\"])] -- S ->.b\n",
    "  d(\"qS1b\",[] ,[]   ) = [(\"qS1T\",[\"T\"])] -- S -> a.T b\n",
    "  d(\"qS1T\",[] ,[]   ) = [(\"qL\"  ,[\"a\"])] -- S ->.a T b\n",
    "  d(\"qL\"  ,[] ,[\"T\"]) = [(\"qT1a\",[\"a\"])  -- T -> T.a\n",
    "                        ,(\"qL\"  ,[]   )] -- T ->.ε\n",
    "  d(\"qT1a\",[] ,[]   ) = [(\"qL\"  ,[\"T\"])] -- T ->.T a\n",
    "  -- pop terminal on the stack\n",
    "  d(\"qL\",[\"a\"],[\"a\"]) = [(\"qL\",[]   )]\n",
    "  d(\"qL\",[\"b\"],[\"b\"]) = [(\"qL\",[]   )]\n",
    "  -- to accept state\n",
    "  d(\"qL\",[]   ,[\"$\"]) = [(\"qA\",[]   )]\n",
    "  -- default\n",
    "  d(_,_,_) = []"
   ]
  },
  {
   "cell_type": "code",
   "execution_count": 24,
   "metadata": {},
   "outputs": [
    {
     "data": {
      "text/plain": [
       "[(\"qS\",[\"$\"])]"
      ]
     },
     "metadata": {},
     "output_type": "display_data"
    },
    {
     "data": {
      "text/plain": [
       "[(\"qL\",[\"S\",\"$\"])]"
      ]
     },
     "metadata": {},
     "output_type": "display_data"
    },
    {
     "data": {
      "text/plain": [
       "[(\"qS1b\",[\"b\",\"$\"]),(\"qL\",[\"b\",\"$\"])]"
      ]
     },
     "metadata": {},
     "output_type": "display_data"
    },
    {
     "data": {
      "text/plain": [
       "[(\"qS1T\",[\"T\",\"b\",\"$\"])]"
      ]
     },
     "metadata": {},
     "output_type": "display_data"
    },
    {
     "data": {
      "text/plain": [
       "[(\"qL\",[\"a\",\"T\",\"b\",\"$\"])]"
      ]
     },
     "metadata": {},
     "output_type": "display_data"
    },
    {
     "data": {
      "text/plain": [
       "[(\"qL\",[\"T\",\"b\",\"$\"])]"
      ]
     },
     "metadata": {},
     "output_type": "display_data"
    },
    {
     "data": {
      "text/plain": [
       "[(\"qT1a\",[\"a\",\"b\",\"$\"]),(\"qL\",[\"b\",\"$\"])]"
      ]
     },
     "metadata": {},
     "output_type": "display_data"
    },
    {
     "data": {
      "text/plain": [
       "[(\"qL\",[\"T\",\"a\",\"b\",\"$\"])]"
      ]
     },
     "metadata": {},
     "output_type": "display_data"
    },
    {
     "data": {
      "text/plain": [
       "[(\"qL\",[\"T\",\"a\",\"b\",\"$\"])]"
      ]
     },
     "metadata": {},
     "output_type": "display_data"
    },
    {
     "data": {
      "text/plain": [
       "[(\"qT1a\",[\"a\",\"a\",\"b\",\"$\"]),(\"qL\",[\"a\",\"b\",\"$\"])]"
      ]
     },
     "metadata": {},
     "output_type": "display_data"
    },
    {
     "data": {
      "text/plain": [
       "[(\"qL\",[\"b\",\"$\"])]"
      ]
     },
     "metadata": {},
     "output_type": "display_data"
    },
    {
     "data": {
      "text/plain": [
       "[(\"qL\",[\"$\"])]"
      ]
     },
     "metadata": {},
     "output_type": "display_data"
    },
    {
     "data": {
      "text/plain": [
       "[(\"qA\",[])]"
      ]
     },
     "metadata": {},
     "output_type": "display_data"
    }
   ],
   "source": [
    "-- aab = εεεεεaεεεεabε\n",
    "stepPDA pdaP1 [(\"q0\",[])]                 []\n",
    "stepPDA pdaP1 [(\"qS\",[\"$\"])]              []\n",
    "stepPDA pdaP1 [(\"qL\",[\"S\",\"$\"])]          []\n",
    "stepPDA pdaP1 [(\"qS1b\",[\"b\",\"$\"])\n",
    "              ,(\"qL\",[\"b\",\"$\"])]          []\n",
    "stepPDA pdaP1 [(\"qS1T\",[\"T\",\"b\",\"$\"])]    []\n",
    "stepPDA pdaP1 [(\"qL\",[\"a\",\"T\",\"b\",\"$\"])]  [\"a\"]\n",
    "stepPDA pdaP1 [(\"qL\",[\"T\",\"b\",\"$\"])]      []\n",
    "stepPDA pdaP1 [(\"qT1a\",[\"a\",\"b\",\"$\"])\n",
    "              ,(\"qL\",[\"b\",\"$\"])]          []\n",
    "stepPDA pdaP1 [(\"qT1a\",[\"a\",\"b\",\"$\"])\n",
    "              ,(\"qL\",[\"b\",\"$\"])]          []\n",
    "stepPDA pdaP1 [(\"qL\",[\"T\",\"a\",\"b\",\"$\"])]  []\n",
    "stepPDA pdaP1 [(\"qT1a\",[\"a\",\"a\",\"b\",\"$\"])\n",
    "              ,(\"qL\",[\"a\",\"b\",\"$\"])]      [\"a\"]\n",
    "stepPDA pdaP1 [(\"qL\",[\"b\",\"$\"])]          [\"b\"]\n",
    "stepPDA pdaP1 [(\"qL\",[\"$\"])]              []"
   ]
  },
  {
   "cell_type": "markdown",
   "metadata": {},
   "source": [
    "----\n",
    "## Non-context-free Languages\n",
    "\n",
    "### The pumping lemma for context-free languages"
   ]
  },
  {
   "cell_type": "markdown",
   "metadata": {},
   "source": [
    "----\n",
    "## Deterministic Context-Free Languages\n",
    "\n",
    "DPDA는 PDA에서 전이함수 함수의 결과를 1개 이하로 강제하며 추가로 입력 및 스택에 대한 $\\epsilon$ 처리의 비결정성을 제한한다.<br>\n",
    "책에서는 $\\delta : Q\\times \\Sigma_\\varepsilon \\times \\Gamma_\\epsilon \\to (Q\\times \\Gamma_\\varepsilon)\\cup\\{\\emptyset\\}$으로\n",
    "전이함수 결과를 1개 이하로 강제함으로 표현하며,<br>\n",
    "추가적인 제한사항이란 모든 $q\\in Q$, $a\\in\\Sigma$, $x\\in\\Gamma$에 대해\n",
    "$\\delta(q,a,x)$, $\\delta(q,a,\\varepsilon)$, $\\delta(q,\\varepsilon,x)$, $\\delta(q,\\varepsilon,\\varepsilon)$중\n",
    "단 하나만 $\\emptyset$이 아니다.<br>\n",
    "이 추가적인 제한사항은 입력이나 스택의 $\\epsilon$인 경우 전이가 $\\epsilon$이 아닌 경우의 전이를 선택하는 것과 비결적적인 상황이 발생하는 것을 방지하려는 것이다.\n",
    "\n",
    "\n",
    "DPDA는 정의 자체로는 유한한 실패(finite failure)를 보장하지는 않는다. ($\\varepsilon$입력을 무한히 처리하며 더 이상의 입력 문자열을 처리를 진행하지 못하는 경우 발생 가능)\n",
    "\n",
    "\n",
    "### Properties of DCFLs\n",
    "\n",
    "### Deterministic context-free grammars\n",
    "\n",
    "### Relationship of DPDAs and DCFGs\n",
    "\n",
    "### Parsing and LR(k) Grammars"
   ]
  },
  {
   "cell_type": "code",
   "execution_count": null,
   "metadata": {},
   "outputs": [],
   "source": []
  }
 ],
 "metadata": {
  "kernelspec": {
   "display_name": "Haskell",
   "language": "haskell",
   "name": "haskell"
  },
  "language_info": {
   "codemirror_mode": "ihaskell",
   "file_extension": ".hs",
   "name": "haskell",
   "pygments_lexer": "Haskell",
   "version": "8.6.5"
  }
 },
 "nbformat": 4,
 "nbformat_minor": 4
}
