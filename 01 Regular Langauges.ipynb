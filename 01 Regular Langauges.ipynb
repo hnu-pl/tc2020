{
 "cells": [
  {
   "cell_type": "markdown",
   "metadata": {},
   "source": [
    "# 1 Regular Languages"
   ]
  },
  {
   "cell_type": "markdown",
   "metadata": {},
   "source": [
    "----\n",
    "## 1.1 Finite Automata\n",
    "\n",
    "단수 automaton 복수 automata\n",
    "\n",
    "유한오토마타(finite automata, FA)를 유한상태기계(finite state machine, FSM)이라고도 함\n",
    "\n",
    "### Formal definition of a finite automaton\n",
    "\n",
    "* Definition 1.5\n",
    "\n",
    "  유한오토마타란 $(Q,\\Sigma,\\delta,q_0,F)$의 5-튜플이며, 이 때\n",
    "    1. $Q$ 상태(state)의 유한집합\n",
    "    1. $\\Sigma$ 알파벳 - 심볼(symbol)의 유한집합\n",
    "    1. $\\delta : Q\\times\\Sigma \\to Q$ 전이함수(transition funciton)\n",
    "    1. $q_0 \\in Q$ 시작 상태(start state)\n",
    "    1. $F \\subseteq Q$ 종료상태(final state)의 집합\n",
    "  \n",
    "  종료상태 혹은 끝나는 상태를 받아들여지는 상태(accept state)라고도 한다.\n",
    "\n",
    "우선 결정적 유한오토마타(deterministic finite automata, DFA)부터 살펴보자."
   ]
  },
  {
   "cell_type": "code",
   "execution_count": 1,
   "metadata": {},
   "outputs": [],
   "source": [
    "newtype DFA q a = DFA ([q], [a], (q,a) -> q, q, [q])\n",
    "{-\n",
    "   q 상태의 타입\n",
    "   a 심볼의 타입\n",
    "   [q] 상태가 여러 개 나열된 타입 (집합 대신 그냥 리스트로 표현)\n",
    "   [a] 심볼이 여러 개 나열된 타입 (집합 대신 그냥 리스트로 표현)\n",
    "-}\n",
    "\n",
    "instance (Show q, Show a) => Show (DFA q a) where\n",
    "  show (DFA (qs,as,d,q0,fs)) = show (qs,as,dtbl,q0,fs)\n",
    "      where dtbl = d2tblDFA qs as d\n",
    "\n",
    "-- 문자열은 아니지만 문자열로 변환/역변환 가능한 상태 타입의 DFA를\n",
    "-- 같은 기능을 하는 String 상태 타입의 DFA로 변환\n",
    "-- (q와 문자열 사이의 변환이 1:1이라는 가정한다)\n",
    "toStringDFA :: (Read q, Show q) => DFA q a -> DFA String a\n",
    "toStringDFA (DFA (qs,as,d,q0,fs)) = DFA (qs',as,d',q0',fs')\n",
    "    where\n",
    "    qs' = map show qs\n",
    "    fs' = map show fs\n",
    "    q0' = show q0\n",
    "    d'(r,a) = show $ d(read r,a)\n",
    "\n",
    "-- 전이함수를 순서쌍 데이타로\n",
    "d2tblDFA qs as d = [((q,a), d(q,a)) | q<-qs, a<-as]"
   ]
  },
  {
   "cell_type": "code",
   "execution_count": 2,
   "metadata": {},
   "outputs": [],
   "source": [
    "import Data.Maybe (fromJust)\n",
    "import Data.List (elemIndex, groupBy, intercalate)\n",
    "\n",
    "import IHaskell.Display.Graphviz\n",
    "-- dot \"digraph { l -> o; o -> v; v -> e; h -> a ; a -> s; s -> k ; k -> e ; e -> l ; l -> l}\"\n",
    "\n",
    "dfa2graph :: Show a => DFA String a -> String\n",
    "dfa2graph (DFA (qs,as,d,q0,fs))\n",
    "     = \"digraph { node [shape=circle]; rankdir=LR; \"\n",
    "    ++ \"thestart [shape=none label=\\\"\\\" width=0]; \"\n",
    "    ++ \"thestart -> \"++show(q2i q0)++\"; \"\n",
    "    ++ concat [show i++\" [label=\\\"\"++i2q i++\"\\\"]; \" | i<-is]\n",
    "    ++ concat [show(q2i q)++\" [shape=doublecircle]; \" | q<-fs]\n",
    "    -- ++ concat [show i++\" -> \"++show(d'(i,a))++\" [label=\\\"\"++show a++\"\\\"]; \" | i<-is, a<-as] -- 각각 라벨\n",
    "    ++ concat [ show i++\" -> \"++show j++\" [label=\\\"\"++showls ls++\"\\\"]\" | ((i,j),ls) <-es] -- 같은 시작/끝 점 모아 라벨\n",
    "    ++ \"}\"\n",
    "    where\n",
    "    is = [0 .. length qs-1]\n",
    "    q2i q = fromJust $ elemIndex q qs\n",
    "    i2q i = qs !! i\n",
    "    d'(i,a) = q2i $ d(i2q i,a)\n",
    "    es = map collectSnd $ groupByFst [((i,d'(i,a)), a) | i<-is, a<-as]\n",
    "    showls = intercalate \",\" . map show\n",
    "\n",
    "groupByFst = groupBy (\\(x1,_) (x2,_) -> x1==x2)\n",
    "collectSnd ps = (x, ls)\n",
    "    where (x:_, ls) = unzip ps\n",
    "\n",
    "drawDFA :: Show a => DFA String a -> Graphviz\n",
    "drawDFA = dot . dfa2graph"
   ]
  },
  {
   "cell_type": "code",
   "execution_count": 3,
   "metadata": {},
   "outputs": [],
   "source": [
    "dfaM1 = DFA ([\"q1\",\"q2\",\"q3\"],[0,1],d,\"q1\",[\"q2\"])\n",
    "    where\n",
    "    d(\"q1\",0) = \"q1\"\n",
    "    d(\"q1\",1) = \"q2\"\n",
    "    d(\"q2\",0) = \"q3\"\n",
    "    d(\"q2\",1) = \"q2\"\n",
    "    d(\"q3\",0) = \"q2\"\n",
    "    d(\"q3\",1) = \"q2\""
   ]
  },
  {
   "cell_type": "code",
   "execution_count": 4,
   "metadata": {},
   "outputs": [
    {
     "data": {
      "text/plain": [
       "([\"q1\",\"q2\",\"q3\"],[0,1],[((\"q1\",0),\"q1\"),((\"q1\",1),\"q2\"),((\"q2\",0),\"q3\"),((\"q2\",1),\"q2\"),((\"q3\",0),\"q2\"),((\"q3\",1),\"q2\")],\"q1\",[\"q2\"])"
      ]
     },
     "metadata": {},
     "output_type": "display_data"
    }
   ],
   "source": [
    "dfaM1"
   ]
  },
  {
   "cell_type": "code",
   "execution_count": 5,
   "metadata": {},
   "outputs": [
    {
     "data": {
      "text/plain": [
       "\"digraph { node [shape=circle]; rankdir=LR; thestart [shape=none label=\\\"\\\" width=0]; thestart -> 0; 0 [label=\\\"q1\\\"]; 1 [label=\\\"q2\\\"]; 2 [label=\\\"q3\\\"]; 1 [shape=doublecircle]; 0 -> 0 [label=\\\"0\\\"]0 -> 1 [label=\\\"1\\\"]1 -> 2 [label=\\\"0\\\"]1 -> 1 [label=\\\"1\\\"]2 -> 1 [label=\\\"0,1\\\"]}\""
      ]
     },
     "metadata": {},
     "output_type": "display_data"
    },
    {
     "data": {
      "image/svg+xml": [
       "<?xml version=\"1.0\" encoding=\"UTF-8\" standalone=\"no\"?>\n",
       "<!DOCTYPE svg PUBLIC \"-//W3C//DTD SVG 1.1//EN\"\n",
       " \"http://www.w3.org/Graphics/SVG/1.1/DTD/svg11.dtd\">\n",
       "<!-- Generated by graphviz version 2.40.1 (20161225.0304)\n",
       " -->\n",
       "<!-- Title: %3 Pages: 1 -->\n",
       "<svg width=\"278pt\" height=\"91pt\"\n",
       " viewBox=\"0.00 0.00 277.79 90.60\" xmlns=\"http://www.w3.org/2000/svg\" xmlns:xlink=\"http://www.w3.org/1999/xlink\">\n",
       "<g id=\"graph0\" class=\"graph\" transform=\"scale(1 1) rotate(0) translate(4 86.5963)\">\n",
       "<title>%3</title>\n",
       "<polygon fill=\"#ffffff\" stroke=\"transparent\" points=\"-4,4 -4,-86.5963 273.7889,-86.5963 273.7889,4 -4,4\"/>\n",
       "<!-- thestart -->\n",
       "<g id=\"node1\" class=\"node\">\n",
       "<title>thestart</title>\n",
       "</g>\n",
       "<!-- 0 -->\n",
       "<g id=\"node2\" class=\"node\">\n",
       "<title>0</title>\n",
       "<ellipse fill=\"none\" stroke=\"#000000\" cx=\"58.7982\" cy=\"-24.7982\" rx=\"20.5982\" ry=\"20.5982\"/>\n",
       "<text text-anchor=\"middle\" x=\"58.7982\" y=\"-21.0982\" font-family=\"Times,serif\" font-size=\"14.00\" fill=\"#000000\">q1</text>\n",
       "</g>\n",
       "<!-- thestart&#45;&gt;0 -->\n",
       "<g id=\"edge1\" class=\"edge\">\n",
       "<title>thestart&#45;&gt;0</title>\n",
       "<path fill=\"none\" stroke=\"#000000\" d=\"M1.1547,-24.7982C3.9889,-24.7982 15.602,-24.7982 27.6696,-24.7982\"/>\n",
       "<polygon fill=\"#000000\" stroke=\"#000000\" points=\"27.7306,-28.2983 37.7306,-24.7982 27.7305,-21.2983 27.7306,-28.2983\"/>\n",
       "</g>\n",
       "<!-- 0&#45;&gt;0 -->\n",
       "<g id=\"edge2\" class=\"edge\">\n",
       "<title>0&#45;&gt;0</title>\n",
       "<path fill=\"none\" stroke=\"#000000\" d=\"M51.8836,-44.7606C50.9269,-54.7161 53.2317,-63.5963 58.7982,-63.5963 62.2772,-63.5963 64.4821,-60.1275 65.413,-55.0953\"/>\n",
       "<polygon fill=\"#000000\" stroke=\"#000000\" points=\"68.9213,-54.8579 65.7127,-44.7606 61.9242,-54.6549 68.9213,-54.8579\"/>\n",
       "<text text-anchor=\"middle\" x=\"58.7982\" y=\"-67.3963\" font-family=\"Times,serif\" font-size=\"14.00\" fill=\"#000000\">0</text>\n",
       "</g>\n",
       "<!-- 1 -->\n",
       "<g id=\"node3\" class=\"node\">\n",
       "<title>1</title>\n",
       "<ellipse fill=\"none\" stroke=\"#000000\" cx=\"148.3945\" cy=\"-24.7982\" rx=\"20.6302\" ry=\"20.6302\"/>\n",
       "<ellipse fill=\"none\" stroke=\"#000000\" cx=\"148.3945\" cy=\"-24.7982\" rx=\"24.5979\" ry=\"24.5979\"/>\n",
       "<text text-anchor=\"middle\" x=\"148.3945\" y=\"-21.0982\" font-family=\"Times,serif\" font-size=\"14.00\" fill=\"#000000\">q2</text>\n",
       "</g>\n",
       "<!-- 0&#45;&gt;1 -->\n",
       "<g id=\"edge3\" class=\"edge\">\n",
       "<title>0&#45;&gt;1</title>\n",
       "<path fill=\"none\" stroke=\"#000000\" d=\"M80.0312,-24.7982C90.0153,-24.7982 102.1825,-24.7982 113.4696,-24.7982\"/>\n",
       "<polygon fill=\"#000000\" stroke=\"#000000\" points=\"113.5002,-28.2983 123.5001,-24.7982 113.5001,-21.2983 113.5002,-28.2983\"/>\n",
       "<text text-anchor=\"middle\" x=\"101.5963\" y=\"-28.5982\" font-family=\"Times,serif\" font-size=\"14.00\" fill=\"#000000\">1</text>\n",
       "</g>\n",
       "<!-- 1&#45;&gt;1 -->\n",
       "<g id=\"edge5\" class=\"edge\">\n",
       "<title>1&#45;&gt;1</title>\n",
       "<path fill=\"none\" stroke=\"#000000\" d=\"M139.9042,-48.1303C139.0956,-58.5686 141.9257,-67.5963 148.3945,-67.5963 152.5385,-67.5963 155.1892,-63.8913 156.3467,-58.484\"/>\n",
       "<polygon fill=\"#000000\" stroke=\"#000000\" points=\"159.8609,-58.2984 156.8847,-48.1303 152.8704,-57.9351 159.8609,-58.2984\"/>\n",
       "<text text-anchor=\"middle\" x=\"148.3945\" y=\"-71.3963\" font-family=\"Times,serif\" font-size=\"14.00\" fill=\"#000000\">1</text>\n",
       "</g>\n",
       "<!-- 2 -->\n",
       "<g id=\"node4\" class=\"node\">\n",
       "<title>2</title>\n",
       "<ellipse fill=\"none\" stroke=\"#000000\" cx=\"248.9908\" cy=\"-24.7982\" rx=\"20.5982\" ry=\"20.5982\"/>\n",
       "<text text-anchor=\"middle\" x=\"248.9908\" y=\"-21.0982\" font-family=\"Times,serif\" font-size=\"14.00\" fill=\"#000000\">q3</text>\n",
       "</g>\n",
       "<!-- 1&#45;&gt;2 -->\n",
       "<g id=\"edge4\" class=\"edge\">\n",
       "<title>1&#45;&gt;2</title>\n",
       "<path fill=\"none\" stroke=\"#000000\" d=\"M173.261,-24.7982C186.7066,-24.7982 203.4425,-24.7982 217.7593,-24.7982\"/>\n",
       "<polygon fill=\"#000000\" stroke=\"#000000\" points=\"218.1415,-28.2983 228.1414,-24.7982 218.1414,-21.2983 218.1415,-28.2983\"/>\n",
       "<text text-anchor=\"middle\" x=\"200.6926\" y=\"-28.5982\" font-family=\"Times,serif\" font-size=\"14.00\" fill=\"#000000\">0</text>\n",
       "</g>\n",
       "<!-- 2&#45;&gt;1 -->\n",
       "<g id=\"edge6\" class=\"edge\">\n",
       "<title>2&#45;&gt;1</title>\n",
       "<path fill=\"none\" stroke=\"#000000\" d=\"M231.0792,-13.9155C224.7169,-10.6305 217.353,-7.4573 210.1926,-5.7982 200.0233,-3.4418 189.0869,-5.305 179.2829,-8.6329\"/>\n",
       "<polygon fill=\"#000000\" stroke=\"#000000\" points=\"177.9297,-5.4043 169.9266,-12.3471 180.5124,-11.9104 177.9297,-5.4043\"/>\n",
       "<text text-anchor=\"middle\" x=\"200.6926\" y=\"-9.5982\" font-family=\"Times,serif\" font-size=\"14.00\" fill=\"#000000\">0,1</text>\n",
       "</g>\n",
       "</g>\n",
       "</svg>\n"
      ]
     },
     "metadata": {},
     "output_type": "display_data"
    }
   ],
   "source": [
    "dfa2graph dfaM1\n",
    "drawDFA dfaM1"
   ]
  },
  {
   "cell_type": "markdown",
   "metadata": {},
   "source": [
    "### Examples of finite automata\n"
   ]
  },
  {
   "cell_type": "code",
   "execution_count": 6,
   "metadata": {},
   "outputs": [],
   "source": [
    "-- dfaM2"
   ]
  },
  {
   "cell_type": "code",
   "execution_count": 7,
   "metadata": {},
   "outputs": [],
   "source": [
    "-- dfaM3"
   ]
  },
  {
   "cell_type": "code",
   "execution_count": 8,
   "metadata": {},
   "outputs": [],
   "source": [
    "-- dfaM4"
   ]
  },
  {
   "cell_type": "code",
   "execution_count": 9,
   "metadata": {},
   "outputs": [],
   "source": [
    "-- dfaM5"
   ]
  },
  {
   "cell_type": "markdown",
   "metadata": {},
   "source": [
    "### Formal defintion of computation\n",
    "\n",
    "* Definition 1.6 인식하는 유한오토마타가 존재하는 언어가 정규언어\n",
    "\n",
    "  a regular language if some finite automaton recognizes it\n",
    "\n",
    "* $M$ recognizes language $A$\n",
    "\n",
    "  if $A = \\{w\\mid M ~\\text{accepts}~ w\\}$\n",
    "\n",
    "* $M=(Q,\\Sigma,\\delta,q_0,F)$ accepts $w = a_1a_2a_3\\cdots a_n$ where $a_i\\in\\Sigma$\n",
    "\n",
    "  if $\\delta(\\cdots(\\delta(\\delta(\\delta(q_0,a_1),a_2),a_3),\\cdots,a_n) \\in F$\n",
    "  \n",
    "  도식적으로 나타내면\n",
    "  $q_0 \\stackrel{a_1}{\\longrightarrow} r_1\n",
    "       \\stackrel{a_2}{\\longrightarrow} r_2\n",
    "       \\stackrel{a_3}{\\longrightarrow} \\cdots\n",
    "       \\stackrel{a_n}{\\longrightarrow} r_n$ where $r_n \\in F$"
   ]
  },
  {
   "cell_type": "code",
   "execution_count": 10,
   "metadata": {},
   "outputs": [],
   "source": [
    "(DFA (_,_,d,q0,fs)) `accepts` w = foldl (curry d) q0 w `elem` fs"
   ]
  },
  {
   "cell_type": "code",
   "execution_count": 11,
   "metadata": {},
   "outputs": [
    {
     "data": {
      "text/plain": [
       "False"
      ]
     },
     "metadata": {},
     "output_type": "display_data"
    },
    {
     "data": {
      "text/plain": [
       "False"
      ]
     },
     "metadata": {},
     "output_type": "display_data"
    },
    {
     "data": {
      "text/plain": [
       "True"
      ]
     },
     "metadata": {},
     "output_type": "display_data"
    }
   ],
   "source": [
    "dfaM1 `accepts` []\n",
    "dfaM1 `accepts` [0]\n",
    "dfaM1 `accepts` [1]"
   ]
  },
  {
   "cell_type": "code",
   "execution_count": 12,
   "metadata": {},
   "outputs": [
    {
     "data": {
      "text/plain": [
       "False"
      ]
     },
     "metadata": {},
     "output_type": "display_data"
    },
    {
     "data": {
      "text/plain": [
       "True"
      ]
     },
     "metadata": {},
     "output_type": "display_data"
    },
    {
     "data": {
      "text/plain": [
       "False"
      ]
     },
     "metadata": {},
     "output_type": "display_data"
    },
    {
     "data": {
      "text/plain": [
       "True"
      ]
     },
     "metadata": {},
     "output_type": "display_data"
    }
   ],
   "source": [
    "dfaM1 `accepts` [0,0]\n",
    "dfaM1 `accepts` [0,1]\n",
    "dfaM1 `accepts` [1,0]\n",
    "dfaM1 `accepts` [1,1]"
   ]
  },
  {
   "cell_type": "code",
   "execution_count": 13,
   "metadata": {},
   "outputs": [
    {
     "data": {
      "text/plain": [
       "True"
      ]
     },
     "metadata": {},
     "output_type": "display_data"
    },
    {
     "data": {
      "text/plain": [
       "True"
      ]
     },
     "metadata": {},
     "output_type": "display_data"
    },
    {
     "data": {
      "text/plain": [
       "False"
      ]
     },
     "metadata": {},
     "output_type": "display_data"
    },
    {
     "data": {
      "text/plain": [
       "True"
      ]
     },
     "metadata": {},
     "output_type": "display_data"
    }
   ],
   "source": [
    "dfaM1 `accepts` [1,0,0]\n",
    "dfaM1 `accepts` [1,0,1]\n",
    "dfaM1 `accepts` [1,1,0]\n",
    "dfaM1 `accepts` [1,1,1]"
   ]
  },
  {
   "cell_type": "markdown",
   "metadata": {},
   "source": [
    "### Designing finite automata\n",
    "\n",
    "교재 정독"
   ]
  },
  {
   "cell_type": "markdown",
   "metadata": {},
   "source": [
    "### The regular operations\n",
    "\n",
    "* Definition 1.23 두 언어 A와 B에 대한 정규연산 세 가지\n",
    "\n",
    "    * union $A\\cup B$\n",
    "    * concatentation $A\\cdot B$\n",
    "    * star $A^*$\n",
    "\n",
    "\n",
    "* Theorem 1.25\n",
    "\n",
    "  The class of regular languages is closed under the union operation\n",
    "\n",
    "  즉, $A$와 $B$가 정규언어이면 $A\\cup B$도 정규언어\n"
   ]
  },
  {
   "cell_type": "markdown",
   "metadata": {},
   "source": [
    "----\n",
    "## 1.2 Nondeterminism\n",
    "\n",
    "### Formal defintion of a nondeterministic finite automata\n",
    "\n",
    "### Equivalenceof NFAs and DFAs\n",
    "\n",
    "### Closure under the regular operations"
   ]
  },
  {
   "cell_type": "markdown",
   "metadata": {},
   "source": [
    "----\n",
    "## 1.3 Regular Expression\n",
    "\n",
    "### Formal definition of a regular expression\n",
    "\n",
    "### Equivalence with finite automata"
   ]
  },
  {
   "cell_type": "markdown",
   "metadata": {},
   "source": [
    "----\n",
    "## 1.4 Nonregular Languages\n",
    "\n",
    "### The pumping lemma for regular languages"
   ]
  },
  {
   "cell_type": "code",
   "execution_count": null,
   "metadata": {},
   "outputs": [],
   "source": []
  }
 ],
 "metadata": {
  "kernelspec": {
   "display_name": "Haskell",
   "language": "haskell",
   "name": "haskell"
  },
  "language_info": {
   "codemirror_mode": "ihaskell",
   "file_extension": ".hs",
   "name": "haskell",
   "pygments_lexer": "Haskell",
   "version": "8.6.5"
  }
 },
 "nbformat": 4,
 "nbformat_minor": 4
}
