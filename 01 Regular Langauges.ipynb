{
 "cells": [
  {
   "cell_type": "markdown",
   "metadata": {},
   "source": [
    "# 1 Regular Languages"
   ]
  },
  {
   "cell_type": "markdown",
   "metadata": {},
   "source": [
    "----\n",
    "## 1.1 Finite Automata\n",
    "\n",
    "단수 automaton 복수 automata\n",
    "\n",
    "유한오토마타(finite automata, FA)를 유한상태기계(finite state machine, FSM)이라고도 함\n",
    "\n",
    "### Formal definition of a finite automaton\n",
    "\n",
    "### Examples of finite automata\n",
    "\n",
    "### Designing finite automata\n",
    "\n",
    "### The regular operations"
   ]
  },
  {
   "cell_type": "markdown",
   "metadata": {},
   "source": [
    "----\n",
    "## 1.2 Nondeterminism\n",
    "\n",
    "### Formal defintion of a nondeterministic finite automata\n",
    "\n",
    "### Equivalenceof NFAs and DFAs\n",
    "\n",
    "### Closure under the regular operations"
   ]
  },
  {
   "cell_type": "markdown",
   "metadata": {},
   "source": [
    "----\n",
    "## 1.3 Regular Expression\n",
    "\n",
    "### Formal definition of a regular expression\n",
    "\n",
    "### Equivalence with finite automata"
   ]
  },
  {
   "cell_type": "markdown",
   "metadata": {},
   "source": [
    "----\n",
    "## 1.4 Nonregular Languages\n",
    "\n",
    "### The pumping lemma for regular languages"
   ]
  },
  {
   "cell_type": "code",
   "execution_count": null,
   "metadata": {},
   "outputs": [],
   "source": []
  }
 ],
 "metadata": {
  "kernelspec": {
   "display_name": "Haskell",
   "language": "haskell",
   "name": "haskell"
  },
  "language_info": {
   "codemirror_mode": "ihaskell",
   "file_extension": ".hs",
   "name": "haskell",
   "pygments_lexer": "Haskell",
   "version": "8.6.5"
  }
 },
 "nbformat": 4,
 "nbformat_minor": 4
}
