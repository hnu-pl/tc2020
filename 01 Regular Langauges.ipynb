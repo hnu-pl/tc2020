{
 "cells": [
  {
   "cell_type": "markdown",
   "metadata": {},
   "source": [
    "# 1 Regular Languages"
   ]
  },
  {
   "cell_type": "markdown",
   "metadata": {},
   "source": [
    "----\n",
    "## 1.1 Finite Automata\n",
    "\n",
    "단수 automaton 복수 automata\n",
    "\n",
    "유한오토마타(finite automata, FA)를 유한상태기계(finite state machine, FSM)이라고도 함\n"
   ]
  },
  {
   "cell_type": "markdown",
   "metadata": {},
   "source": [
    "### Formal definition of a finite automaton\n",
    "\n",
    "* Definition 1.5\n",
    "\n",
    "  결정적 유한오토마타란 $(Q,\\Sigma,\\delta,q_0,F)$의 5-튜플이며, 이 때\n",
    "    1. $Q$ 상태(state)의 유한집합\n",
    "    1. $\\Sigma$ 알파벳 - 심볼(symbol)의 유한집합\n",
    "    1. $\\delta : Q\\times\\Sigma \\to Q$ 전이함수(transition funciton)\n",
    "    1. $q_0 \\in Q$ 시작 상태(start state)\n",
    "    1. $F \\subseteq Q$ 종료상태(final state)의 집합\n",
    "  \n",
    "  종료상태 혹은 끝나는 상태를 받아들여지는 상태(accept state)라고도 한다.\n",
    "\n",
    "우선 결정적 유한오토마타(deterministic finite automata, DFA)부터 살펴보자."
   ]
  },
  {
   "cell_type": "code",
   "execution_count": 1,
   "metadata": {},
   "outputs": [],
   "source": [
    "newtype DFA q a = DFA ([q], [a], (q,a) -> q, q, [q])\n",
    "{-\n",
    "   q 상태의 타입\n",
    "   a 심볼의 타입\n",
    "   [q] 상태가 여러 개 나열된 타입 (집합 대신 그냥 리스트로 표현)\n",
    "   [a] 심볼이 여러 개 나열된 타입 (집합 대신 그냥 리스트로 표현)\n",
    "-}\n",
    "\n",
    "instance (Show q, Show a) => Show (DFA q a) where\n",
    "  show (DFA (qs,as,d,q0,fs)) = show (qs,as,dtbl,q0,fs)\n",
    "      where dtbl = d2tblDFA qs as d\n",
    "\n",
    "-- 문자열은 아니지만 문자열로 변환/역변환 가능한 상태 타입의 DFA를\n",
    "-- 같은 기능을 하는 String 상태 타입의 DFA로 변환\n",
    "-- (q와 문자열 사이의 변환이 1:1이라는 가정한다)\n",
    "toStringDFA :: (Read q, Show q) => DFA q a -> DFA String a\n",
    "toStringDFA (DFA (qs,as,d,q0,fs)) = DFA (qs',as,d',q0',fs')\n",
    "    where\n",
    "    qs' = map show qs\n",
    "    fs' = map show fs\n",
    "    q0' = show q0\n",
    "    d'(r,a) = show $ d(read r,a)\n",
    "\n",
    "-- 전이함수를 순서쌍 데이타로\n",
    "d2tblDFA qs as d = [((q,a), d(q,a)) | q<-qs, a<-as]"
   ]
  },
  {
   "cell_type": "code",
   "execution_count": 2,
   "metadata": {},
   "outputs": [],
   "source": [
    "import Data.Maybe (fromJust)\n",
    "import Data.List (elemIndex, groupBy, intercalate)\n",
    "\n",
    "import IHaskell.Display.Graphviz\n",
    "-- dot \"digraph { l -> o; o -> v; v -> e; h -> a ; a -> s; s -> k ; k -> e ; e -> l ; l -> l}\"\n",
    "\n",
    "dfa2graph :: (Eq q, Show q, Show a) => DFA q a -> String\n",
    "dfa2graph (DFA (qs,as,d,q0,fs))\n",
    "     = \"digraph { node [shape=circle]; rankdir=LR; \"\n",
    "    ++ \"thestart [shape=none label=\\\"\\\" width=0]; \"\n",
    "    ++ \"thestart -> \"++show(q2i q0)++\"; \"\n",
    "    ++ concat [show i++\" [label=\\\"\"++(filter (/='\"') . show $ i2q i)++\"\\\"]; \" | i<-is]\n",
    "    ++ concat [show(q2i q)++\" [shape=doublecircle]; \" | q<-fs]\n",
    "    -- ++ concat [show i++\" -> \"++show(d'(i,a))++\" [label=\\\"\"++show a++\"\\\"]; \" | i<-is, a<-as] -- 각각 라벨\n",
    "    ++ concat [ show i++\" -> \"++show j++\" [label=\\\"\"++showls ls++\"\\\"]; \" | ((i,j),ls) <-es] -- 같은 시작/끝 점 모아 라벨\n",
    "    ++ \"}\"\n",
    "    where\n",
    "    is = [0 .. length qs-1]\n",
    "    q2i q = fromJust $ elemIndex q qs\n",
    "    i2q i = qs !! i\n",
    "    d'(i,a) = q2i $ d(i2q i,a)\n",
    "    es = map collectSnd $ groupByFst [((i,d'(i,a)), a) | i<-is, a<-as]\n",
    "    showls = intercalate \",\" . map show\n",
    "\n",
    "groupByFst = groupBy (\\(x1,_) (x2,_) -> x1==x2)\n",
    "collectSnd ps = (x, ls)\n",
    "    where (x:_, ls) = unzip ps\n",
    "\n",
    "drawDFA :: (Eq q, Show q, Show a) => DFA q a -> Graphviz\n",
    "drawDFA = dot . dfa2graph"
   ]
  },
  {
   "cell_type": "code",
   "execution_count": 3,
   "metadata": {},
   "outputs": [],
   "source": [
    "dfaM1 = DFA ([\"q1\",\"q2\",\"q3\"],[0,1],d,\"q1\",[\"q2\"])\n",
    "    where\n",
    "    d(\"q1\",0) = \"q1\"; d(\"q1\",1) = \"q2\"\n",
    "    d(\"q2\",0) = \"q3\"; d(\"q2\",1) = \"q2\"\n",
    "    d(\"q3\",0) = \"q2\"; d(\"q3\",1) = \"q2\""
   ]
  },
  {
   "cell_type": "code",
   "execution_count": 4,
   "metadata": {},
   "outputs": [
    {
     "data": {
      "text/plain": [
       "([\"q1\",\"q2\",\"q3\"],[0,1],[((\"q1\",0),\"q1\"),((\"q1\",1),\"q2\"),((\"q2\",0),\"q3\"),((\"q2\",1),\"q2\"),((\"q3\",0),\"q2\"),((\"q3\",1),\"q2\")],\"q1\",[\"q2\"])"
      ]
     },
     "metadata": {},
     "output_type": "display_data"
    }
   ],
   "source": [
    "dfaM1"
   ]
  },
  {
   "cell_type": "code",
   "execution_count": 5,
   "metadata": {},
   "outputs": [
    {
     "data": {
      "text/plain": [
       "\"digraph { node [shape=circle]; rankdir=LR; thestart [shape=none label=\\\"\\\" width=0]; thestart -> 0; 0 [label=\\\"q1\\\"]; 1 [label=\\\"q2\\\"]; 2 [label=\\\"q3\\\"]; 1 [shape=doublecircle]; 0 -> 0 [label=\\\"0\\\"]; 0 -> 1 [label=\\\"1\\\"]; 1 -> 2 [label=\\\"0\\\"]; 1 -> 1 [label=\\\"1\\\"]; 2 -> 1 [label=\\\"0,1\\\"]; }\""
      ]
     },
     "metadata": {},
     "output_type": "display_data"
    },
    {
     "data": {
      "image/svg+xml": [
       "<?xml version=\"1.0\" encoding=\"UTF-8\" standalone=\"no\"?>\n",
       "<!DOCTYPE svg PUBLIC \"-//W3C//DTD SVG 1.1//EN\"\n",
       " \"http://www.w3.org/Graphics/SVG/1.1/DTD/svg11.dtd\">\n",
       "<!-- Generated by graphviz version 2.40.1 (20161225.0304)\n",
       " -->\n",
       "<!-- Title: %3 Pages: 1 -->\n",
       "<svg width=\"278pt\" height=\"91pt\"\n",
       " viewBox=\"0.00 0.00 277.79 90.60\" xmlns=\"http://www.w3.org/2000/svg\" xmlns:xlink=\"http://www.w3.org/1999/xlink\">\n",
       "<g id=\"graph0\" class=\"graph\" transform=\"scale(1 1) rotate(0) translate(4 86.5963)\">\n",
       "<title>%3</title>\n",
       "<polygon fill=\"#ffffff\" stroke=\"transparent\" points=\"-4,4 -4,-86.5963 273.7889,-86.5963 273.7889,4 -4,4\"/>\n",
       "<!-- thestart -->\n",
       "<g id=\"node1\" class=\"node\">\n",
       "<title>thestart</title>\n",
       "</g>\n",
       "<!-- 0 -->\n",
       "<g id=\"node2\" class=\"node\">\n",
       "<title>0</title>\n",
       "<ellipse fill=\"none\" stroke=\"#000000\" cx=\"58.7982\" cy=\"-24.7982\" rx=\"20.5982\" ry=\"20.5982\"/>\n",
       "<text text-anchor=\"middle\" x=\"58.7982\" y=\"-21.0982\" font-family=\"Times,serif\" font-size=\"14.00\" fill=\"#000000\">q1</text>\n",
       "</g>\n",
       "<!-- thestart&#45;&gt;0 -->\n",
       "<g id=\"edge1\" class=\"edge\">\n",
       "<title>thestart&#45;&gt;0</title>\n",
       "<path fill=\"none\" stroke=\"#000000\" d=\"M1.1547,-24.7982C3.9889,-24.7982 15.602,-24.7982 27.6696,-24.7982\"/>\n",
       "<polygon fill=\"#000000\" stroke=\"#000000\" points=\"27.7306,-28.2983 37.7306,-24.7982 27.7305,-21.2983 27.7306,-28.2983\"/>\n",
       "</g>\n",
       "<!-- 0&#45;&gt;0 -->\n",
       "<g id=\"edge2\" class=\"edge\">\n",
       "<title>0&#45;&gt;0</title>\n",
       "<path fill=\"none\" stroke=\"#000000\" d=\"M51.8836,-44.7606C50.9269,-54.7161 53.2317,-63.5963 58.7982,-63.5963 62.2772,-63.5963 64.4821,-60.1275 65.413,-55.0953\"/>\n",
       "<polygon fill=\"#000000\" stroke=\"#000000\" points=\"68.9213,-54.8579 65.7127,-44.7606 61.9242,-54.6549 68.9213,-54.8579\"/>\n",
       "<text text-anchor=\"middle\" x=\"58.7982\" y=\"-67.3963\" font-family=\"Times,serif\" font-size=\"14.00\" fill=\"#000000\">0</text>\n",
       "</g>\n",
       "<!-- 1 -->\n",
       "<g id=\"node3\" class=\"node\">\n",
       "<title>1</title>\n",
       "<ellipse fill=\"none\" stroke=\"#000000\" cx=\"148.3945\" cy=\"-24.7982\" rx=\"20.6302\" ry=\"20.6302\"/>\n",
       "<ellipse fill=\"none\" stroke=\"#000000\" cx=\"148.3945\" cy=\"-24.7982\" rx=\"24.5979\" ry=\"24.5979\"/>\n",
       "<text text-anchor=\"middle\" x=\"148.3945\" y=\"-21.0982\" font-family=\"Times,serif\" font-size=\"14.00\" fill=\"#000000\">q2</text>\n",
       "</g>\n",
       "<!-- 0&#45;&gt;1 -->\n",
       "<g id=\"edge3\" class=\"edge\">\n",
       "<title>0&#45;&gt;1</title>\n",
       "<path fill=\"none\" stroke=\"#000000\" d=\"M80.0312,-24.7982C90.0153,-24.7982 102.1825,-24.7982 113.4696,-24.7982\"/>\n",
       "<polygon fill=\"#000000\" stroke=\"#000000\" points=\"113.5002,-28.2983 123.5001,-24.7982 113.5001,-21.2983 113.5002,-28.2983\"/>\n",
       "<text text-anchor=\"middle\" x=\"101.5963\" y=\"-28.5982\" font-family=\"Times,serif\" font-size=\"14.00\" fill=\"#000000\">1</text>\n",
       "</g>\n",
       "<!-- 1&#45;&gt;1 -->\n",
       "<g id=\"edge5\" class=\"edge\">\n",
       "<title>1&#45;&gt;1</title>\n",
       "<path fill=\"none\" stroke=\"#000000\" d=\"M139.9042,-48.1303C139.0956,-58.5686 141.9257,-67.5963 148.3945,-67.5963 152.5385,-67.5963 155.1892,-63.8913 156.3467,-58.484\"/>\n",
       "<polygon fill=\"#000000\" stroke=\"#000000\" points=\"159.8609,-58.2984 156.8847,-48.1303 152.8704,-57.9351 159.8609,-58.2984\"/>\n",
       "<text text-anchor=\"middle\" x=\"148.3945\" y=\"-71.3963\" font-family=\"Times,serif\" font-size=\"14.00\" fill=\"#000000\">1</text>\n",
       "</g>\n",
       "<!-- 2 -->\n",
       "<g id=\"node4\" class=\"node\">\n",
       "<title>2</title>\n",
       "<ellipse fill=\"none\" stroke=\"#000000\" cx=\"248.9908\" cy=\"-24.7982\" rx=\"20.5982\" ry=\"20.5982\"/>\n",
       "<text text-anchor=\"middle\" x=\"248.9908\" y=\"-21.0982\" font-family=\"Times,serif\" font-size=\"14.00\" fill=\"#000000\">q3</text>\n",
       "</g>\n",
       "<!-- 1&#45;&gt;2 -->\n",
       "<g id=\"edge4\" class=\"edge\">\n",
       "<title>1&#45;&gt;2</title>\n",
       "<path fill=\"none\" stroke=\"#000000\" d=\"M173.261,-24.7982C186.7066,-24.7982 203.4425,-24.7982 217.7593,-24.7982\"/>\n",
       "<polygon fill=\"#000000\" stroke=\"#000000\" points=\"218.1415,-28.2983 228.1414,-24.7982 218.1414,-21.2983 218.1415,-28.2983\"/>\n",
       "<text text-anchor=\"middle\" x=\"200.6926\" y=\"-28.5982\" font-family=\"Times,serif\" font-size=\"14.00\" fill=\"#000000\">0</text>\n",
       "</g>\n",
       "<!-- 2&#45;&gt;1 -->\n",
       "<g id=\"edge6\" class=\"edge\">\n",
       "<title>2&#45;&gt;1</title>\n",
       "<path fill=\"none\" stroke=\"#000000\" d=\"M231.0792,-13.9155C224.7169,-10.6305 217.353,-7.4573 210.1926,-5.7982 200.0233,-3.4418 189.0869,-5.305 179.2829,-8.6329\"/>\n",
       "<polygon fill=\"#000000\" stroke=\"#000000\" points=\"177.9297,-5.4043 169.9266,-12.3471 180.5124,-11.9104 177.9297,-5.4043\"/>\n",
       "<text text-anchor=\"middle\" x=\"200.6926\" y=\"-9.5982\" font-family=\"Times,serif\" font-size=\"14.00\" fill=\"#000000\">0,1</text>\n",
       "</g>\n",
       "</g>\n",
       "</svg>\n"
      ]
     },
     "metadata": {},
     "output_type": "display_data"
    }
   ],
   "source": [
    "dfa2graph dfaM1\n",
    "drawDFA dfaM1"
   ]
  },
  {
   "cell_type": "markdown",
   "metadata": {},
   "source": [
    "### Examples of finite automata\n"
   ]
  },
  {
   "cell_type": "code",
   "execution_count": 6,
   "metadata": {},
   "outputs": [],
   "source": [
    "-- dfaM2"
   ]
  },
  {
   "cell_type": "code",
   "execution_count": 7,
   "metadata": {},
   "outputs": [],
   "source": [
    "-- dfaM3"
   ]
  },
  {
   "cell_type": "code",
   "execution_count": 8,
   "metadata": {},
   "outputs": [],
   "source": [
    "-- dfaM4"
   ]
  },
  {
   "cell_type": "code",
   "execution_count": 9,
   "metadata": {},
   "outputs": [],
   "source": [
    "-- dfaM5"
   ]
  },
  {
   "cell_type": "markdown",
   "metadata": {},
   "source": [
    "### Formal defintion of computation\n",
    "\n",
    "* Definition 1.6 인식하는 유한오토마타가 존재하는 언어가 정규언어\n",
    "\n",
    "  a regular language if some finite automaton recognizes it\n",
    "\n",
    "* $M$ recognizes language $A$\n",
    "\n",
    "  if $A = \\{w\\mid M ~\\text{accepts}~ w\\}$\n",
    "\n",
    "* $M=(Q,\\Sigma,\\delta,q_0,F)$ accepts $w = a_1a_2a_3\\cdots a_n$ where $a_i\\in\\Sigma$\n",
    "\n",
    "  if $\\delta(\\cdots(\\delta(\\delta(\\delta(q_0,a_1),a_2),a_3),\\cdots,a_n) \\in F$\n",
    "  \n",
    "  도식적으로 나타내면\n",
    "  $q_0 \\stackrel{a_1}{\\longrightarrow} r_1\n",
    "       \\stackrel{a_2}{\\longrightarrow} r_2\n",
    "       \\stackrel{a_3}{\\longrightarrow} \\cdots\n",
    "       \\stackrel{a_n}{\\longrightarrow} r_n$ where $r_n \\in F$"
   ]
  },
  {
   "cell_type": "code",
   "execution_count": 10,
   "metadata": {},
   "outputs": [],
   "source": [
    "(DFA (_,_,d,q0,fs)) `accepts` w = foldl (curry d) q0 w `elem` fs"
   ]
  },
  {
   "cell_type": "code",
   "execution_count": 11,
   "metadata": {},
   "outputs": [
    {
     "data": {
      "text/plain": [
       "False"
      ]
     },
     "metadata": {},
     "output_type": "display_data"
    },
    {
     "data": {
      "text/plain": [
       "False"
      ]
     },
     "metadata": {},
     "output_type": "display_data"
    },
    {
     "data": {
      "text/plain": [
       "True"
      ]
     },
     "metadata": {},
     "output_type": "display_data"
    }
   ],
   "source": [
    "dfaM1 `accepts` []\n",
    "dfaM1 `accepts` [0]\n",
    "dfaM1 `accepts` [1]"
   ]
  },
  {
   "cell_type": "code",
   "execution_count": 12,
   "metadata": {},
   "outputs": [
    {
     "data": {
      "text/plain": [
       "False"
      ]
     },
     "metadata": {},
     "output_type": "display_data"
    },
    {
     "data": {
      "text/plain": [
       "True"
      ]
     },
     "metadata": {},
     "output_type": "display_data"
    },
    {
     "data": {
      "text/plain": [
       "False"
      ]
     },
     "metadata": {},
     "output_type": "display_data"
    },
    {
     "data": {
      "text/plain": [
       "True"
      ]
     },
     "metadata": {},
     "output_type": "display_data"
    }
   ],
   "source": [
    "dfaM1 `accepts` [0,0]\n",
    "dfaM1 `accepts` [0,1]\n",
    "dfaM1 `accepts` [1,0]\n",
    "dfaM1 `accepts` [1,1]"
   ]
  },
  {
   "cell_type": "code",
   "execution_count": 13,
   "metadata": {},
   "outputs": [
    {
     "data": {
      "text/plain": [
       "True"
      ]
     },
     "metadata": {},
     "output_type": "display_data"
    },
    {
     "data": {
      "text/plain": [
       "True"
      ]
     },
     "metadata": {},
     "output_type": "display_data"
    },
    {
     "data": {
      "text/plain": [
       "False"
      ]
     },
     "metadata": {},
     "output_type": "display_data"
    },
    {
     "data": {
      "text/plain": [
       "True"
      ]
     },
     "metadata": {},
     "output_type": "display_data"
    }
   ],
   "source": [
    "dfaM1 `accepts` [1,0,0]\n",
    "dfaM1 `accepts` [1,0,1]\n",
    "dfaM1 `accepts` [1,1,0]\n",
    "dfaM1 `accepts` [1,1,1]"
   ]
  },
  {
   "cell_type": "markdown",
   "metadata": {},
   "source": [
    "### Designing finite automata\n",
    "\n",
    "교재 정독"
   ]
  },
  {
   "cell_type": "markdown",
   "metadata": {},
   "source": [
    "### The regular operations\n",
    "\n",
    "* Definition 1.23 두 언어 A와 B에 대한 정규연산 세 가지\n",
    "\n",
    "    * union $A\\cup B$\n",
    "    * concatentation $A\\cdot B$\n",
    "    * star $A^*$\n",
    "\n",
    "\n",
    "* Theorem 1.25\n",
    "\n",
    "  The class of regular languages is closed under the union operation\n",
    "\n",
    "  즉, $A_1$와 $A_2$가 정규언어이면 $A_1\\cup A_2$도 정규언어\n",
    "  \n",
    "  증명은 $A_1$을 인식하는 유한오토마타 $M_1$과 $A_2$를 인식하는 유한오토마타 $M_2$로부터\n",
    "  $A_1\\cup A_2$를 인식하는 유한오토마타를 만들어 낼 수 있음을 보이면 된다. (proof by construction)"
   ]
  },
  {
   "cell_type": "code",
   "execution_count": 14,
   "metadata": {},
   "outputs": [],
   "source": [
    "unionDFA :: (Eq q1, Eq q2, Eq a) => DFA q1 a -> DFA q2 a -> DFA (q1,q2) a\n",
    "unionDFA (DFA (qs1,as1,d1,q01,fs1)) (DFA (qs2,as2,d2,q02,fs2))\n",
    "    | as1 == as2 = DFA (qs,as,d,q0,fs)\n",
    "    | otherwise  = error \"not the same alphabet\"\n",
    "    where\n",
    "    qs = [(q1,q2) | q1<-qs1, q2<-qs2] -- cartesian product\n",
    "    as = as1\n",
    "    q0 = (q01,q02)\n",
    "    fs = [(q1,q2) | (q1,q2) <- qs, q1 `elem` fs1 || q2 `elem` fs2]\n",
    "    d((q1,q2),a) = (d1(q1,a), d2(q2,a))"
   ]
  },
  {
   "cell_type": "code",
   "execution_count": 15,
   "metadata": {},
   "outputs": [
    {
     "data": {
      "text/plain": [
       "([\"p0\",\"p1\",\"p2\"],[0,1],[((\"p0\",0),\"p0\"),((\"p0\",1),\"p1\"),((\"p1\",0),\"p1\"),((\"p1\",1),\"p2\"),((\"p2\",0),\"p2\"),((\"p2\",1),\"p0\")],\"p0\",[\"p1\"])"
      ]
     },
     "metadata": {},
     "output_type": "display_data"
    },
    {
     "data": {
      "image/svg+xml": [
       "<?xml version=\"1.0\" encoding=\"UTF-8\" standalone=\"no\"?>\n",
       "<!DOCTYPE svg PUBLIC \"-//W3C//DTD SVG 1.1//EN\"\n",
       " \"http://www.w3.org/Graphics/SVG/1.1/DTD/svg11.dtd\">\n",
       "<!-- Generated by graphviz version 2.40.1 (20161225.0304)\n",
       " -->\n",
       "<!-- Title: %3 Pages: 1 -->\n",
       "<svg width=\"267pt\" height=\"129pt\"\n",
       " viewBox=\"0.00 0.00 266.79 128.60\" xmlns=\"http://www.w3.org/2000/svg\" xmlns:xlink=\"http://www.w3.org/1999/xlink\">\n",
       "<g id=\"graph0\" class=\"graph\" transform=\"scale(1 1) rotate(0) translate(4 124.5963)\">\n",
       "<title>%3</title>\n",
       "<polygon fill=\"#ffffff\" stroke=\"transparent\" points=\"-4,4 -4,-124.5963 262.7889,-124.5963 262.7889,4 -4,4\"/>\n",
       "<!-- thestart -->\n",
       "<g id=\"node1\" class=\"node\">\n",
       "<title>thestart</title>\n",
       "</g>\n",
       "<!-- 0 -->\n",
       "<g id=\"node2\" class=\"node\">\n",
       "<title>0</title>\n",
       "<ellipse fill=\"none\" stroke=\"#000000\" cx=\"58.7982\" cy=\"-20.7982\" rx=\"20.5982\" ry=\"20.5982\"/>\n",
       "<text text-anchor=\"middle\" x=\"58.7982\" y=\"-17.0982\" font-family=\"Times,serif\" font-size=\"14.00\" fill=\"#000000\">p0</text>\n",
       "</g>\n",
       "<!-- thestart&#45;&gt;0 -->\n",
       "<g id=\"edge1\" class=\"edge\">\n",
       "<title>thestart&#45;&gt;0</title>\n",
       "<path fill=\"none\" stroke=\"#000000\" d=\"M1.1547,-20.7982C3.9889,-20.7982 15.602,-20.7982 27.6696,-20.7982\"/>\n",
       "<polygon fill=\"#000000\" stroke=\"#000000\" points=\"27.7306,-24.2983 37.7306,-20.7982 27.7305,-17.2983 27.7306,-24.2983\"/>\n",
       "</g>\n",
       "<!-- 0&#45;&gt;0 -->\n",
       "<g id=\"edge2\" class=\"edge\">\n",
       "<title>0&#45;&gt;0</title>\n",
       "<path fill=\"none\" stroke=\"#000000\" d=\"M51.8836,-40.7606C50.9269,-50.7161 53.2317,-59.5963 58.7982,-59.5963 62.2772,-59.5963 64.4821,-56.1275 65.413,-51.0953\"/>\n",
       "<polygon fill=\"#000000\" stroke=\"#000000\" points=\"68.9213,-50.8579 65.7127,-40.7606 61.9242,-50.6549 68.9213,-50.8579\"/>\n",
       "<text text-anchor=\"middle\" x=\"58.7982\" y=\"-63.3963\" font-family=\"Times,serif\" font-size=\"14.00\" fill=\"#000000\">0</text>\n",
       "</g>\n",
       "<!-- 1 -->\n",
       "<g id=\"node3\" class=\"node\">\n",
       "<title>1</title>\n",
       "<ellipse fill=\"none\" stroke=\"#000000\" cx=\"148.3945\" cy=\"-62.7982\" rx=\"20.6302\" ry=\"20.6302\"/>\n",
       "<ellipse fill=\"none\" stroke=\"#000000\" cx=\"148.3945\" cy=\"-62.7982\" rx=\"24.5979\" ry=\"24.5979\"/>\n",
       "<text text-anchor=\"middle\" x=\"148.3945\" y=\"-59.0982\" font-family=\"Times,serif\" font-size=\"14.00\" fill=\"#000000\">p1</text>\n",
       "</g>\n",
       "<!-- 0&#45;&gt;1 -->\n",
       "<g id=\"edge3\" class=\"edge\">\n",
       "<title>0&#45;&gt;1</title>\n",
       "<path fill=\"none\" stroke=\"#000000\" d=\"M77.7992,-29.7053C89.125,-35.0144 103.7878,-41.8879 116.8132,-47.9938\"/>\n",
       "<polygon fill=\"#000000\" stroke=\"#000000\" points=\"115.3972,-51.1955 125.9373,-52.2709 118.3683,-44.8573 115.3972,-51.1955\"/>\n",
       "<text text-anchor=\"middle\" x=\"101.5963\" y=\"-45.5982\" font-family=\"Times,serif\" font-size=\"14.00\" fill=\"#000000\">1</text>\n",
       "</g>\n",
       "<!-- 1&#45;&gt;1 -->\n",
       "<g id=\"edge4\" class=\"edge\">\n",
       "<title>1&#45;&gt;1</title>\n",
       "<path fill=\"none\" stroke=\"#000000\" d=\"M139.9042,-86.1303C139.0956,-96.5686 141.9257,-105.5963 148.3945,-105.5963 152.5385,-105.5963 155.1892,-101.8913 156.3467,-96.484\"/>\n",
       "<polygon fill=\"#000000\" stroke=\"#000000\" points=\"159.8609,-96.2984 156.8847,-86.1303 152.8704,-95.9351 159.8609,-96.2984\"/>\n",
       "<text text-anchor=\"middle\" x=\"148.3945\" y=\"-109.3963\" font-family=\"Times,serif\" font-size=\"14.00\" fill=\"#000000\">0</text>\n",
       "</g>\n",
       "<!-- 2 -->\n",
       "<g id=\"node4\" class=\"node\">\n",
       "<title>2</title>\n",
       "<ellipse fill=\"none\" stroke=\"#000000\" cx=\"237.9908\" cy=\"-20.7982\" rx=\"20.5982\" ry=\"20.5982\"/>\n",
       "<text text-anchor=\"middle\" x=\"237.9908\" y=\"-17.0982\" font-family=\"Times,serif\" font-size=\"14.00\" fill=\"#000000\">p2</text>\n",
       "</g>\n",
       "<!-- 1&#45;&gt;2 -->\n",
       "<g id=\"edge5\" class=\"edge\">\n",
       "<title>1&#45;&gt;2</title>\n",
       "<path fill=\"none\" stroke=\"#000000\" d=\"M171.0034,-52.1998C182.8181,-46.6614 197.3875,-39.8317 209.9183,-33.9577\"/>\n",
       "<polygon fill=\"#000000\" stroke=\"#000000\" points=\"211.455,-37.1029 219.0239,-29.6892 208.4838,-30.7647 211.455,-37.1029\"/>\n",
       "<text text-anchor=\"middle\" x=\"195.1926\" y=\"-45.5982\" font-family=\"Times,serif\" font-size=\"14.00\" fill=\"#000000\">1</text>\n",
       "</g>\n",
       "<!-- 2&#45;&gt;0 -->\n",
       "<g id=\"edge7\" class=\"edge\">\n",
       "<title>2&#45;&gt;0</title>\n",
       "<path fill=\"none\" stroke=\"#000000\" d=\"M217.3173,-17.9914C204.6149,-16.4096 187.994,-14.5953 173.1926,-13.7982 151.1817,-12.6127 145.6072,-12.6127 123.5963,-13.7982 112.4953,-14.396 100.3708,-15.566 89.6435,-16.781\"/>\n",
       "<polygon fill=\"#000000\" stroke=\"#000000\" points=\"88.988,-13.3342 79.4716,-17.9914 89.8152,-20.2852 88.988,-13.3342\"/>\n",
       "<text text-anchor=\"middle\" x=\"148.3945\" y=\"-17.5982\" font-family=\"Times,serif\" font-size=\"14.00\" fill=\"#000000\">1</text>\n",
       "</g>\n",
       "<!-- 2&#45;&gt;2 -->\n",
       "<g id=\"edge6\" class=\"edge\">\n",
       "<title>2&#45;&gt;2</title>\n",
       "<path fill=\"none\" stroke=\"#000000\" d=\"M230.3926,-40.3618C229.2237,-50.4777 231.7564,-59.5963 237.9908,-59.5963 241.9847,-59.5963 244.4594,-55.854 245.415,-50.5047\"/>\n",
       "<polygon fill=\"#000000\" stroke=\"#000000\" points=\"248.9168,-50.4204 245.5889,-40.3618 241.9179,-50.3003 248.9168,-50.4204\"/>\n",
       "<text text-anchor=\"middle\" x=\"237.9908\" y=\"-63.3963\" font-family=\"Times,serif\" font-size=\"14.00\" fill=\"#000000\">0</text>\n",
       "</g>\n",
       "</g>\n",
       "</svg>\n"
      ]
     },
     "metadata": {},
     "output_type": "display_data"
    }
   ],
   "source": [
    "-- 1이 나타는 회수가 3으로 나눈 나머지 1인 경우를 받아들임\n",
    "m1 = DFA ([\"p0\",\"p1\",\"p2\"],[0,1], d1, \"p0\", [\"p1\"])\n",
    "    where\n",
    "    d1(\"p0\",0) = \"p0\"; d1(\"p0\",1) = \"p1\"\n",
    "    d1(\"p1\",0) = \"p1\"; d1(\"p1\",1) = \"p2\"\n",
    "    d1(\"p2\",0) = \"p2\"; d1(\"p2\",1) = \"p0\"\n",
    "m1\n",
    "drawDFA m1"
   ]
  },
  {
   "cell_type": "code",
   "execution_count": 16,
   "metadata": {},
   "outputs": [
    {
     "data": {
      "text/plain": [
       "([\"p0\",\"p1\",\"p2\"],[0,1],[((\"p0\",0),\"p0\"),((\"p0\",1),\"p1\"),((\"p1\",0),\"p1\"),((\"p1\",1),\"p2\"),((\"p2\",0),\"p2\"),((\"p2\",1),\"p0\")],\"p0\",[\"p1\"])"
      ]
     },
     "metadata": {},
     "output_type": "display_data"
    },
    {
     "data": {
      "image/svg+xml": [
       "<?xml version=\"1.0\" encoding=\"UTF-8\" standalone=\"no\"?>\n",
       "<!DOCTYPE svg PUBLIC \"-//W3C//DTD SVG 1.1//EN\"\n",
       " \"http://www.w3.org/Graphics/SVG/1.1/DTD/svg11.dtd\">\n",
       "<!-- Generated by graphviz version 2.40.1 (20161225.0304)\n",
       " -->\n",
       "<!-- Title: %3 Pages: 1 -->\n",
       "<svg width=\"181pt\" height=\"91pt\"\n",
       " viewBox=\"0.00 0.00 181.19 90.60\" xmlns=\"http://www.w3.org/2000/svg\" xmlns:xlink=\"http://www.w3.org/1999/xlink\">\n",
       "<g id=\"graph0\" class=\"graph\" transform=\"scale(1 1) rotate(0) translate(4 86.5963)\">\n",
       "<title>%3</title>\n",
       "<polygon fill=\"#ffffff\" stroke=\"transparent\" points=\"-4,4 -4,-86.5963 177.1926,-86.5963 177.1926,4 -4,4\"/>\n",
       "<!-- thestart -->\n",
       "<g id=\"node1\" class=\"node\">\n",
       "<title>thestart</title>\n",
       "</g>\n",
       "<!-- 0 -->\n",
       "<g id=\"node2\" class=\"node\">\n",
       "<title>0</title>\n",
       "<ellipse fill=\"none\" stroke=\"#000000\" cx=\"58.7982\" cy=\"-24.7982\" rx=\"20.5982\" ry=\"20.5982\"/>\n",
       "<text text-anchor=\"middle\" x=\"58.7982\" y=\"-21.0982\" font-family=\"Times,serif\" font-size=\"14.00\" fill=\"#000000\">q0</text>\n",
       "</g>\n",
       "<!-- thestart&#45;&gt;0 -->\n",
       "<g id=\"edge1\" class=\"edge\">\n",
       "<title>thestart&#45;&gt;0</title>\n",
       "<path fill=\"none\" stroke=\"#000000\" d=\"M1.1547,-24.7982C3.9889,-24.7982 15.602,-24.7982 27.6696,-24.7982\"/>\n",
       "<polygon fill=\"#000000\" stroke=\"#000000\" points=\"27.7306,-28.2983 37.7306,-24.7982 27.7305,-21.2983 27.7306,-28.2983\"/>\n",
       "</g>\n",
       "<!-- 0&#45;&gt;0 -->\n",
       "<g id=\"edge2\" class=\"edge\">\n",
       "<title>0&#45;&gt;0</title>\n",
       "<path fill=\"none\" stroke=\"#000000\" d=\"M51.8836,-44.7606C50.9269,-54.7161 53.2317,-63.5963 58.7982,-63.5963 62.2772,-63.5963 64.4821,-60.1275 65.413,-55.0953\"/>\n",
       "<polygon fill=\"#000000\" stroke=\"#000000\" points=\"68.9213,-54.8579 65.7127,-44.7606 61.9242,-54.6549 68.9213,-54.8579\"/>\n",
       "<text text-anchor=\"middle\" x=\"58.7982\" y=\"-67.3963\" font-family=\"Times,serif\" font-size=\"14.00\" fill=\"#000000\">0</text>\n",
       "</g>\n",
       "<!-- 1 -->\n",
       "<g id=\"node3\" class=\"node\">\n",
       "<title>1</title>\n",
       "<ellipse fill=\"none\" stroke=\"#000000\" cx=\"148.3945\" cy=\"-24.7982\" rx=\"20.6302\" ry=\"20.6302\"/>\n",
       "<ellipse fill=\"none\" stroke=\"#000000\" cx=\"148.3945\" cy=\"-24.7982\" rx=\"24.5979\" ry=\"24.5979\"/>\n",
       "<text text-anchor=\"middle\" x=\"148.3945\" y=\"-21.0982\" font-family=\"Times,serif\" font-size=\"14.00\" fill=\"#000000\">q1</text>\n",
       "</g>\n",
       "<!-- 0&#45;&gt;1 -->\n",
       "<g id=\"edge3\" class=\"edge\">\n",
       "<title>0&#45;&gt;1</title>\n",
       "<path fill=\"none\" stroke=\"#000000\" d=\"M80.0312,-24.7982C90.0153,-24.7982 102.1825,-24.7982 113.4696,-24.7982\"/>\n",
       "<polygon fill=\"#000000\" stroke=\"#000000\" points=\"113.5002,-28.2983 123.5001,-24.7982 113.5001,-21.2983 113.5002,-28.2983\"/>\n",
       "<text text-anchor=\"middle\" x=\"101.5963\" y=\"-28.5982\" font-family=\"Times,serif\" font-size=\"14.00\" fill=\"#000000\">1</text>\n",
       "</g>\n",
       "<!-- 1&#45;&gt;0 -->\n",
       "<g id=\"edge5\" class=\"edge\">\n",
       "<title>1&#45;&gt;0</title>\n",
       "<path fill=\"none\" stroke=\"#000000\" d=\"M127.5187,-11.0261C118.4842,-6.6394 107.6864,-3.4602 97.5963,-5.7982 93.6805,-6.7055 89.7038,-8.0657 85.8633,-9.6493\"/>\n",
       "<polygon fill=\"#000000\" stroke=\"#000000\" points=\"84.2951,-6.5186 76.7097,-13.9155 87.2522,-12.8634 84.2951,-6.5186\"/>\n",
       "<text text-anchor=\"middle\" x=\"101.5963\" y=\"-9.5982\" font-family=\"Times,serif\" font-size=\"14.00\" fill=\"#000000\">1</text>\n",
       "</g>\n",
       "<!-- 1&#45;&gt;1 -->\n",
       "<g id=\"edge4\" class=\"edge\">\n",
       "<title>1&#45;&gt;1</title>\n",
       "<path fill=\"none\" stroke=\"#000000\" d=\"M139.9042,-48.1303C139.0956,-58.5686 141.9257,-67.5963 148.3945,-67.5963 152.5385,-67.5963 155.1892,-63.8913 156.3467,-58.484\"/>\n",
       "<polygon fill=\"#000000\" stroke=\"#000000\" points=\"159.8609,-58.2984 156.8847,-48.1303 152.8704,-57.9351 159.8609,-58.2984\"/>\n",
       "<text text-anchor=\"middle\" x=\"148.3945\" y=\"-71.3963\" font-family=\"Times,serif\" font-size=\"14.00\" fill=\"#000000\">0</text>\n",
       "</g>\n",
       "</g>\n",
       "</svg>\n"
      ]
     },
     "metadata": {},
     "output_type": "display_data"
    }
   ],
   "source": [
    "-- 1이 나타는 회수가 홀수인 경우를 받아들임\n",
    "m2 = DFA ([\"q0\",\"q1\"],     [0,1], d2, \"q0\", [\"q1\"])\n",
    "    where\n",
    "    d2(\"q0\",0) = \"q0\"; d2(\"q0\",1) = \"q1\"\n",
    "    d2(\"q1\",0) = \"q1\"; d2(\"q1\",1) = \"q0\"\n",
    "m1\n",
    "drawDFA m2"
   ]
  },
  {
   "cell_type": "code",
   "execution_count": 17,
   "metadata": {},
   "outputs": [
    {
     "data": {
      "text/plain": [
       "([(\"p0\",\"q0\"),(\"p0\",\"q1\"),(\"p1\",\"q0\"),(\"p1\",\"q1\"),(\"p2\",\"q0\"),(\"p2\",\"q1\")],[0,1],[(((\"p0\",\"q0\"),0),(\"p0\",\"q0\")),(((\"p0\",\"q0\"),1),(\"p1\",\"q1\")),(((\"p0\",\"q1\"),0),(\"p0\",\"q1\")),(((\"p0\",\"q1\"),1),(\"p1\",\"q0\")),(((\"p1\",\"q0\"),0),(\"p1\",\"q0\")),(((\"p1\",\"q0\"),1),(\"p2\",\"q1\")),(((\"p1\",\"q1\"),0),(\"p1\",\"q1\")),(((\"p1\",\"q1\"),1),(\"p2\",\"q0\")),(((\"p2\",\"q0\"),0),(\"p2\",\"q0\")),(((\"p2\",\"q0\"),1),(\"p0\",\"q1\")),(((\"p2\",\"q1\"),0),(\"p2\",\"q1\")),(((\"p2\",\"q1\"),1),(\"p0\",\"q0\"))],(\"p0\",\"q0\"),[(\"p0\",\"q1\"),(\"p1\",\"q0\"),(\"p1\",\"q1\"),(\"p2\",\"q1\")])"
      ]
     },
     "metadata": {},
     "output_type": "display_data"
    },
    {
     "data": {
      "image/svg+xml": [
       "<?xml version=\"1.0\" encoding=\"UTF-8\" standalone=\"no\"?>\n",
       "<!DOCTYPE svg PUBLIC \"-//W3C//DTD SVG 1.1//EN\"\n",
       " \"http://www.w3.org/Graphics/SVG/1.1/DTD/svg11.dtd\">\n",
       "<!-- Generated by graphviz version 2.40.1 (20161225.0304)\n",
       " -->\n",
       "<!-- Title: %3 Pages: 1 -->\n",
       "<svg width=\"758pt\" height=\"180pt\"\n",
       " viewBox=\"0.00 0.00 758.16 179.69\" xmlns=\"http://www.w3.org/2000/svg\" xmlns:xlink=\"http://www.w3.org/1999/xlink\">\n",
       "<g id=\"graph0\" class=\"graph\" transform=\"scale(1 1) rotate(0) translate(4 175.6932)\">\n",
       "<title>%3</title>\n",
       "<polygon fill=\"#ffffff\" stroke=\"transparent\" points=\"-4,4 -4,-175.6932 754.1592,-175.6932 754.1592,4 -4,4\"/>\n",
       "<!-- thestart -->\n",
       "<g id=\"node1\" class=\"node\">\n",
       "<title>thestart</title>\n",
       "</g>\n",
       "<!-- 0 -->\n",
       "<g id=\"node2\" class=\"node\">\n",
       "<title>0</title>\n",
       "<ellipse fill=\"none\" stroke=\"#000000\" cx=\"76.3466\" cy=\"-42.3466\" rx=\"38.1938\" ry=\"38.1938\"/>\n",
       "<text text-anchor=\"middle\" x=\"76.3466\" y=\"-38.6466\" font-family=\"Times,serif\" font-size=\"14.00\" fill=\"#000000\">(p0,q0)</text>\n",
       "</g>\n",
       "<!-- thestart&#45;&gt;0 -->\n",
       "<g id=\"edge1\" class=\"edge\">\n",
       "<title>thestart&#45;&gt;0</title>\n",
       "<path fill=\"none\" stroke=\"#000000\" d=\"M1.3518,-42.3466C4.3825,-42.3466 15.1292,-42.3466 27.5783,-42.3466\"/>\n",
       "<polygon fill=\"#000000\" stroke=\"#000000\" points=\"27.8123,-45.8467 37.8123,-42.3466 27.8122,-38.8467 27.8123,-45.8467\"/>\n",
       "</g>\n",
       "<!-- 0&#45;&gt;0 -->\n",
       "<g id=\"edge2\" class=\"edge\">\n",
       "<title>0&#45;&gt;0</title>\n",
       "<path fill=\"none\" stroke=\"#000000\" d=\"M65.878,-79.4669C66.2399,-90.3012 69.7294,-98.6932 76.3466,-98.6932 80.6891,-98.6932 83.6847,-95.079 85.3333,-89.5323\"/>\n",
       "<polygon fill=\"#000000\" stroke=\"#000000\" points=\"88.8212,-89.8701 86.8152,-79.4669 81.8959,-88.8504 88.8212,-89.8701\"/>\n",
       "<text text-anchor=\"middle\" x=\"76.3466\" y=\"-102.4932\" font-family=\"Times,serif\" font-size=\"14.00\" fill=\"#000000\">0</text>\n",
       "</g>\n",
       "<!-- 3 -->\n",
       "<g id=\"node5\" class=\"node\">\n",
       "<title>3</title>\n",
       "<ellipse fill=\"none\" stroke=\"#000000\" cx=\"201.0398\" cy=\"-96.3466\" rx=\"38.2082\" ry=\"38.2082\"/>\n",
       "<ellipse fill=\"none\" stroke=\"#000000\" cx=\"201.0398\" cy=\"-96.3466\" rx=\"42.1937\" ry=\"42.1937\"/>\n",
       "<text text-anchor=\"middle\" x=\"201.0398\" y=\"-92.6466\" font-family=\"Times,serif\" font-size=\"14.00\" fill=\"#000000\">(p1,q1)</text>\n",
       "</g>\n",
       "<!-- 0&#45;&gt;3 -->\n",
       "<g id=\"edge3\" class=\"edge\">\n",
       "<title>0&#45;&gt;3</title>\n",
       "<path fill=\"none\" stroke=\"#000000\" d=\"M111.7451,-57.6764C124.4984,-63.1994 139.1145,-69.529 152.7782,-75.4463\"/>\n",
       "<polygon fill=\"#000000\" stroke=\"#000000\" points=\"151.4836,-78.6997 162.051,-79.462 154.2654,-72.2762 151.4836,-78.6997\"/>\n",
       "<text text-anchor=\"middle\" x=\"136.6932\" y=\"-73.1466\" font-family=\"Times,serif\" font-size=\"14.00\" fill=\"#000000\">1</text>\n",
       "</g>\n",
       "<!-- 1 -->\n",
       "<g id=\"node3\" class=\"node\">\n",
       "<title>1</title>\n",
       "<ellipse fill=\"none\" stroke=\"#000000\" cx=\"450.4262\" cy=\"-96.3466\" rx=\"38.2082\" ry=\"38.2082\"/>\n",
       "<ellipse fill=\"none\" stroke=\"#000000\" cx=\"450.4262\" cy=\"-96.3466\" rx=\"42.1937\" ry=\"42.1937\"/>\n",
       "<text text-anchor=\"middle\" x=\"450.4262\" y=\"-92.6466\" font-family=\"Times,serif\" font-size=\"14.00\" fill=\"#000000\">(p0,q1)</text>\n",
       "</g>\n",
       "<!-- 1&#45;&gt;1 -->\n",
       "<g id=\"edge4\" class=\"edge\">\n",
       "<title>1&#45;&gt;1</title>\n",
       "<path fill=\"none\" stroke=\"#000000\" d=\"M438.5148,-137.244C439.1432,-148.2898 443.1137,-156.6932 450.4262,-156.6932 455.225,-156.6932 458.5845,-153.0742 460.5048,-147.4643\"/>\n",
       "<polygon fill=\"#000000\" stroke=\"#000000\" points=\"464.0174,-147.7048 462.3376,-137.244 457.1273,-146.4692 464.0174,-147.7048\"/>\n",
       "<text text-anchor=\"middle\" x=\"450.4262\" y=\"-160.4932\" font-family=\"Times,serif\" font-size=\"14.00\" fill=\"#000000\">0</text>\n",
       "</g>\n",
       "<!-- 2 -->\n",
       "<g id=\"node4\" class=\"node\">\n",
       "<title>2</title>\n",
       "<ellipse fill=\"none\" stroke=\"#000000\" cx=\"579.1194\" cy=\"-96.3466\" rx=\"38.2082\" ry=\"38.2082\"/>\n",
       "<ellipse fill=\"none\" stroke=\"#000000\" cx=\"579.1194\" cy=\"-96.3466\" rx=\"42.1937\" ry=\"42.1937\"/>\n",
       "<text text-anchor=\"middle\" x=\"579.1194\" y=\"-92.6466\" font-family=\"Times,serif\" font-size=\"14.00\" fill=\"#000000\">(p1,q0)</text>\n",
       "</g>\n",
       "<!-- 1&#45;&gt;2 -->\n",
       "<g id=\"edge5\" class=\"edge\">\n",
       "<title>1&#45;&gt;2</title>\n",
       "<path fill=\"none\" stroke=\"#000000\" d=\"M492.9218,-96.3466C503.6842,-96.3466 515.3721,-96.3466 526.5668,-96.3466\"/>\n",
       "<polygon fill=\"#000000\" stroke=\"#000000\" points=\"526.6684,-99.8467 536.6684,-96.3466 526.6683,-92.8467 526.6684,-99.8467\"/>\n",
       "<text text-anchor=\"middle\" x=\"514.7728\" y=\"-100.1466\" font-family=\"Times,serif\" font-size=\"14.00\" fill=\"#000000\">1</text>\n",
       "</g>\n",
       "<!-- 2&#45;&gt;2 -->\n",
       "<g id=\"edge6\" class=\"edge\">\n",
       "<title>2&#45;&gt;2</title>\n",
       "<path fill=\"none\" stroke=\"#000000\" d=\"M567.208,-137.244C567.8364,-148.2898 571.8069,-156.6932 579.1194,-156.6932 583.9182,-156.6932 587.2777,-153.0742 589.198,-147.4643\"/>\n",
       "<polygon fill=\"#000000\" stroke=\"#000000\" points=\"592.7106,-147.7048 591.0308,-137.244 585.8205,-146.4692 592.7106,-147.7048\"/>\n",
       "<text text-anchor=\"middle\" x=\"579.1194\" y=\"-160.4932\" font-family=\"Times,serif\" font-size=\"14.00\" fill=\"#000000\">0</text>\n",
       "</g>\n",
       "<!-- 5 -->\n",
       "<g id=\"node7\" class=\"node\">\n",
       "<title>5</title>\n",
       "<ellipse fill=\"none\" stroke=\"#000000\" cx=\"707.8126\" cy=\"-42.3466\" rx=\"38.2082\" ry=\"38.2082\"/>\n",
       "<ellipse fill=\"none\" stroke=\"#000000\" cx=\"707.8126\" cy=\"-42.3466\" rx=\"42.1937\" ry=\"42.1937\"/>\n",
       "<text text-anchor=\"middle\" x=\"707.8126\" y=\"-38.6466\" font-family=\"Times,serif\" font-size=\"14.00\" fill=\"#000000\">(p2,q1)</text>\n",
       "</g>\n",
       "<!-- 2&#45;&gt;5 -->\n",
       "<g id=\"edge7\" class=\"edge\">\n",
       "<title>2&#45;&gt;5</title>\n",
       "<path fill=\"none\" stroke=\"#000000\" d=\"M618.4309,-79.8514C631.2788,-74.4604 645.7044,-68.4073 659.1558,-62.7631\"/>\n",
       "<polygon fill=\"#000000\" stroke=\"#000000\" points=\"660.8749,-65.8375 668.7418,-58.7408 658.1664,-59.3827 660.8749,-65.8375\"/>\n",
       "<text text-anchor=\"middle\" x=\"643.466\" y=\"-74.1466\" font-family=\"Times,serif\" font-size=\"14.00\" fill=\"#000000\">1</text>\n",
       "</g>\n",
       "<!-- 3&#45;&gt;3 -->\n",
       "<g id=\"edge8\" class=\"edge\">\n",
       "<title>3&#45;&gt;3</title>\n",
       "<path fill=\"none\" stroke=\"#000000\" d=\"M189.1284,-137.244C189.7568,-148.2898 193.7273,-156.6932 201.0398,-156.6932 205.8386,-156.6932 209.1982,-153.0742 211.1184,-147.4643\"/>\n",
       "<polygon fill=\"#000000\" stroke=\"#000000\" points=\"214.631,-147.7048 212.9512,-137.244 207.7409,-146.4692 214.631,-147.7048\"/>\n",
       "<text text-anchor=\"middle\" x=\"201.0398\" y=\"-160.4932\" font-family=\"Times,serif\" font-size=\"14.00\" fill=\"#000000\">0</text>\n",
       "</g>\n",
       "<!-- 4 -->\n",
       "<g id=\"node6\" class=\"node\">\n",
       "<title>4</title>\n",
       "<ellipse fill=\"none\" stroke=\"#000000\" cx=\"325.733\" cy=\"-96.3466\" rx=\"38.1938\" ry=\"38.1938\"/>\n",
       "<text text-anchor=\"middle\" x=\"325.733\" y=\"-92.6466\" font-family=\"Times,serif\" font-size=\"14.00\" fill=\"#000000\">(p2,q0)</text>\n",
       "</g>\n",
       "<!-- 3&#45;&gt;4 -->\n",
       "<g id=\"edge9\" class=\"edge\">\n",
       "<title>3&#45;&gt;4</title>\n",
       "<path fill=\"none\" stroke=\"#000000\" d=\"M243.6034,-96.3466C254.2964,-96.3466 265.8556,-96.3466 276.8311,-96.3466\"/>\n",
       "<polygon fill=\"#000000\" stroke=\"#000000\" points=\"277.1279,-99.8467 287.1279,-96.3466 277.1279,-92.8467 277.1279,-99.8467\"/>\n",
       "<text text-anchor=\"middle\" x=\"265.3864\" y=\"-100.1466\" font-family=\"Times,serif\" font-size=\"14.00\" fill=\"#000000\">1</text>\n",
       "</g>\n",
       "<!-- 4&#45;&gt;1 -->\n",
       "<g id=\"edge11\" class=\"edge\">\n",
       "<title>4&#45;&gt;1</title>\n",
       "<path fill=\"none\" stroke=\"#000000\" d=\"M364.1625,-96.3466C374.7912,-96.3466 386.5128,-96.3466 397.7989,-96.3466\"/>\n",
       "<polygon fill=\"#000000\" stroke=\"#000000\" points=\"397.9974,-99.8467 407.9973,-96.3466 397.9973,-92.8467 397.9974,-99.8467\"/>\n",
       "<text text-anchor=\"middle\" x=\"386.0796\" y=\"-100.1466\" font-family=\"Times,serif\" font-size=\"14.00\" fill=\"#000000\">1</text>\n",
       "</g>\n",
       "<!-- 4&#45;&gt;4 -->\n",
       "<g id=\"edge10\" class=\"edge\">\n",
       "<title>4&#45;&gt;4</title>\n",
       "<path fill=\"none\" stroke=\"#000000\" d=\"M314.5077,-133.1978C314.8428,-144.1619 318.5845,-152.6932 325.733,-152.6932 330.4241,-152.6932 333.6482,-149.0191 335.4051,-143.3944\"/>\n",
       "<polygon fill=\"#000000\" stroke=\"#000000\" points=\"338.9124,-143.6109 336.9583,-133.1978 331.9922,-142.5567 338.9124,-143.6109\"/>\n",
       "<text text-anchor=\"middle\" x=\"325.733\" y=\"-156.4932\" font-family=\"Times,serif\" font-size=\"14.00\" fill=\"#000000\">0</text>\n",
       "</g>\n",
       "<!-- 5&#45;&gt;0 -->\n",
       "<g id=\"edge13\" class=\"edge\">\n",
       "<title>5&#45;&gt;0</title>\n",
       "<path fill=\"none\" stroke=\"#000000\" d=\"M665.9548,-34.4872C640.8659,-30.4409 608.2758,-26.3466 579.1194,-26.3466 201.0398,-26.3466 201.0398,-26.3466 201.0398,-26.3466 175.4684,-26.3466 147.1855,-29.6979 124.029,-33.333\"/>\n",
       "<polygon fill=\"#000000\" stroke=\"#000000\" points=\"123.4147,-29.8869 114.1109,-34.9554 124.5448,-36.795 123.4147,-29.8869\"/>\n",
       "<text text-anchor=\"middle\" x=\"386.0796\" y=\"-30.1466\" font-family=\"Times,serif\" font-size=\"14.00\" fill=\"#000000\">1</text>\n",
       "</g>\n",
       "<!-- 5&#45;&gt;5 -->\n",
       "<g id=\"edge12\" class=\"edge\">\n",
       "<title>5&#45;&gt;5</title>\n",
       "<path fill=\"none\" stroke=\"#000000\" d=\"M695.9012,-83.244C696.5296,-94.2898 700.5001,-102.6932 707.8126,-102.6932 712.6114,-102.6932 715.9709,-99.0742 717.8912,-93.4643\"/>\n",
       "<polygon fill=\"#000000\" stroke=\"#000000\" points=\"721.4038,-93.7048 719.7239,-83.244 714.5137,-92.4692 721.4038,-93.7048\"/>\n",
       "<text text-anchor=\"middle\" x=\"707.8126\" y=\"-106.4932\" font-family=\"Times,serif\" font-size=\"14.00\" fill=\"#000000\">0</text>\n",
       "</g>\n",
       "</g>\n",
       "</svg>\n"
      ]
     },
     "metadata": {},
     "output_type": "display_data"
    }
   ],
   "source": [
    "-- 1이 나타나는 회수가 6으로 나눈 나머지 1,3,4,5인 경우를 받아들임\n",
    "m = unionDFA m1 m2\n",
    "\n",
    "m\n",
    "\n",
    "drawDFA m"
   ]
  },
  {
   "cell_type": "markdown",
   "metadata": {},
   "source": [
    "----\n",
    "## 1.2 Nondeterminism\n",
    "\n",
    "정규언어가 union 말고 나머지 두 정규연산인 concatenation과 star에 대해서도 닫혀있다는 것을 보이는 데\n",
    "비결정적 유한오토마타(nondeterministic finite automata, NFA)를 써먹을 수 있다."
   ]
  },
  {
   "cell_type": "markdown",
   "metadata": {},
   "source": [
    "### Formal defintion of a nondeterministic finite automata\n",
    "\n",
    "* Definition 1.37\n",
    "\n",
    "  비결정적 유한오토마타란 $(Q,\\Sigma,\\delta,q_0,F)$의 5-튜플이며, 이 때\n",
    "    1. $Q$ 상태(state)의 유한집합\n",
    "    1. $\\Sigma$ 알파벳 - 심볼(symbol)의 유한집합\n",
    "    1. $\\delta : Q\\times\\Sigma_\\varepsilon \\to Q$ 전이함수(transition funciton). 여기서 $\\Sigma_\\varepsilon = \\Sigma\\cup\\{\\varepsilon\\}$\n",
    "    1. $q_0 \\in Q$ 시작 상태(start state)\n",
    "    1. $F \\subseteq Q$ 종료상태(final state)의 집합"
   ]
  },
  {
   "cell_type": "code",
   "execution_count": 18,
   "metadata": {},
   "outputs": [],
   "source": [
    "newtype NFA q a = NFA ([q], [a], (q,[a]) -> [q], q, [q])\n",
    "{-\n",
    "   q 상태의 타입\n",
    "   a 심볼의 타입\n",
    "   [q] 상태가 여러 개 나열된 타입 (집합 대신 그냥 리스트로 표현)\n",
    "   [a] 심볼이 여러 개 나열된 타입 (집합 대신 그냥 리스트로 표현)\n",
    "   \n",
    "   전이함수의 타입은 사실 (q,Maybe a) -> [q] 가 좀더 정확하지만\n",
    "   그냥 [a]를 Maybe a대신에 쓰되 원소가 없거나 1개가 들어있는 리스트만 고려한다\n",
    "   이건 그냥 []가 Nothing보다 짧고 [x]가 Just x보다 타이핑하기 짧아서 ... \n",
    "-}\n",
    "\n",
    "instance (Show q, Show a) => Show (NFA q a) where\n",
    "  show (NFA (qs,as,d,q0,fs)) = show (qs,as,dtbl,q0,fs)\n",
    "      where dtbl = d2tblNFA qs as d\n",
    "\n",
    "-- 문자열은 아니지만 문자열로 변환/역변환 가능한 상태 타입의 DFA를\n",
    "-- 같은 기능을 하는 String 상태 타입의 DFA로 변환\n",
    "-- (q와 문자열 사이의 변환이 1:1이라는 가정한다)\n",
    "toStringNFA :: (Read q, Show q) => NFA q a -> NFA String a\n",
    "toStringNFA (NFA (qs,as,d,q0,fs)) = NFA (qs',as,d',q0',fs')\n",
    "    where\n",
    "    qs' = map show qs\n",
    "    fs' = map show fs\n",
    "    q0' = show q0\n",
    "    d'(r,x) = map show $ d(read r,x)\n",
    "\n",
    "-- 전이함수를 순서쌍 데이타로\n",
    "d2tblNFA qs as d = [((q,x), d(q,x)) | q<-qs, x<-[[a] |a<-as]++[[]]]"
   ]
  },
  {
   "cell_type": "code",
   "execution_count": 19,
   "metadata": {},
   "outputs": [],
   "source": [
    "import Data.Maybe (fromJust)\n",
    "import Data.List (elemIndex, groupBy, intercalate)\n",
    "\n",
    "import IHaskell.Display.Graphviz\n",
    "-- dot \"digraph { l -> o; o -> v; v -> e; h -> a ; a -> s; s -> k ; k -> e ; e -> l ; l -> l}\"\n",
    "\n",
    "nfa2graph :: (Eq q, Show q, Show a) => NFA q a -> String\n",
    "nfa2graph (NFA (qs,as,d,q0,fs))\n",
    "     = \"digraph { node [shape=circle]; rankdir=LR; \"\n",
    "    ++ \"thestart [shape=none label=\\\"\\\" width=0]; \"\n",
    "    ++ \"thestart -> \"++show(q2i q0)++\"; \"\n",
    "    ++ concat [show i++\" [label=\\\"\"++(filter (/='\"') . show $ i2q i)++\"\\\"]; \" | i<-is]\n",
    "    ++ concat [show(q2i q)++\" [shape=doublecircle]; \" | q<-fs]\n",
    "    -- ++ concat [show i++\" -> \"++show(d'(i,a))++\" [label=\\\"\"++show a++\"\\\"]; \" | i<-is, a<-as] -- 각각 라벨\n",
    "    ++ concat [ show i++\" -> \"++show j++\" [label=\\\"\"++showls ls++\"\\\"]; \" | ((i,j),ls) <-es] -- 같은 시작/끝 점 모아 라벨\n",
    "    ++ \"}\"\n",
    "    where\n",
    "    is = [0 .. length qs-1]\n",
    "    q2i q = fromJust $ elemIndex q qs\n",
    "    i2q i = qs !! i\n",
    "    d'(i,x) = map q2i $ d(i2q i,x)\n",
    "    es = map collectSnd $ groupByFst [((i,j), x) | i<-is, x<-[[a]|a<-as]++[[]], j<-d'(i,x)]\n",
    "    showls = intercalate \",\" . map (\\l -> if null l then \"ε\" else show(head l))\n",
    "\n",
    "groupByFst = groupBy (\\(x1,_) (x2,_) -> x1==x2)\n",
    "collectSnd ps = (x, ls)\n",
    "    where (x:_, ls) = unzip ps\n",
    "\n",
    "drawNFA :: (Eq q, Show q, Show a) => NFA q a -> Graphviz\n",
    "drawNFA = dot . nfa2graph"
   ]
  },
  {
   "cell_type": "code",
   "execution_count": 20,
   "metadata": {},
   "outputs": [
    {
     "data": {
      "text/plain": [
       "([\"q1\",\"q2\",\"q3\",\"q4\"],[0,1],[((\"q1\",[0]),[\"q1\"]),((\"q1\",[1]),[\"q1\",\"q2\"]),((\"q1\",[]),[]),((\"q2\",[0]),[]),((\"q2\",[1]),[\"q3\"]),((\"q2\",[]),[]),((\"q3\",[0]),[]),((\"q3\",[1]),[\"q4\"]),((\"q3\",[]),[\"q3\"]),((\"q4\",[0]),[\"q4\"]),((\"q4\",[1]),[\"q4\"]),((\"q4\",[]),[])],\"q1\",[\"q4\"])"
      ]
     },
     "metadata": {},
     "output_type": "display_data"
    },
    {
     "data": {
      "image/svg+xml": [
       "<?xml version=\"1.0\" encoding=\"UTF-8\" standalone=\"no\"?>\n",
       "<!DOCTYPE svg PUBLIC \"-//W3C//DTD SVG 1.1//EN\"\n",
       " \"http://www.w3.org/Graphics/SVG/1.1/DTD/svg11.dtd\">\n",
       "<!-- Generated by graphviz version 2.40.1 (20161225.0304)\n",
       " -->\n",
       "<!-- Title: %3 Pages: 1 -->\n",
       "<svg width=\"352pt\" height=\"91pt\"\n",
       " viewBox=\"0.00 0.00 352.39 90.60\" xmlns=\"http://www.w3.org/2000/svg\" xmlns:xlink=\"http://www.w3.org/1999/xlink\">\n",
       "<g id=\"graph0\" class=\"graph\" transform=\"scale(1 1) rotate(0) translate(4 86.5963)\">\n",
       "<title>%3</title>\n",
       "<polygon fill=\"#ffffff\" stroke=\"transparent\" points=\"-4,4 -4,-86.5963 348.3852,-86.5963 348.3852,4 -4,4\"/>\n",
       "<!-- thestart -->\n",
       "<g id=\"node1\" class=\"node\">\n",
       "<title>thestart</title>\n",
       "</g>\n",
       "<!-- 0 -->\n",
       "<g id=\"node2\" class=\"node\">\n",
       "<title>0</title>\n",
       "<ellipse fill=\"none\" stroke=\"#000000\" cx=\"58.7982\" cy=\"-24.7982\" rx=\"20.5982\" ry=\"20.5982\"/>\n",
       "<text text-anchor=\"middle\" x=\"58.7982\" y=\"-21.0982\" font-family=\"Times,serif\" font-size=\"14.00\" fill=\"#000000\">q1</text>\n",
       "</g>\n",
       "<!-- thestart&#45;&gt;0 -->\n",
       "<g id=\"edge1\" class=\"edge\">\n",
       "<title>thestart&#45;&gt;0</title>\n",
       "<path fill=\"none\" stroke=\"#000000\" d=\"M1.1547,-24.7982C3.9889,-24.7982 15.602,-24.7982 27.6696,-24.7982\"/>\n",
       "<polygon fill=\"#000000\" stroke=\"#000000\" points=\"27.7306,-28.2983 37.7306,-24.7982 27.7305,-21.2983 27.7306,-28.2983\"/>\n",
       "</g>\n",
       "<!-- 0&#45;&gt;0 -->\n",
       "<g id=\"edge2\" class=\"edge\">\n",
       "<title>0&#45;&gt;0</title>\n",
       "<path fill=\"none\" stroke=\"#000000\" d=\"M51.8836,-44.7606C50.9269,-54.7161 53.2317,-63.5963 58.7982,-63.5963 62.2772,-63.5963 64.4821,-60.1275 65.413,-55.0953\"/>\n",
       "<polygon fill=\"#000000\" stroke=\"#000000\" points=\"68.9213,-54.8579 65.7127,-44.7606 61.9242,-54.6549 68.9213,-54.8579\"/>\n",
       "<text text-anchor=\"middle\" x=\"58.7982\" y=\"-67.3963\" font-family=\"Times,serif\" font-size=\"14.00\" fill=\"#000000\">0,1</text>\n",
       "</g>\n",
       "<!-- 1 -->\n",
       "<g id=\"node3\" class=\"node\">\n",
       "<title>1</title>\n",
       "<ellipse fill=\"none\" stroke=\"#000000\" cx=\"144.3945\" cy=\"-24.7982\" rx=\"20.5982\" ry=\"20.5982\"/>\n",
       "<text text-anchor=\"middle\" x=\"144.3945\" y=\"-21.0982\" font-family=\"Times,serif\" font-size=\"14.00\" fill=\"#000000\">q2</text>\n",
       "</g>\n",
       "<!-- 0&#45;&gt;1 -->\n",
       "<g id=\"edge3\" class=\"edge\">\n",
       "<title>0&#45;&gt;1</title>\n",
       "<path fill=\"none\" stroke=\"#000000\" d=\"M79.9568,-24.7982C90.0113,-24.7982 102.2282,-24.7982 113.3099,-24.7982\"/>\n",
       "<polygon fill=\"#000000\" stroke=\"#000000\" points=\"113.4792,-28.2983 123.4792,-24.7982 113.4792,-21.2983 113.4792,-28.2983\"/>\n",
       "<text text-anchor=\"middle\" x=\"101.5963\" y=\"-28.5982\" font-family=\"Times,serif\" font-size=\"14.00\" fill=\"#000000\">1</text>\n",
       "</g>\n",
       "<!-- 2 -->\n",
       "<g id=\"node4\" class=\"node\">\n",
       "<title>2</title>\n",
       "<ellipse fill=\"none\" stroke=\"#000000\" cx=\"229.9908\" cy=\"-24.7982\" rx=\"20.5982\" ry=\"20.5982\"/>\n",
       "<text text-anchor=\"middle\" x=\"229.9908\" y=\"-21.0982\" font-family=\"Times,serif\" font-size=\"14.00\" fill=\"#000000\">q3</text>\n",
       "</g>\n",
       "<!-- 1&#45;&gt;2 -->\n",
       "<g id=\"edge4\" class=\"edge\">\n",
       "<title>1&#45;&gt;2</title>\n",
       "<path fill=\"none\" stroke=\"#000000\" d=\"M165.5531,-24.7982C175.6076,-24.7982 187.8245,-24.7982 198.9062,-24.7982\"/>\n",
       "<polygon fill=\"#000000\" stroke=\"#000000\" points=\"199.0756,-28.2983 209.0755,-24.7982 199.0755,-21.2983 199.0756,-28.2983\"/>\n",
       "<text text-anchor=\"middle\" x=\"187.1926\" y=\"-28.5982\" font-family=\"Times,serif\" font-size=\"14.00\" fill=\"#000000\">1</text>\n",
       "</g>\n",
       "<!-- 2&#45;&gt;2 -->\n",
       "<g id=\"edge6\" class=\"edge\">\n",
       "<title>2&#45;&gt;2</title>\n",
       "<path fill=\"none\" stroke=\"#000000\" d=\"M222.3926,-44.3618C221.2237,-54.4777 223.7564,-63.5963 229.9908,-63.5963 233.9847,-63.5963 236.4594,-59.854 237.415,-54.5047\"/>\n",
       "<polygon fill=\"#000000\" stroke=\"#000000\" points=\"240.9168,-54.4204 237.5889,-44.3618 233.9179,-54.3003 240.9168,-54.4204\"/>\n",
       "<text text-anchor=\"middle\" x=\"229.9908\" y=\"-67.3963\" font-family=\"Times,serif\" font-size=\"14.00\" fill=\"#000000\">ε</text>\n",
       "</g>\n",
       "<!-- 3 -->\n",
       "<g id=\"node5\" class=\"node\">\n",
       "<title>3</title>\n",
       "<ellipse fill=\"none\" stroke=\"#000000\" cx=\"319.5871\" cy=\"-24.7982\" rx=\"20.6302\" ry=\"20.6302\"/>\n",
       "<ellipse fill=\"none\" stroke=\"#000000\" cx=\"319.5871\" cy=\"-24.7982\" rx=\"24.5979\" ry=\"24.5979\"/>\n",
       "<text text-anchor=\"middle\" x=\"319.5871\" y=\"-21.0982\" font-family=\"Times,serif\" font-size=\"14.00\" fill=\"#000000\">q4</text>\n",
       "</g>\n",
       "<!-- 2&#45;&gt;3 -->\n",
       "<g id=\"edge5\" class=\"edge\">\n",
       "<title>2&#45;&gt;3</title>\n",
       "<path fill=\"none\" stroke=\"#000000\" d=\"M251.2238,-24.7982C261.2079,-24.7982 273.3751,-24.7982 284.6622,-24.7982\"/>\n",
       "<polygon fill=\"#000000\" stroke=\"#000000\" points=\"284.6928,-28.2983 294.6927,-24.7982 284.6927,-21.2983 284.6928,-28.2983\"/>\n",
       "<text text-anchor=\"middle\" x=\"272.7889\" y=\"-28.5982\" font-family=\"Times,serif\" font-size=\"14.00\" fill=\"#000000\">1</text>\n",
       "</g>\n",
       "<!-- 3&#45;&gt;3 -->\n",
       "<g id=\"edge7\" class=\"edge\">\n",
       "<title>3&#45;&gt;3</title>\n",
       "<path fill=\"none\" stroke=\"#000000\" d=\"M311.0968,-48.1303C310.2883,-58.5686 313.1183,-67.5963 319.5871,-67.5963 323.7311,-67.5963 326.3819,-63.8913 327.5393,-58.484\"/>\n",
       "<polygon fill=\"#000000\" stroke=\"#000000\" points=\"331.0535,-58.2984 328.0773,-48.1303 324.063,-57.9351 331.0535,-58.2984\"/>\n",
       "<text text-anchor=\"middle\" x=\"319.5871\" y=\"-71.3963\" font-family=\"Times,serif\" font-size=\"14.00\" fill=\"#000000\">0,1</text>\n",
       "</g>\n",
       "</g>\n",
       "</svg>\n"
      ]
     },
     "metadata": {},
     "output_type": "display_data"
    }
   ],
   "source": [
    "nfaN1 = NFA ([\"q1\",\"q2\",\"q3\",\"q4\"],[0,1],d,\"q1\",[\"q4\"])\n",
    "    where\n",
    "    d(\"q1\",[0]) = [\"q1\"]\n",
    "    d(\"q1\",[1]) = [\"q1\",\"q2\"]\n",
    "    d(\"q2\",[1]) = [\"q3\"]\n",
    "    d(\"q3\",[] ) = [\"q3\"] -- epsilon move\n",
    "    d(\"q3\",[1]) = [\"q4\"]\n",
    "    d(\"q4\",[0]) = [\"q4\"]\n",
    "    d(\"q4\",[1]) = [\"q4\"]\n",
    "    d( _  , _ ) = []\n",
    "\n",
    "nfaN1\n",
    "\n",
    "drawNFA nfaN1"
   ]
  },
  {
   "cell_type": "code",
   "execution_count": 21,
   "metadata": {},
   "outputs": [],
   "source": [
    "-- nfaN2"
   ]
  },
  {
   "cell_type": "code",
   "execution_count": 22,
   "metadata": {},
   "outputs": [],
   "source": [
    "-- nfaN3"
   ]
  },
  {
   "cell_type": "code",
   "execution_count": 23,
   "metadata": {},
   "outputs": [],
   "source": [
    "-- nfaN4"
   ]
  },
  {
   "cell_type": "code",
   "execution_count": 24,
   "metadata": {},
   "outputs": [],
   "source": [
    "import Data.List (union, intersect)\n",
    "\n",
    "eclosure :: Eq q => ( (q,[a]) -> [q] ) -> [q] -> [q]\n",
    "eclosure d rs\n",
    "    | length rs == length rs' = rs\n",
    "    | otherwise               = eclosure d rs'\n",
    "    where\n",
    "    rs' = foldr1 union $ rs : [d(r,[]) | r<-rs]"
   ]
  },
  {
   "cell_type": "code",
   "execution_count": 34,
   "metadata": {},
   "outputs": [],
   "source": [
    "{-\n",
    "(DFA (_,as,d,q0,fs)) `accepts_` w = not . null $ foldl (uncurry d') [q0] w `intersect` fs\n",
    "    where\n",
    "    eclos = eclosure d\n",
    "    d'(rs,a) = eclos $ concat [d(q,[a]) | q<-eclos rs]\n",
    "-}"
   ]
  },
  {
   "cell_type": "markdown",
   "metadata": {},
   "source": [
    "### Equivalenceof NFAs and DFAs\n",
    "\n",
    "### Closure under the regular operations"
   ]
  },
  {
   "cell_type": "markdown",
   "metadata": {},
   "source": [
    "----\n",
    "## 1.3 Regular Expression\n",
    "\n",
    "### Formal definition of a regular expression\n",
    "\n",
    "### Equivalence with finite automata"
   ]
  },
  {
   "cell_type": "markdown",
   "metadata": {},
   "source": [
    "----\n",
    "## 1.4 Nonregular Languages\n",
    "\n",
    "### The pumping lemma for regular languages"
   ]
  },
  {
   "cell_type": "code",
   "execution_count": null,
   "metadata": {},
   "outputs": [],
   "source": []
  }
 ],
 "metadata": {
  "kernelspec": {
   "display_name": "Haskell",
   "language": "haskell",
   "name": "haskell"
  },
  "language_info": {
   "codemirror_mode": "ihaskell",
   "file_extension": ".hs",
   "name": "haskell",
   "pygments_lexer": "Haskell",
   "version": "8.6.5"
  }
 },
 "nbformat": 4,
 "nbformat_minor": 4
}
